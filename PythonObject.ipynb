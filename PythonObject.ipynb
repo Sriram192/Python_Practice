{
 "cells": [
  {
   "cell_type": "markdown",
   "metadata": {},
   "source": [
    "# Python Objects"
   ]
  },
  {
   "cell_type": "code",
   "execution_count": 2,
   "metadata": {},
   "outputs": [
    {
     "name": "stdout",
     "output_type": "stream",
     "text": [
      "So far 1\n",
      "So far 2\n"
     ]
    }
   ],
   "source": [
    "class PartyAnimal:\n",
    "    x = 0\n",
    "    def party(self):\n",
    "        self.x = self.x + 1\n",
    "        print(\"So far\", self.x)\n",
    "    def _del_(self):\n",
    "an = PartyAnimal()\n",
    "\n",
    "an.party()\n",
    "an.party()\n"
   ]
  },
  {
   "cell_type": "code",
   "execution_count": 3,
   "metadata": {},
   "outputs": [
    {
     "name": "stdout",
     "output_type": "stream",
     "text": [
      "So far 1\n",
      "So far 2\n"
     ]
    }
   ],
   "source": [
    "b = PartyAnimal()\n",
    "b.party()\n",
    "b.party()"
   ]
  },
  {
   "cell_type": "code",
   "execution_count": 4,
   "metadata": {},
   "outputs": [
    {
     "data": {
      "text/plain": [
       "['__add__',\n",
       " '__class__',\n",
       " '__contains__',\n",
       " '__delattr__',\n",
       " '__delitem__',\n",
       " '__dir__',\n",
       " '__doc__',\n",
       " '__eq__',\n",
       " '__format__',\n",
       " '__ge__',\n",
       " '__getattribute__',\n",
       " '__getitem__',\n",
       " '__gt__',\n",
       " '__hash__',\n",
       " '__iadd__',\n",
       " '__imul__',\n",
       " '__init__',\n",
       " '__init_subclass__',\n",
       " '__iter__',\n",
       " '__le__',\n",
       " '__len__',\n",
       " '__lt__',\n",
       " '__mul__',\n",
       " '__ne__',\n",
       " '__new__',\n",
       " '__reduce__',\n",
       " '__reduce_ex__',\n",
       " '__repr__',\n",
       " '__reversed__',\n",
       " '__rmul__',\n",
       " '__setattr__',\n",
       " '__setitem__',\n",
       " '__sizeof__',\n",
       " '__str__',\n",
       " '__subclasshook__',\n",
       " 'append',\n",
       " 'clear',\n",
       " 'copy',\n",
       " 'count',\n",
       " 'extend',\n",
       " 'index',\n",
       " 'insert',\n",
       " 'pop',\n",
       " 'remove',\n",
       " 'reverse',\n",
       " 'sort']"
      ]
     },
     "execution_count": 4,
     "metadata": {},
     "output_type": "execute_result"
    }
   ],
   "source": [
    "x = list()\n",
    "type(x)\n",
    "dir(x)"
   ]
  },
  {
   "cell_type": "code",
   "execution_count": 5,
   "metadata": {},
   "outputs": [
    {
     "name": "stdout",
     "output_type": "stream",
     "text": [
      "Quincy constructed\n",
      "Miya constructed\n",
      "Quincy party count 1\n",
      "Miya party count 1\n",
      "Quincy party count 2\n"
     ]
    }
   ],
   "source": [
    "class PartyAnimal:\n",
    "    x = 0\n",
    "    name = ''\n",
    "    def __init__(self, nam):\n",
    "        self.name = nam\n",
    "        print(self.name,'constructed')\n",
    "    def party(self):\n",
    "        self.x = self.x + 1\n",
    "        print(self.name,'party count',self.x)\n",
    "\n",
    "q = PartyAnimal('Quincy')\n",
    "m = PartyAnimal('Miya')\n",
    "\n",
    "q.party()\n",
    "m.party()\n",
    "q.party()"
   ]
  },
  {
   "cell_type": "code",
   "execution_count": null,
   "metadata": {},
   "outputs": [],
   "source": []
  }
 ],
 "metadata": {
  "kernelspec": {
   "display_name": "Python 3.7.4 32-bit",
   "language": "python",
   "name": "python37432bit9fa60013f5cf42febd6e1d96fffd8127"
  },
  "language_info": {
   "codemirror_mode": {
    "name": "ipython",
    "version": 3
   },
   "file_extension": ".py",
   "mimetype": "text/x-python",
   "name": "python",
   "nbconvert_exporter": "python",
   "pygments_lexer": "ipython3",
   "version": "3.7.4"
  }
 },
 "nbformat": 4,
 "nbformat_minor": 4
}
