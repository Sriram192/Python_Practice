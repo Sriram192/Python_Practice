{
  "nbformat": 4,
  "nbformat_minor": 0,
  "metadata": {
    "colab": {
      "name": "Python_Pandas.ipynb",
      "provenance": [],
      "collapsed_sections": [],
      "authorship_tag": "ABX9TyO6QuYfzmZLaHhAVHha0s6M",
      "include_colab_link": true
    },
    "kernelspec": {
      "name": "python3",
      "display_name": "Python 3"
    }
  },
  "cells": [
    {
      "cell_type": "markdown",
      "metadata": {
        "id": "view-in-github",
        "colab_type": "text"
      },
      "source": [
        "<a href=\"https://colab.research.google.com/github/Sriram192/Python_Practice/blob/master/Python_Pandas.ipynb\" target=\"_parent\"><img src=\"https://colab.research.google.com/assets/colab-badge.svg\" alt=\"Open In Colab\"/></a>"
      ]
    },
    {
      "cell_type": "markdown",
      "metadata": {
        "id": "v4P2q7bhngE2"
      },
      "source": [
        "This notebook is based on the youtube course \"Python Pandas For Your Grandpa\". Link to the video course: \r\n",
        "\r\n",
        "<https://www.youtube.com/playlist?list=PL9oKUrtC4VP7ry0um1QOUUfJBXKnkf-dA>"
      ]
    },
    {
      "cell_type": "code",
      "metadata": {
        "id": "T4_r8S8vnY61"
      },
      "source": [
        "import pandas as pd\r\n",
        "import numpy as np\r\n",
        "import matplotlib.pyplot as plt"
      ],
      "execution_count": 3,
      "outputs": []
    },
    {
      "cell_type": "markdown",
      "metadata": {
        "id": "lQnXUtt7oaRV"
      },
      "source": [
        "# Series in Pandas:\r\n",
        "Series is very much similar to a numpy 1D array. Except in Pandas its has much more functionality"
      ]
    },
    {
      "cell_type": "code",
      "metadata": {
        "colab": {
          "base_uri": "https://localhost:8080/"
        },
        "id": "fA9n9x2MoQ1k",
        "outputId": "32f25609-e8b9-4ea0-b3c9-03d8bfdfa70a"
      },
      "source": [
        "# Series in Pandas\r\n",
        "x = pd.Series([1,2,4,6,7,8,5])\r\n",
        "print(x)\r\n",
        "#Note that the index of each element in inbuilt into the series. 3\r\n",
        "#Also the output include the the datatyoe of the series which is int64 in this case"
      ],
      "execution_count": 4,
      "outputs": [
        {
          "output_type": "stream",
          "text": [
            "0    1\n",
            "1    2\n",
            "2    4\n",
            "3    6\n",
            "4    7\n",
            "5    8\n",
            "6    5\n",
            "dtype: int64\n"
          ],
          "name": "stdout"
        }
      ]
    },
    {
      "cell_type": "code",
      "metadata": {
        "colab": {
          "base_uri": "https://localhost:8080/"
        },
        "id": "0IaKu-Dmox_1",
        "outputId": "1297dcbd-b42b-4823-eb52-7847e9b4150f"
      },
      "source": [
        "y = pd.Series(['name','age','blood_group','sex'])\r\n",
        "print(y)"
      ],
      "execution_count": 7,
      "outputs": [
        {
          "output_type": "stream",
          "text": [
            "0           name\n",
            "1            age\n",
            "2    blood_group\n",
            "3            sex\n",
            "dtype: object\n"
          ],
          "name": "stdout"
        }
      ]
    },
    {
      "cell_type": "code",
      "metadata": {
        "id": "9DrRto2Jo2Gm",
        "colab": {
          "base_uri": "https://localhost:8080/"
        },
        "outputId": "d827e769-fe9c-4057-865a-f704c2e3cffb"
      },
      "source": [
        "x.to_numpy() #convert to numpy 1D array"
      ],
      "execution_count": 8,
      "outputs": [
        {
          "output_type": "execute_result",
          "data": {
            "text/plain": [
              "array([1, 2, 4, 6, 7, 8, 5])"
            ]
          },
          "metadata": {
            "tags": []
          },
          "execution_count": 8
        }
      ]
    },
    {
      "cell_type": "code",
      "metadata": {
        "colab": {
          "base_uri": "https://localhost:8080/"
        },
        "id": "gHE9s0nwKiLu",
        "outputId": "bc90f8a8-a750-4cb0-e83c-2e6177c33d0a"
      },
      "source": [
        "x.head() #prints the first five elements"
      ],
      "execution_count": 9,
      "outputs": [
        {
          "output_type": "execute_result",
          "data": {
            "text/plain": [
              "0    1\n",
              "1    2\n",
              "2    4\n",
              "3    6\n",
              "4    7\n",
              "dtype: int64"
            ]
          },
          "metadata": {
            "tags": []
          },
          "execution_count": 9
        }
      ]
    },
    {
      "cell_type": "code",
      "metadata": {
        "colab": {
          "base_uri": "https://localhost:8080/"
        },
        "id": "kVnIkZ_zKwpI",
        "outputId": "f1a4568b-8ab5-410d-df2d-d1c0c7cd09ee"
      },
      "source": [
        "x.tail() #prints the last five elements"
      ],
      "execution_count": 10,
      "outputs": [
        {
          "output_type": "execute_result",
          "data": {
            "text/plain": [
              "2    4\n",
              "3    6\n",
              "4    7\n",
              "5    8\n",
              "6    5\n",
              "dtype: int64"
            ]
          },
          "metadata": {
            "tags": []
          },
          "execution_count": 10
        }
      ]
    },
    {
      "cell_type": "code",
      "metadata": {
        "colab": {
          "base_uri": "https://localhost:8080/"
        },
        "id": "niMYJsDAK04g",
        "outputId": "43e97988-446a-4170-a5eb-0595ff0f5012"
      },
      "source": [
        "#Making a series from a python dictionary:\r\n",
        "d = {'a':1,'b':5,'c':6,'d':8}\r\n",
        "d = pd.Series(d)\r\n",
        "print(d)"
      ],
      "execution_count": 12,
      "outputs": [
        {
          "output_type": "stream",
          "text": [
            "a    1\n",
            "b    5\n",
            "c    6\n",
            "d    8\n",
            "dtype: int64\n"
          ],
          "name": "stdout"
        }
      ]
    },
    {
      "cell_type": "code",
      "metadata": {
        "colab": {
          "base_uri": "https://localhost:8080/",
          "height": 163
        },
        "id": "ytAp_kNNLSWE",
        "outputId": "c60ccd07-91c9-49df-99b3-444b9a261ad1"
      },
      "source": [
        ""
      ],
      "execution_count": 13,
      "outputs": [
        {
          "output_type": "error",
          "ename": "TypeError",
          "evalue": "ignored",
          "traceback": [
            "\u001b[0;31m---------------------------------------------------------------------------\u001b[0m",
            "\u001b[0;31mTypeError\u001b[0m                                 Traceback (most recent call last)",
            "\u001b[0;32m<ipython-input-13-3baaa95937c4>\u001b[0m in \u001b[0;36m<module>\u001b[0;34m()\u001b[0m\n\u001b[0;32m----> 1\u001b[0;31m \u001b[0mx\u001b[0m\u001b[0;34m.\u001b[0m\u001b[0mvalues\u001b[0m\u001b[0;34m(\u001b[0m\u001b[0;34m)\u001b[0m\u001b[0;34m\u001b[0m\u001b[0;34m\u001b[0m\u001b[0m\n\u001b[0m",
            "\u001b[0;31mTypeError\u001b[0m: 'numpy.ndarray' object is not callable"
          ]
        }
      ]
    },
    {
      "cell_type": "code",
      "metadata": {
        "colab": {
          "base_uri": "https://localhost:8080/"
        },
        "id": "pl1c1NPnLgV5",
        "outputId": "1cb49216-4e59-431b-d2d2-f54b59f26706"
      },
      "source": [
        "#making series froma list\r\n",
        "a = [1,2,6,7,4,6,7]\r\n",
        "a = pd.Series(a)\r\n",
        "print(a)"
      ],
      "execution_count": 16,
      "outputs": [
        {
          "output_type": "stream",
          "text": [
            "0    1\n",
            "1    2\n",
            "2    6\n",
            "3    7\n",
            "4    4\n",
            "5    6\n",
            "6    7\n",
            "dtype: int64\n"
          ],
          "name": "stdout"
        }
      ]
    },
    {
      "cell_type": "code",
      "metadata": {
        "colab": {
          "base_uri": "https://localhost:8080/"
        },
        "id": "8f5TJ8aELoJC",
        "outputId": "37eca67f-197e-4efa-a6ec-e110f6f90c2c"
      },
      "source": [
        "#converting a numpy array to a series:\r\n",
        "n = np.array([10.,40,20,30])\r\n",
        "print(n)\r\n",
        "n = pd.Series(n)\r\n",
        "print(n)"
      ],
      "execution_count": 17,
      "outputs": [
        {
          "output_type": "stream",
          "text": [
            "[10. 40. 20. 30.]\n",
            "0    10.0\n",
            "1    40.0\n",
            "2    20.0\n",
            "3    30.0\n",
            "dtype: float64\n"
          ],
          "name": "stdout"
        }
      ]
    },
    {
      "cell_type": "code",
      "metadata": {
        "colab": {
          "base_uri": "https://localhost:8080/"
        },
        "id": "LRa2su0IMhAf",
        "outputId": "02cedf4c-998b-41de-a65c-7b6b7ab63c8b"
      },
      "source": [
        "pd.Series(np.linspace(start = 1,stop = 2,num = 10))"
      ],
      "execution_count": 19,
      "outputs": [
        {
          "output_type": "execute_result",
          "data": {
            "text/plain": [
              "0    1.000000\n",
              "1    1.111111\n",
              "2    1.222222\n",
              "3    1.333333\n",
              "4    1.444444\n",
              "5    1.555556\n",
              "6    1.666667\n",
              "7    1.777778\n",
              "8    1.888889\n",
              "9    2.000000\n",
              "dtype: float64"
            ]
          },
          "metadata": {
            "tags": []
          },
          "execution_count": 19
        }
      ]
    },
    {
      "cell_type": "code",
      "metadata": {
        "colab": {
          "base_uri": "https://localhost:8080/"
        },
        "id": "k5wJgNtMNA1Y",
        "outputId": "931fcacd-1931-4725-bd8b-65f9dd55a01d"
      },
      "source": [
        "pd.Series(np.random.normal(size=4))"
      ],
      "execution_count": 25,
      "outputs": [
        {
          "output_type": "execute_result",
          "data": {
            "text/plain": [
              "0   -0.497091\n",
              "1    0.236971\n",
              "2    0.799660\n",
              "3    0.631873\n",
              "dtype: float64"
            ]
          },
          "metadata": {
            "tags": []
          },
          "execution_count": 25
        }
      ]
    },
    {
      "cell_type": "markdown",
      "metadata": {
        "id": "nS0-bHhZN0-B"
      },
      "source": [
        "# Accessing items from the series"
      ]
    },
    {
      "cell_type": "code",
      "metadata": {
        "colab": {
          "base_uri": "https://localhost:8080/"
        },
        "id": "OzpVoDhWNNi_",
        "outputId": "6044823b-7cbc-48b1-d972-52f36d222f52"
      },
      "source": [
        "x = pd.Series([9.,4,2,6,4,0,5,1])\r\n",
        "x.index = [8,7,6,5,4,3,2,1]\r\n",
        "print(x)"
      ],
      "execution_count": 30,
      "outputs": [
        {
          "output_type": "stream",
          "text": [
            "8    9.0\n",
            "7    4.0\n",
            "6    2.0\n",
            "5    6.0\n",
            "4    4.0\n",
            "3    0.0\n",
            "2    5.0\n",
            "1    1.0\n",
            "dtype: float64\n"
          ],
          "name": "stdout"
        }
      ]
    },
    {
      "cell_type": "code",
      "metadata": {
        "colab": {
          "base_uri": "https://localhost:8080/"
        },
        "id": "gQXTqPmvOAFM",
        "outputId": "1dcf91f5-f9ba-4f0f-8e58-88f0ce3d40f1"
      },
      "source": [
        "x[3] #accesses the element with index 3  and not the third element"
      ],
      "execution_count": 31,
      "outputs": [
        {
          "output_type": "execute_result",
          "data": {
            "text/plain": [
              "0.0"
            ]
          },
          "metadata": {
            "tags": []
          },
          "execution_count": 31
        }
      ]
    },
    {
      "cell_type": "code",
      "metadata": {
        "colab": {
          "base_uri": "https://localhost:8080/"
        },
        "id": "59v43wjwODMa",
        "outputId": "1259f687-162f-4f11-e806-22ac2a6c35dc"
      },
      "source": [
        "x.iloc[0]# this is the proper way to accecc the elements of the series. This accesses the zeroth element of the series"
      ],
      "execution_count": 34,
      "outputs": [
        {
          "output_type": "execute_result",
          "data": {
            "text/plain": [
              "9.0"
            ]
          },
          "metadata": {
            "tags": []
          },
          "execution_count": 34
        }
      ]
    },
    {
      "cell_type": "code",
      "metadata": {
        "colab": {
          "base_uri": "https://localhost:8080/"
        },
        "id": "fRzdi_hUO1Nd",
        "outputId": "cadcb629-5b6d-4e12-f654-a14c228d6b0c"
      },
      "source": [
        "x.iloc[-1]#returns the last element of the series."
      ],
      "execution_count": 35,
      "outputs": [
        {
          "output_type": "execute_result",
          "data": {
            "text/plain": [
              "1.0"
            ]
          },
          "metadata": {
            "tags": []
          },
          "execution_count": 35
        }
      ]
    },
    {
      "cell_type": "code",
      "metadata": {
        "colab": {
          "base_uri": "https://localhost:8080/"
        },
        "id": "GAnuz23JPJjr",
        "outputId": "ba960526-f358-43d5-fd1d-0c93391218de"
      },
      "source": [
        "x.iloc[-3]#returns the third last element of the series"
      ],
      "execution_count": 36,
      "outputs": [
        {
          "output_type": "execute_result",
          "data": {
            "text/plain": [
              "0.0"
            ]
          },
          "metadata": {
            "tags": []
          },
          "execution_count": 36
        }
      ]
    },
    {
      "cell_type": "code",
      "metadata": {
        "colab": {
          "base_uri": "https://localhost:8080/"
        },
        "id": "5J4Y-otYPR6F",
        "outputId": "61453701-0fc5-4bb6-840d-1ba276e31c51"
      },
      "source": [
        "grades = pd.Series([45,67,35,78,25,89])\r\n",
        "grades.index = ['Ram','Krupa','Jai','Buvana','Raksha','Appa']\r\n",
        "print(grades)"
      ],
      "execution_count": 38,
      "outputs": [
        {
          "output_type": "stream",
          "text": [
            "Ram       45\n",
            "Krupa     67\n",
            "Jai       35\n",
            "Buvana    78\n",
            "Raksha    25\n",
            "Appa      89\n",
            "dtype: int64\n"
          ],
          "name": "stdout"
        }
      ]
    },
    {
      "cell_type": "code",
      "metadata": {
        "colab": {
          "base_uri": "https://localhost:8080/"
        },
        "id": "hcXmt4exQ0M7",
        "outputId": "5608983a-c7fa-4884-f4e3-6a9625b23d63"
      },
      "source": [
        "grades['Krupa']"
      ],
      "execution_count": 39,
      "outputs": [
        {
          "output_type": "execute_result",
          "data": {
            "text/plain": [
              "67"
            ]
          },
          "metadata": {
            "tags": []
          },
          "execution_count": 39
        }
      ]
    },
    {
      "cell_type": "markdown",
      "metadata": {
        "id": "JnAtUElhYRaT"
      },
      "source": [
        "#Basic Operation with pd.Series"
      ]
    },
    {
      "cell_type": "code",
      "metadata": {
        "colab": {
          "base_uri": "https://localhost:8080/"
        },
        "id": "RgXqpb93Q6Wc",
        "outputId": "a412f62c-e835-4a12-d341-9d874077a19c"
      },
      "source": [
        "A = pd.Series([10,20,30,40,50])\r\n",
        "B = pd.Series([1,2,3,4,5])\r\n",
        "C = A + B #adds elements with the same index rather than addition by position\r\n",
        "print(C)"
      ],
      "execution_count": 40,
      "outputs": [
        {
          "output_type": "stream",
          "text": [
            "0    11\n",
            "1    22\n",
            "2    33\n",
            "3    44\n",
            "4    55\n",
            "dtype: int64\n"
          ],
          "name": "stdout"
        }
      ]
    },
    {
      "cell_type": "code",
      "metadata": {
        "colab": {
          "base_uri": "https://localhost:8080/"
        },
        "id": "bwUb213vY0Q4",
        "outputId": "78ab3573-e6c2-43f9-b726-b603761cb337"
      },
      "source": [
        "a = pd.Series([1,2,3,4])\r\n",
        "b = pd.Series([10,20])\r\n",
        "c = a + b\r\n",
        "print(c)"
      ],
      "execution_count": 41,
      "outputs": [
        {
          "output_type": "stream",
          "text": [
            "0    11.0\n",
            "1    22.0\n",
            "2     NaN\n",
            "3     NaN\n",
            "dtype: float64\n"
          ],
          "name": "stdout"
        }
      ]
    },
    {
      "cell_type": "code",
      "metadata": {
        "colab": {
          "base_uri": "https://localhost:8080/"
        },
        "id": "3G_P9P85ZFjX",
        "outputId": "92016a55-723b-4d97-e2f0-c45a0d5b73fa"
      },
      "source": [
        "# the '+' operation only adds the elements with the same index for example:\r\n",
        "A = pd.Series([10,20,30,40,50],index = [4,3,2,1,0]) #index reversed\r\n",
        "print(A)\r\n",
        "B = pd.Series([1,2,3,4,5])\r\n",
        "C = A + B #adds elements with the same index rather than addition by position\r\n",
        "print(C)"
      ],
      "execution_count": 43,
      "outputs": [
        {
          "output_type": "stream",
          "text": [
            "4    10\n",
            "3    20\n",
            "2    30\n",
            "1    40\n",
            "0    50\n",
            "dtype: int64\n",
            "0    51\n",
            "1    42\n",
            "2    33\n",
            "3    24\n",
            "4    15\n",
            "dtype: int64\n"
          ],
          "name": "stdout"
        }
      ]
    },
    {
      "cell_type": "code",
      "metadata": {
        "colab": {
          "base_uri": "https://localhost:8080/"
        },
        "id": "H5h8o_hoZitH",
        "outputId": "c399c927-bed8-4d34-f31b-02eefd36a011"
      },
      "source": [
        " # For cases where we want an addition of these Series by position,we use 'to_numpy()'\r\n",
        " C = A.to_numpy() + B.to_numpy()\r\n",
        " print(C)"
      ],
      "execution_count": 45,
      "outputs": [
        {
          "output_type": "stream",
          "text": [
            "[11 22 33 44 55]\n"
          ],
          "name": "stdout"
        }
      ]
    },
    {
      "cell_type": "code",
      "metadata": {
        "colab": {
          "base_uri": "https://localhost:8080/"
        },
        "id": "v8DjE8_OaPMg",
        "outputId": "d23bd553-e63e-4097-c395-340898db64fa"
      },
      "source": [
        "print(A + B.to_numpy())#adds the elements by position but the index of A is retained"
      ],
      "execution_count": 46,
      "outputs": [
        {
          "output_type": "stream",
          "text": [
            "4    11\n",
            "3    22\n",
            "2    33\n",
            "1    44\n",
            "0    55\n",
            "dtype: int64\n"
          ],
          "name": "stdout"
        }
      ]
    },
    {
      "cell_type": "markdown",
      "metadata": {
        "id": "4Yw4IMDybUWh"
      },
      "source": [
        "# Boolean indexing"
      ]
    },
    {
      "cell_type": "code",
      "metadata": {
        "colab": {
          "base_uri": "https://localhost:8080/"
        },
        "id": "FUCMvkt1afTk",
        "outputId": "2ce7fc08-9c75-40cd-baff-3f1f5a898998"
      },
      "source": [
        "foo = pd.Series([1,3,2,5,3,6,2,7])\r\n",
        "foo < 3 #shows us a series with boolean values for each element"
      ],
      "execution_count": 47,
      "outputs": [
        {
          "output_type": "execute_result",
          "data": {
            "text/plain": [
              "0     True\n",
              "1    False\n",
              "2     True\n",
              "3    False\n",
              "4    False\n",
              "5    False\n",
              "6     True\n",
              "7    False\n",
              "dtype: bool"
            ]
          },
          "metadata": {
            "tags": []
          },
          "execution_count": 47
        }
      ]
    },
    {
      "cell_type": "code",
      "metadata": {
        "colab": {
          "base_uri": "https://localhost:8080/"
        },
        "id": "_4gQ3bekbdwm",
        "outputId": "5f5871cf-999c-416a-de39-43dc0a487210"
      },
      "source": [
        "mask = foo < 3 #saving the boolean series in a variable\r\n",
        "print(mask)"
      ],
      "execution_count": 48,
      "outputs": [
        {
          "output_type": "stream",
          "text": [
            "0     True\n",
            "1    False\n",
            "2     True\n",
            "3    False\n",
            "4    False\n",
            "5    False\n",
            "6     True\n",
            "7    False\n",
            "dtype: bool\n"
          ],
          "name": "stdout"
        }
      ]
    },
    {
      "cell_type": "code",
      "metadata": {
        "colab": {
          "base_uri": "https://localhost:8080/"
        },
        "id": "i81wZqIwbnWr",
        "outputId": "b378942e-ec3c-4ec6-ecc1-3ab546a12048"
      },
      "source": [
        "foo[mask]#prints out the elements that match the condition"
      ],
      "execution_count": 49,
      "outputs": [
        {
          "output_type": "execute_result",
          "data": {
            "text/plain": [
              "0    1\n",
              "2    2\n",
              "6    2\n",
              "dtype: int64"
            ]
          },
          "metadata": {
            "tags": []
          },
          "execution_count": 49
        }
      ]
    },
    {
      "cell_type": "code",
      "metadata": {
        "colab": {
          "base_uri": "https://localhost:8080/"
        },
        "id": "ZEwFjpaob_T8",
        "outputId": "bcb7bad6-44a2-46bc-d9c2-cc17f2346c91"
      },
      "source": [
        "foo[foo<3]#the same can be written in a single line"
      ],
      "execution_count": 50,
      "outputs": [
        {
          "output_type": "execute_result",
          "data": {
            "text/plain": [
              "0    1\n",
              "2    2\n",
              "6    2\n",
              "dtype: int64"
            ]
          },
          "metadata": {
            "tags": []
          },
          "execution_count": 50
        }
      ]
    },
    {
      "cell_type": "code",
      "metadata": {
        "id": "AaG_4z8kcQTo"
      },
      "source": [
        ""
      ],
      "execution_count": null,
      "outputs": []
    }
  ]
}