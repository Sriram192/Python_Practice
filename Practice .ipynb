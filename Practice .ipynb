{
 "cells": [
  {
   "cell_type": "markdown",
   "metadata": {},
   "source": [
    "## Problem 1 and Solution\n",
    "Ask the user for a number. Depending on whether the number is even or odd, print out an appropriate message to the user. Hint: how does an even / odd number react differently when divided by 2?\n",
    "\n",
    "### Extras:\n",
    "\n",
    "If the number is a multiple of 4, print out a different message."
   ]
  },
  {
   "cell_type": "code",
   "execution_count": 15,
   "metadata": {},
   "outputs": [],
   "source": [
    "import numpy as np"
   ]
  },
  {
   "cell_type": "code",
   "execution_count": 16,
   "metadata": {},
   "outputs": [
    {
     "name": "stdout",
     "output_type": "stream",
     "text": [
      "Enter an integer: 5\n",
      "The number entered is an odd number\n"
     ]
    }
   ],
   "source": [
    "Number = int(input(\"Enter an integer: \")) #input is like scanf in C of cin in C++. The int fn converts the argument into an integer type\n",
    "type(Number)\n",
    "if Number % 2 == 0:\n",
    "    print('The number entered is an even number')\n",
    "if Number % 4 == 0:\n",
    "    print('The number entered is a multiple of 4')\n",
    "else:\n",
    "    print('The number entered is an odd number')"
   ]
  },
  {
   "cell_type": "markdown",
   "metadata": {},
   "source": [
    "## Problem 2 and Solution\n",
    "Take a list, say for example this one:\n",
    "\n",
    "  a = [1, 1, 2, 3, 5, 8, 13, 21, 34, 55, 89]\n",
    "and write a program that prints out all the elements of the list that are less than 5.\n",
    "\n",
    "### Extras:\n",
    "\n",
    "    # Instead of printing the elements one by one, make a new list that has all the elements less than 5 from this list in it and print out this new list.\n",
    "    # Write this in one line of Python.\n",
    "    # Ask the user for a number and return a list that contains only elements from the original list a that are smaller than that number given by the user."
   ]
  },
  {
   "cell_type": "code",
   "execution_count": 17,
   "metadata": {},
   "outputs": [
    {
     "name": "stdout",
     "output_type": "stream",
     "text": [
      "NewList =  [1, 2, 3, 4]\n",
      "Enter a number: 4\n",
      "NewList2 =  [1, 2, 3]\n"
     ]
    }
   ],
   "source": [
    "a = [1, 1, 2, 3, 5, 8, 13, 21, 34, 55, 89]\n",
    "NewList = []\n",
    "[NewList.append(j) for j in range(1,len(a)) if j<5]#the append function appends the value to the end of the list.\n",
    "print('NewList = ',NewList)\n",
    "check = int(input('Enter a number: '))\n",
    "NewList2 = []\n",
    "[NewList2.append(j) for j in range(1,len(a)) if j<check]\n",
    "print('NewList2 = ',NewList2)"
   ]
  },
  {
   "cell_type": "markdown",
   "metadata": {},
   "source": [
    "## Problem 3 and Solution\n",
    "Create a program that asks the user for a number and then prints out a list of all the divisors of that number. (If you don’t know what a divisor is, it is a number that divides evenly into another number. For example, 13 is a divisor of 26 because 26 / 13 has no remainder.)"
   ]
  },
  {
   "cell_type": "code",
   "execution_count": 18,
   "metadata": {},
   "outputs": [
    {
     "name": "stdout",
     "output_type": "stream",
     "text": [
      "Enter an integer: 4\n",
      "The divisors for the number are  [1, 2, 4]\n"
     ]
    }
   ],
   "source": [
    "num = int(input(\"Enter an integer: \"))\n",
    "Factors = []\n",
    "[Factors.append(i) for i in range(1,num+1) if num%i==0]\n",
    "print('The divisors for the number are ', Factors)"
   ]
  },
  {
   "cell_type": "markdown",
   "metadata": {},
   "source": [
    "## Problem 4\n",
    "Take two lists, say for example these two:\n",
    "\n",
    "  a = [1, 1, 2, 3, 5, 8, 13, 21, 34, 55, 89]\n",
    "  \n",
    "  b = [1, 2, 3, 4, 5, 6, 7, 8, 9, 10, 11, 12, 13]\n",
    "  \n",
    "and write a program that returns a list that contains only the elements that are common between the lists (without duplicates). Make sure your program works on two lists of different sizes.\n",
    "\n",
    "### Extras:\n",
    "\n",
    "Randomly generate two lists to test this\n",
    "\n",
    "Write this in one line of Python (don’t worry if you can’t figure this out at this point - we’ll get to it soon)"
   ]
  },
  {
   "cell_type": "code",
   "execution_count": 19,
   "metadata": {},
   "outputs": [
    {
     "data": {
      "text/plain": [
       "[1, 9, 9, 2, 1, 7, 7, 8, 8]"
      ]
     },
     "execution_count": 19,
     "metadata": {},
     "output_type": "execute_result"
    }
   ],
   "source": [
    "a = [1, 1, 2, 3, 5, 8, 13, 21, 34, 55, 89]\n",
    "type(a)\n",
    "b = [1, 2, 3, 4, 5, 6, 7, 8, 9, 10, 11, 12, 13]\n",
    "Common1 = []\n",
    "for i in b:\n",
    "    for j in a:\n",
    "        if i==j:\n",
    "            Common1.append(j)\n",
    "            \n",
    "Common1\n",
    "import random\n",
    "RandList1 = [random.randint(0, 10) for p in range(0, 10)]\n",
    "RandList2 = [random.randint(0, 10) for p in range(0, 10)]\n",
    "Common = []\n",
    "for i in RandList1:\n",
    "    for j in RandList2:\n",
    "        if i==j:\n",
    "            Common.append(j)\n",
    "            \n",
    "Common\n"
   ]
  },
  {
   "cell_type": "markdown",
   "metadata": {},
   "source": [
    "## Problem 5 and Solution:\n",
    "Ask the user for a string and print out whether this string is a palindrome or not. (A palindrome is a string that reads the same forwards and backwards.)\n"
   ]
  },
  {
   "cell_type": "code",
   "execution_count": 20,
   "metadata": {},
   "outputs": [
    {
     "name": "stdout",
     "output_type": "stream",
     "text": [
      "Enter a stringttti\n",
      "the word is not a Palindrome\n"
     ]
    }
   ],
   "source": [
    "Input_string = input(\"Enter a string\")\n",
    "def Reverse(text):\n",
    "    blank = ''\n",
    "    for i in range(len(text)):\n",
    "        blank += text[len(text)-1-i]#creating a blank word which will store the reverse of the input string\n",
    "    return blank\n",
    "word = Reverse(Input_string)\n",
    "if Input_string.lower() == word.lower():#so that the output is not case sensitive. all converted to lower case\n",
    "                  print(\"the entered word is a Palindrome\")\n",
    "else:\n",
    "    print(\"the word is not a Palindrome\")\n",
    "        \n",
    "\n",
    "                  \n",
    "        "
   ]
  },
  {
   "cell_type": "markdown",
   "metadata": {},
   "source": [
    "## Problem 6\n",
    "Let’s say I give you a list saved in a variable: a = [1, 4, 9, 16, 25, 36, 49, 64, 81, 100]. Write one line of Python that takes this list a and makes a new list that has only the even elements of this list in it."
   ]
  },
  {
   "cell_type": "code",
   "execution_count": 21,
   "metadata": {},
   "outputs": [
    {
     "name": "stdout",
     "output_type": "stream",
     "text": [
      "[4, 16, 36, 64, 100]\n"
     ]
    }
   ],
   "source": [
    "a = [1, 4, 9, 16, 25, 36, 49, 64, 81, 100]\n",
    "Even = []\n",
    "[Even.append(j) for j in a if j%2==0]\n",
    "print(Even)"
   ]
  },
  {
   "cell_type": "markdown",
   "metadata": {},
   "source": [
    "## Problem 7 (Rock Papers Sciccors)\n",
    "Make a two-player Rock-Paper-Scissors game. (Hint: Ask for player plays (using input), compare them, print out a message of congratulations to the winner, and ask if the players want to start a new game)\n",
    "\n",
    "Remember the rules:\n",
    "\n",
    "    Rock beats scissors\n",
    "    Scissors beats paper\n",
    "    Paper beats rock"
   ]
  },
  {
   "cell_type": "code",
   "execution_count": 58,
   "metadata": {},
   "outputs": [
    {
     "name": "stdout",
     "output_type": "stream",
     "text": [
      "Enter Rock as R, Paper as P and Scissors as SP\n",
      "Player1:  P \n",
      " Player2:  S\n",
      "Player2 wins!\n"
     ]
    }
   ],
   "source": [
    "import random\n",
    "def Game_Initialization():\n",
    "    Player1 = input(\"Enter Rock as R, Paper as P and Scissors as S\")\n",
    "    num = random.random()\n",
    "    if num<0.33:\n",
    "        Player2 = \"R\"\n",
    "    if 0.33<num<0.66:\n",
    "        Player2 = \"P\"\n",
    "    if num>0.66:\n",
    "        Player2 = \"S\"\n",
    "    return Player1,Player2\n",
    "Player1,Player2 = Game_Initialization()\n",
    "def Game(Player1,Player2):\n",
    "    if Player1 == 'R' and Player2 == 'S':\n",
    "        print('Player1 wins!')\n",
    "        return\n",
    "    if Player1 == 'S' and Player2 == 'P':\n",
    "        print('Player1 wins!')\n",
    "        return\n",
    "    if Player1 == 'P' and Player2 == 'R':\n",
    "        print('Player1 wins!')\n",
    "        return\n",
    "    if Player1 == Player2:\n",
    "        print('Its a tie')\n",
    "        return\n",
    "    else:\n",
    "        print('Player2 wins!')\n",
    "    return\n",
    "print('Player1: ',Player1,'\\n','Player2: ',Player2)\n",
    "Game(Player1,Player2)\n",
    "              \n",
    "\n",
    "        \n",
    "        \n",
    "    "
   ]
  },
  {
   "cell_type": "markdown",
   "metadata": {},
   "source": [
    "## Problem 8:\n",
    "This week’s exercise is going to be revisiting an old exercise (see Exercise 5), except require the solution in a different way.\n",
    "\n",
    "Take two lists, say for example these two:\n",
    "\n",
    "\ta = [1, 1, 2, 3, 5, 8, 13, 21, 34, 55, 89]\n",
    "\tb = [1, 2, 3, 4, 5, 6, 7, 8, 9, 10, 11, 12, 13]\n",
    "and write a program that returns a list that contains only the elements that are common \n",
    "between the lists (without duplicates). Make sure your program works on two lists of different sizes. "
   ]
  },
  {
   "cell_type": "code",
   "execution_count": 60,
   "metadata": {},
   "outputs": [
    {
     "data": {
      "text/plain": [
       "[1, 1, 2, 3, 3, 5, 8, 13]"
      ]
     },
     "execution_count": 60,
     "metadata": {},
     "output_type": "execute_result"
    }
   ],
   "source": [
    "a = [1, 1, 2, 3, 5, 8, 13, 21, 34, 55, 89]\n",
    "b = [1, 2, 3, 4, 5, 6, 7, 8, 9, 10, 11, 12, 13,7,4,0,3]\n",
    "common=[]\n",
    "[common.append(j) for i in a for j in b if i==j]\n",
    "common"
   ]
  },
  {
   "cell_type": "code",
   "execution_count": null,
   "metadata": {},
   "outputs": [],
   "source": []
  }
 ],
 "metadata": {
  "kernelspec": {
   "display_name": "Python 3",
   "language": "python",
   "name": "python3"
  },
  "language_info": {
   "codemirror_mode": {
    "name": "ipython",
    "version": 3
   },
   "file_extension": ".py",
   "mimetype": "text/x-python",
   "name": "python",
   "nbconvert_exporter": "python",
   "pygments_lexer": "ipython3",
   "version": "3.7.3"
  }
 },
 "nbformat": 4,
 "nbformat_minor": 2
}
