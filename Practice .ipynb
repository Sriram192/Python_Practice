{
 "cells": [
  {
   "cell_type": "markdown",
   "metadata": {},
   "source": [
    "## Problem 1 and Solution\n",
    "Ask the user for a number. Depending on whether the number is even or odd, print out an appropriate message to the user. Hint: how does an even / odd number react differently when divided by 2?\n",
    "\n",
    "### Extras:\n",
    "\n",
    "If the number is a multiple of 4, print out a different message."
   ]
  },
  {
   "cell_type": "code",
   "execution_count": 1,
   "metadata": {},
   "outputs": [],
   "source": [
    "import numpy as np"
   ]
  },
  {
   "cell_type": "code",
   "execution_count": 2,
   "metadata": {},
   "outputs": [
    {
     "name": "stdin",
     "output_type": "stream",
     "text": [
      "Enter an integer:  6\n"
     ]
    },
    {
     "name": "stdout",
     "output_type": "stream",
     "text": [
      "<class 'int'>\n",
      "The number entered is an even number\n",
      "The number entered is an odd number\n"
     ]
    }
   ],
   "source": [
    "Number = int(input(\"Enter an integer: \")) #input is like scanf in C of cin in C++. The int fn converts the argument into an integer type\n",
    "print(type(Number))\n",
    "if Number % 2 == 0:\n",
    "    print('The number entered is an even number')\n",
    "if Number % 4 == 0:\n",
    "    print('The number entered is a multiple of 4')\n",
    "else:\n",
    "    print('The number entered is an odd number')"
   ]
  },
  {
   "cell_type": "markdown",
   "metadata": {},
   "source": [
    "## Problem 2 and Solution\n",
    "Take a list, say for example this one:\n",
    "\n",
    "  a = [1, 1, 2, 3, 5, 8, 13, 21, 34, 55, 89]\n",
    "and write a program that prints out all the elements of the list that are less than 5.\n",
    "\n",
    "### Extras:\n",
    "\n",
    "    # Instead of printing the elements one by one, make a new list that has all the elements less than 5 from this list in it and print out this new list.\n",
    "    # Write this in one line of Python.\n",
    "    # Ask the user for a number and return a list that contains only elements from the original list a that are smaller than that number given by the user."
   ]
  },
  {
   "cell_type": "code",
   "execution_count": 3,
   "metadata": {},
   "outputs": [
    {
     "name": "stdout",
     "output_type": "stream",
     "text": [
      "NewList =  [1, 2, 3, 4]\n"
     ]
    },
    {
     "name": "stdin",
     "output_type": "stream",
     "text": [
      "Enter a number:  6\n"
     ]
    },
    {
     "name": "stdout",
     "output_type": "stream",
     "text": [
      "NewList2 =  [1, 2, 3, 4, 5]\n"
     ]
    }
   ],
   "source": [
    "a = [1, 1, 2, 3, 5, 8, 13, 21, 34, 55, 89]\n",
    "NewList = []\n",
    "[NewList.append(j) for j in range(1,len(a)) if j<5]#the append function appends the value to the end of the list.\n",
    "print('NewList = ',NewList)\n",
    "check = int(input('Enter a number: '))\n",
    "NewList2 = []\n",
    "[NewList2.append(j) for j in range(1,len(a)) if j<check]\n",
    "print('NewList2 = ',NewList2)"
   ]
  },
  {
   "cell_type": "markdown",
   "metadata": {},
   "source": [
    "## Problem 3 and Solution\n",
    "Create a program that asks the user for a number and then prints out a list of all the divisors of that number. (If you don’t know what a divisor is, it is a number that divides evenly into another number. For example, 13 is a divisor of 26 because 26 / 13 has no remainder.)"
   ]
  },
  {
   "cell_type": "code",
   "execution_count": 4,
   "metadata": {},
   "outputs": [
    {
     "name": "stdin",
     "output_type": "stream",
     "text": [
      "Enter an integer:  5\n"
     ]
    },
    {
     "name": "stdout",
     "output_type": "stream",
     "text": [
      "The divisors for the number are  [1, 5]\n"
     ]
    }
   ],
   "source": [
    "num = int(input(\"Enter an integer: \"))\n",
    "Factors = []\n",
    "[Factors.append(i) for i in range(1,num+1) if num%i==0]#num+1 so that number itself is printed af its also a factor\n",
    "print('The divisors for the number are ', Factors)"
   ]
  },
  {
   "cell_type": "markdown",
   "metadata": {},
   "source": [
    "## Problem 4\n",
    "Take two lists, say for example these two:\n",
    "\n",
    "  a = [1, 1, 2, 3, 5, 8, 13, 21, 34, 55, 89]\n",
    "  \n",
    "  b = [1, 2, 3, 4, 5, 6, 7, 8, 9, 10, 11, 12, 13]\n",
    "  \n",
    "and write a program that returns a list that contains only the elements that are common between the lists (without duplicates). Make sure your program works on two lists of different sizes.\n",
    "\n",
    "### Extras:\n",
    "\n",
    "Randomly generate two lists to test this\n",
    "\n",
    "Write this in one line of Python (don’t worry if you can’t figure this out at this point - we’ll get to it soon)"
   ]
  },
  {
   "cell_type": "code",
   "execution_count": 5,
   "metadata": {},
   "outputs": [
    {
     "name": "stdout",
     "output_type": "stream",
     "text": [
      "Common =  [1, 1, 2, 3, 5, 8, 13]\n",
      "Common =  [5, 5, 10, 4, 4, 4, 7]\n",
      "[1, 1, 2, 3, 5, 8, 13]\n",
      "1\n",
      "1\n",
      "2\n",
      "3\n",
      "5\n",
      "8\n",
      "13\n",
      "21\n",
      "34\n",
      "55\n",
      "89\n"
     ]
    }
   ],
   "source": [
    "a = [1, 1, 2, 3, 5, 8, 13, 21, 34, 55, 89]\n",
    "type(a)\n",
    "b = [1, 2, 3, 4, 5, 6, 7, 8, 9, 10, 11, 12, 13]\n",
    "Common1 = []\n",
    "for i in b:\n",
    "    for j in a:\n",
    "        if i==j:\n",
    "            Common1.append(j)\n",
    "            \n",
    "print(\"Common = \",Common1)\n",
    "import random\n",
    "RandList1 = [random.randint(0, 10) for p in range(0, 10)]\n",
    "RandList2 = [random.randint(0, 10) for p in range(0, 10)]\n",
    "Common = []\n",
    "for i in RandList1:\n",
    "    for j in RandList2:\n",
    "        if i==j:\n",
    "            Common.append(j)\n",
    "            \n",
    "print(\"Common = \",Common)\n",
    "#Attempting in one line of code.\n",
    "Common2 = []\n",
    "[Common2.append(i) for i in a for j in b if i==j]\n",
    "print(Common2)\n",
    "#just a test for a \"for\" loop :-)\n",
    "for i in a:\n",
    "    print(i)"
   ]
  },
  {
   "cell_type": "markdown",
   "metadata": {},
   "source": [
    "## Problem 5 and Solution:\n",
    "Ask the user for a string and print out whether this string is a palindrome or not. (A palindrome is a string that reads the same forwards and backwards.)\n"
   ]
  },
  {
   "cell_type": "code",
   "execution_count": 6,
   "metadata": {},
   "outputs": [
    {
     "name": "stdin",
     "output_type": "stream",
     "text": [
      "Enter a string rtiifj\n"
     ]
    },
    {
     "name": "stdout",
     "output_type": "stream",
     "text": [
      "6\n",
      "the word is not a Palindrome\n"
     ]
    },
    {
     "data": {
      "text/plain": [
       "'r'"
      ]
     },
     "execution_count": 6,
     "metadata": {},
     "output_type": "execute_result"
    }
   ],
   "source": [
    "Input_string = input(\"Enter a string\")\n",
    "print(len(Input_string))\n",
    "def Reverse(text):\n",
    "    blank = ''\n",
    "    for i in range(len(text)):\n",
    "        blank += text[len(text)-1-i]#creating a blank word which will store the reverse of the input string\n",
    "    return blank\n",
    "word = Reverse(Input_string)\n",
    "if Input_string.lower() == word.lower():#so that the output is not case sensitive. all converted to lower case\n",
    "                  print(\"the entered word is a Palindrome\")\n",
    "else:\n",
    "    print(\"the word is not a Palindrome\")\n",
    "        \n",
    "Input_string[0]\n",
    "                  \n",
    "        "
   ]
  },
  {
   "cell_type": "markdown",
   "metadata": {},
   "source": [
    "## Problem 6\n",
    "Let’s say I give you a list saved in a variable: a = [1, 4, 9, 16, 25, 36, 49, 64, 81, 100]. Write one line of Python that takes this list a and makes a new list that has only the even elements of this list in it."
   ]
  },
  {
   "cell_type": "code",
   "execution_count": 7,
   "metadata": {},
   "outputs": [
    {
     "name": "stdout",
     "output_type": "stream",
     "text": [
      "[4, 16, 36, 64, 100]\n"
     ]
    }
   ],
   "source": [
    "a = [1, 4, 9, 16, 25, 36, 49, 64, 81, 100]\n",
    "Even = []\n",
    "[Even.append(j) for j in a if j%2==0]\n",
    "print(Even)"
   ]
  },
  {
   "cell_type": "markdown",
   "metadata": {},
   "source": [
    "## Problem 7 (Rock Papers Sciccors)\n",
    "Make a two-player Rock-Paper-Scissors game. (Hint: Ask for player plays (using input), compare them, print out a message of congratulations to the winner, and ask if the players want to start a new game)\n",
    "\n",
    "Remember the rules:\n",
    "\n",
    "    Rock beats scissors\n",
    "    Scissors beats paper\n",
    "    Paper beats rock"
   ]
  },
  {
   "cell_type": "code",
   "execution_count": 8,
   "metadata": {},
   "outputs": [
    {
     "name": "stdin",
     "output_type": "stream",
     "text": [
      "Enter Rock as R, Paper as P and Scissors as S: \n",
      " r\n"
     ]
    },
    {
     "name": "stdout",
     "output_type": "stream",
     "text": [
      "Player1:  R \n",
      " Player2:  R\n",
      "Its a tie\n"
     ]
    }
   ],
   "source": [
    "import random\n",
    "def Game_Initialization():\n",
    "    Player1 = input(\"Enter Rock as R, Paper as P and Scissors as S: \\n\")\n",
    "    num = random.random()\n",
    "    if num<0.33:\n",
    "        Player2 = \"R\"\n",
    "    if 0.33<num<0.66:\n",
    "        Player2 = \"P\"\n",
    "    if num>0.66:\n",
    "        Player2 = \"S\"\n",
    "    return Player1.upper(),Player2.upper()#so that even if 'r' or 's' is entered its converted to upper case\n",
    "Player1,Player2 = Game_Initialization()\n",
    "def Game(Player1,Player2):\n",
    "    if Player1 == 'R' and Player2 == 'S':\n",
    "        print('Player1 wins!')\n",
    "        return\n",
    "    if Player1 == 'S' and Player2 == 'P':\n",
    "        print('Player1 wins!')\n",
    "        return\n",
    "    if Player1 == 'P' and Player2 == 'R':\n",
    "        print('Player1 wins!')\n",
    "        return\n",
    "    if Player1 == Player2:\n",
    "        print('Its a tie')\n",
    "        return\n",
    "    else:\n",
    "        print('Player2 wins!')\n",
    "    return\n",
    "print('Player1: ',Player1,'\\n','Player2: ',Player2)\n",
    "Game(Player1,Player2)\n",
    "                 "
   ]
  },
  {
   "cell_type": "markdown",
   "metadata": {},
   "source": [
    "## Problem 8:\n",
    "This week’s exercise is going to be revisiting an old exercise (see Exercise 5), except require the solution in a different way.\n",
    "\n",
    "Take two lists, say for example these two:\n",
    "\n",
    "\ta = [1, 1, 2, 3, 5, 8, 13, 21, 34, 55, 89]\n",
    "\tb = [1, 2, 3, 4, 5, 6, 7, 8, 9, 10, 11, 12, 13]\n",
    "and write a program that returns a list that contains only the elements that are common \n",
    "between the lists (without duplicates). Make sure your program works on two lists of different sizes. "
   ]
  },
  {
   "cell_type": "code",
   "execution_count": 9,
   "metadata": {},
   "outputs": [
    {
     "name": "stdout",
     "output_type": "stream",
     "text": [
      "[1, 1, 2, 3, 3, 5, 8, 13]\n"
     ]
    },
    {
     "data": {
      "text/plain": [
       "3"
      ]
     },
     "execution_count": 9,
     "metadata": {},
     "output_type": "execute_result"
    }
   ],
   "source": [
    "a = [1, 1, 2, 3, 5, 8, 13, 21, 34, 55, 89]\n",
    "b = [1, 2, 3, 4, 5, 6, 7, 8, 9, 10, 11, 12, 13,7,4,0,3]\n",
    "common=[]\n",
    "[common.append(j) for i in a for j in b if i==j]\n",
    "print(common)\n",
    "b[-1]"
   ]
  },
  {
   "cell_type": "markdown",
   "metadata": {},
   "source": [
    "## Problem 9:\n",
    "Write a program that asks the user how many Fibonnaci numbers to generate and then generates them. Take this opportunity to think about how you can use functions. Make sure to ask the user to enter the number of numbers in the sequence to generate.(Hint: The Fibonnaci seqence is a sequence of numbers where the next number in the sequence is the sum of the previous two numbers in the sequence. The sequence looks like this: 1, 1, 2, 3, 5, 8, 13, …"
   ]
  },
  {
   "cell_type": "code",
   "execution_count": 10,
   "metadata": {},
   "outputs": [
    {
     "name": "stdin",
     "output_type": "stream",
     "text": [
      "Enter an integer for Fibbonacci series 7\n"
     ]
    },
    {
     "data": {
      "text/plain": [
       "[1, 1, 2, 3, 5, 8, 13]"
      ]
     },
     "execution_count": 10,
     "metadata": {},
     "output_type": "execute_result"
    }
   ],
   "source": [
    "num = int(input(\"Enter an integer for Fibbonacci series\"))\n",
    "def fibbonacci(n):\n",
    "    ser = []\n",
    "    for i in range(n):\n",
    "        if i==0:\n",
    "            ser.append(1)\n",
    "        elif i==1:\n",
    "            ser.append(1)\n",
    "        else:\n",
    "            ser.append(ser[i-1]+ser[i-2])\n",
    "    return(ser)\n",
    "\n",
    "fibbonacci(num)"
   ]
  },
  {
   "cell_type": "markdown",
   "metadata": {},
   "source": [
    "## Problem 10 \n",
    "Ask the user for a number and determine whether the number is prime or not. (For those who have forgotten, a prime number is a number that has no divisors.) Take this opportunity to practice using functions, described below."
   ]
  },
  {
   "cell_type": "code",
   "execution_count": 11,
   "metadata": {},
   "outputs": [
    {
     "name": "stdin",
     "output_type": "stream",
     "text": [
      "Enter an integer:  90\n"
     ]
    },
    {
     "name": "stdout",
     "output_type": "stream",
     "text": [
      "The number is not a prime\n"
     ]
    }
   ],
   "source": [
    "#taken this logic from problem 3\n",
    "def prime(number):\n",
    "    Factors = []\n",
    "    [Factors.append(i) for i in range(1,number+1) if number%i==0]\n",
    "    if Factors[0]==1 and Factors[1] == number:\n",
    "        print(\"the number is a prime\")\n",
    "    else:\n",
    "        print(\"The number is not a prime\")\n",
    "    return \n",
    "    \n",
    "num = int(input(\"Enter an integer: \"))\n",
    "prime(num)   \n",
    "    \n"
   ]
  },
  {
   "cell_type": "markdown",
   "metadata": {},
   "source": [
    "## Problem 11\n",
    "Write a program that takes a list of numbers (for example, a = [5, 10, 15, 20, 25]) and makes a new list of only the first and last elements of the given list. For practice, write this code inside a function."
   ]
  },
  {
   "cell_type": "code",
   "execution_count": 12,
   "metadata": {},
   "outputs": [
    {
     "name": "stdout",
     "output_type": "stream",
     "text": [
      "[5, 25]\n",
      "[5, 10, 15, 20, 25]\n"
     ]
    }
   ],
   "source": [
    "a = [5, 10, 15, 20, 25]\n",
    "def first_last(list):\n",
    "    new_list = [list[0],list[-1]]\n",
    "    return new_list\n",
    "new_list = first_last(a)\n",
    "print(new_list)\n",
    "print(a)"
   ]
  },
  {
   "cell_type": "markdown",
   "metadata": {},
   "source": [
    "## Problem 12\n",
    "Write a program (function!) that takes a list and returns a new list that contains all the elements of the first list minus all the duplicates.\n",
    "\n",
    "Extras:\n",
    "\n",
    "*   Write two different functions to do this - one using a loop and constructing a list, and another using sets.\n",
    "*   Go back and do Exercise 5 using sets, and write the solution for that in a different function."
   ]
  },
  {
   "cell_type": "code",
   "execution_count": 32,
   "metadata": {},
   "outputs": [
    {
     "name": "stdout",
     "output_type": "stream",
     "text": [
      "[3, 4, 2, 1, 5, 6, 10, 9, 7, 8, 12, 19, 16]\n",
      "[1, 2, 3, 4, 5, 6, 7, 8, 9, 10, 12, 16, 19]\n",
      "{1, 2, 3, 4, 5, 6, 7, 8, 9, 10, 12, 16, 19}\n"
     ]
    }
   ],
   "source": [
    "def non_duplicate1(x): # using for loop\n",
    "    new_list=[]\n",
    "    dummy = []\n",
    "    count=0;\n",
    "    for i in x:\n",
    "        if i not in new_list:\n",
    "            new_list.append(i)\n",
    "        \n",
    "    return new_list\n",
    "\n",
    "def non_duplicate2(x): #using sets\n",
    "    return list(set(x))\n",
    "\n",
    "a = [3,4,2,1,5,1,6,5,6,10,9,7,9,8,12,19,16,12]\n",
    "print(non_duplicate1(a))\n",
    "print(non_duplicate2(a))\n",
    "print(set(a))                \n"
   ]
  },
  {
   "cell_type": "markdown",
   "metadata": {},
   "source": [
    "##########################################################\n",
    "# some trick using sets:\n",
    "    names = set()\n",
    "    names.add(\"Michele\")\n",
    "    names.add(\"Robin\")\n",
    "    names.add(\"Michele\")\n",
    "    print(names)\n",
    "# You can convert from a list to a set and a set to a list pretty easily:\n",
    "    names = [\"Michele\", \"Robin\", \"Sara\", \"Michele\"]\n",
    "    names = set(names)\n",
    "    names = list(names)\n",
    "    print(names)"
   ]
  },
  {
   "cell_type": "markdown",
   "metadata": {},
   "source": [
    "# Exercise 13\n",
    "Write a program (using functions!) that asks the user for a long string containing multiple words. Print back to the user the same string, except with the words in backwards order. For example, say I type the string:\n",
    "\n",
    "  My name is Michele\n",
    "Then I would see the string:\n",
    "\n",
    "\n",
    "  Michele is name My\n",
    "shown back to me."
   ]
  },
  {
   "cell_type": "code",
   "execution_count": 55,
   "metadata": {},
   "outputs": [
    {
     "name": "stdin",
     "output_type": "stream",
     "text": [
      "Enter a sentence:\n",
      " th kid is\n"
     ]
    },
    {
     "name": "stdout",
     "output_type": "stream",
     "text": [
      "is kid th\n",
      "['ret', 'two']\n"
     ]
    }
   ],
   "source": [
    "Input_string = input(\"Enter a sentence:\\n\")\n",
    "def reverse_string(str):\n",
    "    result = str.split()\n",
    "    dummy = []\n",
    "    for word in result:\n",
    "        dummy.insert(0,word)\n",
    "    return \" \".join(dummy)\n",
    "   \n",
    "print(reverse_string(Input_string))\n",
    "dummy = []\n",
    "dummy.insert(0,\"ret\")\n",
    "dummy.insert(1,\"two\")\n",
    "print(dummy)"
   ]
  },
  {
   "cell_type": "markdown",
   "metadata": {},
   "source": [
    "# Exercise 14 \n",
    "Write a password generator in Python. Be creative with how you generate passwords - strong passwords have a mix of lowercase letters, uppercase letters, numbers, and symbols. The passwords should be random, generating a new password every time the user asks for a new password. Include your run-time code in a main method.\n",
    "\n",
    "* Extra:\n",
    "\n",
    "Ask the user how strong they want their password to be. For weak passwords, pick a word or two from a list."
   ]
  },
  {
   "cell_type": "code",
   "execution_count": null,
   "metadata": {},
   "outputs": [],
   "source": []
  }
 ],
 "metadata": {
  "kernelspec": {
   "display_name": "Python 3",
   "language": "python",
   "name": "python3"
  },
  "language_info": {
   "codemirror_mode": {
    "name": "ipython",
    "version": 3
   },
   "file_extension": ".py",
   "mimetype": "text/x-python",
   "name": "python",
   "nbconvert_exporter": "python",
   "pygments_lexer": "ipython3",
   "version": "3.7.3"
  }
 },
 "nbformat": 4,
 "nbformat_minor": 4
}
