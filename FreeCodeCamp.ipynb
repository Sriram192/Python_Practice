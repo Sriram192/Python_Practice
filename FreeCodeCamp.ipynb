{
 "cells": [
  {
   "cell_type": "code",
   "execution_count": 4,
   "metadata": {
    "colab": {},
    "colab_type": "code",
    "id": "ekPo36Iritjj",
    "outputId": "0f7cb484-1be0-41bd-96bb-bd376dbb563f",
    "tags": []
   },
   "outputs": [
    {
     "name": "stdout",
     "output_type": "stream",
     "text": [
      "Enter an integer\n",
      "56\n",
      "huge\n"
     ]
    }
   ],
   "source": [
    "x = int(input(\"Enter an integer\\n\"))\n",
    "if x < 2:\n",
    "    print('small')\n",
    "elif x < 10:\n",
    "    print('medium')\n",
    "elif x < 20:\n",
    "    print('large')\n",
    "else:\n",
    "    print('huge')"
   ]
  },
  {
   "cell_type": "markdown",
   "metadata": {},
   "source": [
    "## Try and Except"
   ]
  },
  {
   "cell_type": "code",
   "execution_count": 6,
   "metadata": {
    "colab": {},
    "colab_type": "code",
    "id": "WtVSgyZZitjn",
    "outputId": "3db8899e-6d91-4287-b7a1-7874acd03f9f",
    "tags": []
   },
   "outputs": [
    {
     "name": "stdout",
     "output_type": "stream",
     "text": [
      "0\n",
      "123\n"
     ]
    }
   ],
   "source": [
    "''' the try and except structure is used when we expect the code to blow up or run into an error. When a part of code\n",
    "is included in the \"try\" block, the python skips that part if it encounters an errorand executes the code in the \"except\" block.\n",
    "If there is no error in the \"try\" block, its executed and the \"execute\" block is neglected. If there are multiple lines \n",
    "in the \"try\" block then all the lines leading up to the one with error will be executed and the \"except\" block\n",
    "will be executed after that.'''\n",
    "str = 'bob'\n",
    "try:\n",
    "    num = int(str)#since a string can't be converted to int, this would throw an error and therefore, the except block is executed\n",
    "except:\n",
    "    num = 0\n",
    "print(num)\n",
    "\n",
    "str = '123'\n",
    "try:\n",
    "    num = int(str)#In this case the string can be converted to int, therefore the try block is executed without error.\n",
    "except:\n",
    "    num = 1\n",
    "print(num)"
   ]
  },
  {
   "cell_type": "code",
   "execution_count": null,
   "metadata": {
    "colab": {},
    "colab_type": "code",
    "id": "V4RiX3xditjq",
    "outputId": "12bd4c62-22fb-4aa6-9b56-263731ae39f5",
    "tags": []
   },
   "outputs": [
    {
     "name": "stdout",
     "output_type": "stream",
     "text": [
      "0.99\n"
     ]
    }
   ],
   "source": [
    "print(99/100)"
   ]
  },
  {
   "cell_type": "markdown",
   "metadata": {},
   "source": [
    "## Introduction to functions"
   ]
  },
  {
   "cell_type": "code",
   "execution_count": null,
   "metadata": {
    "colab": {},
    "colab_type": "code",
    "id": "b5ZaIGriitjt",
    "outputId": "0252a912-1640-4777-be84-02eb7c1a3f6f",
    "tags": []
   },
   "outputs": [
    {
     "name": "stdout",
     "output_type": "stream",
     "text": [
      "Hello  ram\n"
     ]
    }
   ],
   "source": [
    "def greet(name):\n",
    "    print('Hello ', name)\n",
    "greet(\"ram\")\n"
   ]
  },
  {
   "cell_type": "code",
   "execution_count": 12,
   "metadata": {
    "colab": {},
    "colab_type": "code",
    "id": "RrFuTNaVitjw",
    "outputId": "38688b03-9aab-48a4-abbe-8e5270e872fd",
    "tags": []
   },
   "outputs": [
    {
     "name": "stdout",
     "output_type": "stream",
     "text": [
      "r\n",
      "r\n",
      "s\n",
      "y\n",
      "\n",
      "Notice the difference when Capital letters are used for names\n",
      "\n",
      "j\n",
      "r\n",
      "o\n",
      "y\n"
     ]
    }
   ],
   "source": [
    "name = [\"raj\",\"leonard\",\"sheldon\",\"betty\"]\n",
    "for i in name:\n",
    "    print(max(i))\n",
    "print('\\nNotice the difference when Capital letters are used for names\\n')\n",
    "name = [\"Raj\",\"Leonard\",\"Sheldon\",\"Betty\"]\n",
    "for i in name:\n",
    "    print(max(i))\n",
    "\n",
    "    "
   ]
  },
  {
   "cell_type": "markdown",
   "metadata": {
    "colab_type": "text",
    "id": "Aif8ZgY2itjz"
   },
   "source": [
    "# string slicing"
   ]
  },
  {
   "cell_type": "code",
   "execution_count": 14,
   "metadata": {
    "colab": {},
    "colab_type": "code",
    "id": "tdgmB7gKitjz",
    "outputId": "d5628ae1-3fe3-42e8-8763-0d47c48e08e9"
   },
   "outputs": [
    {
     "name": "stdout",
     "output_type": "stream",
     "text": [
      "Mont\n",
      "Monty P\n",
      "Monty Python\n",
      "ython\n",
      "Monty Python\n"
     ]
    }
   ],
   "source": [
    "word = 'Monty Python'\n",
    "print(word[0:4]) #0 through 4 not including 4\n",
    "print(word[0:7]) #0 through 7 not including 7\n",
    "print(word[0:])  #0 through the end\n",
    "print(word[7:])  #7 through the end\n",
    "print(word[:])   #from beginning till end"
   ]
  },
  {
   "cell_type": "markdown",
   "metadata": {
    "colab_type": "text",
    "id": "EPNGCfHEitj2"
   },
   "source": [
    "# Using 'in' as a logical operator"
   ]
  },
  {
   "cell_type": "code",
   "execution_count": 13,
   "metadata": {
    "colab": {},
    "colab_type": "code",
    "id": "fCpkF2g0itj2",
    "outputId": "b966a6dc-824c-4e35-d470-1b06c60ab8cc"
   },
   "outputs": [
    {
     "data": {
      "text/plain": [
       "True"
      ]
     },
     "execution_count": 13,
     "metadata": {},
     "output_type": "execute_result"
    }
   ],
   "source": [
    "fruit= 'banana'\n",
    "'n' in fruit #checks if the letter 'n' is there in banana and returns True\n",
    "'m' in fruit # checks if the letter 'm' is there in baanan and returns False\n",
    "'nana' in fruit # checks if the srting 'nana' is there in banana and returns True\n"
   ]
  },
  {
   "cell_type": "code",
   "execution_count": null,
   "metadata": {
    "colab": {},
    "colab_type": "code",
    "id": "O-PnqnmBitj6",
    "outputId": "413e3d2a-b94a-4c1f-f7d1-cf3a9a0e3211"
   },
   "outputs": [
    {
     "data": {
      "text/plain": [
       "[1, 2, 3, 4, 5]"
      ]
     },
     "execution_count": 22,
     "metadata": {
      "tags": []
     },
     "output_type": "execute_result"
    }
   ],
   "source": [
    "x = [1,2,3,4,5]\n",
    "dir(x)\n",
    "x"
   ]
  },
  {
   "cell_type": "markdown",
   "metadata": {
    "colab_type": "text",
    "id": "ZoltOyjUitj9"
   },
   "source": [
    "# Use the 'find' function and slice the string after the colon and convert the number into a floating point number"
   ]
  },
  {
   "cell_type": "code",
   "execution_count": 15,
   "metadata": {
    "colab": {},
    "colab_type": "code",
    "id": "l5JdHSCuitj-",
    "outputId": "3f4fad2d-9687-49d5-fe14-d1abad63f9c4"
   },
   "outputs": [
    {
     "name": "stdout",
     "output_type": "stream",
     "text": [
      "0.6789\n",
      "Confidence : 0.6789\n"
     ]
    }
   ],
   "source": [
    "str = 'X-DSAP Confidence : 0.6789'\n",
    "spos = str.find(':')\n",
    "num = float(str[spos+1:])\n",
    "print(num)\n",
    "\n",
    "#lets try finding the first instance where space is used and print the rest of the text\n",
    "lpos = str.find(' ')\n",
    "print(str[lpos+1:])"
   ]
  },
  {
   "cell_type": "markdown",
   "metadata": {
    "colab_type": "text",
    "id": "kzSiNv0QitkA"
   },
   "source": [
    "## Reading a file\n",
    "* Files can either be read line by line or can be read as a whole\n",
    "* When we read a file each line of the file has a \"\\n\" at the end of the line.\n",
    "* Apart from that, the print() function adds a \"\\n\" of its own to whatever argument is passed to it\n",
    "* Only either of the approaches can be used at a time. If a file has already been opened with a file handle and read line by line, we cannot use the same handle to read the file as a whole. Try to run the next three blocks of code one after the other to understand. The same file can be opened with a different handle to read it using the other method."
   ]
  },
  {
   "cell_type": "markdown",
   "metadata": {
    "colab": {},
    "colab_type": "code",
    "id": "-y94XDfjitkD",
    "outputId": "d185c3dd-1892-42a4-d37a-55abad7b065f"
   },
   "source": [
    "## reading a file line by line:\n",
    "\n"
   ]
  },
  {
   "cell_type": "code",
   "execution_count": 34,
   "metadata": {
    "colab": {},
    "colab_type": "code",
    "id": "-y94XDfjitkD",
    "outputId": "d185c3dd-1892-42a4-d37a-55abad7b065f"
   },
   "outputs": [
    {
     "name": "stdout",
     "output_type": "stream",
     "text": [
      "<_io.TextIOWrapper name='readme.md' mode='r' encoding='cp1252'>\n",
      "# Preliminaries-ai1-fall2019\n",
      "\n",
      "Git and Baby Python Preliminaries for Ai1, Fall 2019\n",
      "\n",
      "\n",
      "\n",
      "1. Students should install [Anaconda Python 3.7 version](https://www.anaconda.com/distribution/#download-section)\n",
      "\n",
      "2. Students on Windows should install [git for windows](https://git-scm.com/download/win). This will also give you a new terminal with a `bash` shell (in addition to windows `command.com`), which is the standard command line shell on unix like systems. \n",
      "\n",
      "\n",
      "\n",
      "Mac users have git pre-installed. If you are a linux user, we'll assume you know what you are doing and have installed git.\n",
      "\n",
      "\n",
      "\n",
      "In Anaconda run the Jupyter Lab interface from the Anaconda GUI. Then open `intropython.ipynb` and `git.ipynb` in that interface.\n",
      "\n",
      "\n",
      "\n",
      "On all OS's open a terminal with bash running. On OSX this is `Terminal.app`, on linux `New Terminal`, and on windows `git-bash` terminal. The git commands in `git.ipynb` are intended to be carried out from this shell.\n",
      "\n",
      "\n",
      "\n",
      "\n",
      "\n",
      "\n",
      "\n",
      "\n",
      "\n"
     ]
    }
   ],
   "source": [
    "print(fhand)\n",
    "fhand = open('readme.md')\n",
    "\n",
    "count = 0\n",
    "for each_line in fhand:\n",
    "    each_line.strip() #this command strips the \"\\n\" at the end of each line and therefore only the \"\\n\" provided by the print function remains.\n",
    "    print(each_line)\n",
    "\n",
    "for each_line in fhand:\n",
    "    print(each_line)"
   ]
  },
  {
   "cell_type": "markdown",
   "metadata": {},
   "source": [
    "## Reading file as a whole\n"
   ]
  },
  {
   "cell_type": "code",
   "execution_count": 30,
   "metadata": {
    "colab": {},
    "colab_type": "code",
    "id": "ilm9i7M-itkF",
    "outputId": "0d122f8f-392c-466c-d671-a740a25b6381"
   },
   "outputs": [
    {
     "name": "stdout",
     "output_type": "stream",
     "text": [
      "931\n",
      "# Preliminaries-ai1-\n",
      "# Preliminaries-ai1-fall2019\n",
      "Git and Baby Python Preliminaries for Ai1, Fall 2019\n",
      "\n",
      "1. Students should install [Anaconda Python 3.7 version](https://www.anaconda.com/distribution/#download-section)\n",
      "2. Students on Windows should install [git for windows](https://git-scm.com/download/win). This will also give you a new terminal with a `bash` shell (in addition to windows `command.com`), which is the standard command line shell on unix like systems. \n",
      "\n",
      "Mac users have git pre-installed. If you are a linux user, we'll assume you know what you are doing and have installed git.\n",
      "\n",
      "In Anaconda run the Jupyter Lab interface from the Anaconda GUI. Then open `intropython.ipynb` and `git.ipynb` in that interface.\n",
      "\n",
      "On all OS's open a terminal with bash running. On OSX this is `Terminal.app`, on linux `New Terminal`, and on windows `git-bash` terminal. The git commands in `git.ipynb` are intended to be carried out from this shell.\n",
      "\n",
      "\n",
      "\n",
      "\n",
      "\n"
     ]
    }
   ],
   "source": [
    "f2hand = open(\"readme.md\")\n",
    "inp = f2hand.read()\n",
    "print(len(inp))\n",
    "print(inp[0:20])\n",
    "print(inp)"
   ]
  },
  {
   "cell_type": "code",
   "execution_count": 37,
   "metadata": {},
   "outputs": [
    {
     "data": {
      "text/plain": [
       "'C:\\\\Users\\\\srira\\\\Documents\\\\Python Scripts\\\\Univ.Ai\\\\Preliminaries-ai1-fall2019-master\\\\Preliminaries-ai1-fall2019-master'"
      ]
     },
     "execution_count": 37,
     "metadata": {},
     "output_type": "execute_result"
    }
   ],
   "source": [
    "pwd #prints the present working dirctory\n"
   ]
  },
  {
   "cell_type": "code",
   "execution_count": 39,
   "metadata": {
    "colab": {},
    "colab_type": "code",
    "id": "3Pan5DKIitkH",
    "outputId": "07f1fe14-a772-4ff2-b4e2-280991fcfa58",
    "tags": []
   },
   "outputs": [
    {
     "name": "stdout",
     "output_type": "stream",
     "text": [
      "Enter the file name: readme.mk\n",
      "C:\\Users\\srira\\Documents\\Python Scripts\\Univ.Ai\\Preliminaries-ai1-fall2019-master\\Preliminaries-ai1-fall2019-master\n",
      "File name invalid:  readme.mk  Enter a valid filename\n",
      "173948\n"
     ]
    }
   ],
   "source": [
    "#getting input from the user:\n",
    "import os\n",
    "f_name = input('Enter the file name: ')\n",
    "print(os.getcwd()) # this is to print the current working directory. This also works when we run pwd in a different blocc\n",
    "try:\n",
    "    f_hand = open(f_name)\n",
    "except:\n",
    "    print('File name invalid: ', f_name,' Enter a valid filename')\n",
    "    quit() #to terminate the programming from running further without a valid file.\n",
    "f_hand = open('hamlet.txt')\n",
    "inp = f_hand.read()\n",
    "print(len(inp))\n"
   ]
  },
  {
   "cell_type": "markdown",
   "metadata": {
    "colab_type": "text",
    "id": "g_6s_JN_itkK"
   },
   "source": [
    "# Write a code to read a file line by line and print the lines in upper case."
   ]
  },
  {
   "cell_type": "code",
   "execution_count": null,
   "metadata": {
    "colab": {},
    "colab_type": "code",
    "id": "hRkouE1OitkL",
    "outputId": "da970208-71a8-405e-f7ea-0f9789f8b11a",
    "tags": []
   },
   "outputs": [],
   "source": [
    "f_name = input('Enter the file name: ')\n",
    "try:\n",
    "    f_hand = open(f_name)\n",
    "except:\n",
    "    print('File name invalid: ', f_name,' Enter a valid filename')\n",
    "    quit() #to terminate the programming from running further without a valid file.\n",
    "count = 0;\n",
    "for line in f_hand:\n",
    "    print(line.upper())#printing the lines in Upper Case\n",
    "    count = count + 1\n",
    "print(\"line count : \",count)\n",
    "    "
   ]
  },
  {
   "cell_type": "markdown",
   "metadata": {},
   "source": [
    "## Can a similar approach be used to read a whole file and print it in upper hand?"
   ]
  },
  {
   "cell_type": "code",
   "execution_count": 2,
   "metadata": {},
   "outputs": [
    {
     "name": "stdout",
     "output_type": "stream",
     "text": [
      "enter a file name\n",
      "readme.md\n",
      "# PRELIMINARIES-AI1-FALL2019\n",
      "GIT AND BABY PYTHON PRELIMINARIES FOR AI1, FALL 2019\n",
      "\n",
      "1. STUDENTS SHOULD INSTALL [ANACONDA PYTHON 3.7 VERSION](HTTPS://WWW.ANACONDA.COM/DISTRIBUTION/#DOWNLOAD-SECTION)\n",
      "2. STUDENTS ON WINDOWS SHOULD INSTALL [GIT FOR WINDOWS](HTTPS://GIT-SCM.COM/DOWNLOAD/WIN). THIS WILL ALSO GIVE YOU A NEW TERMINAL WITH A `BASH` SHELL (IN ADDITION TO WINDOWS `COMMAND.COM`), WHICH IS THE STANDARD COMMAND LINE SHELL ON UNIX LIKE SYSTEMS. \n",
      "\n",
      "MAC USERS HAVE GIT PRE-INSTALLED. IF YOU ARE A LINUX USER, WE'LL ASSUME YOU KNOW WHAT YOU ARE DOING AND HAVE INSTALLED GIT.\n",
      "\n",
      "IN ANACONDA RUN THE JUPYTER LAB INTERFACE FROM THE ANACONDA GUI. THEN OPEN `INTROPYTHON.IPYNB` AND `GIT.IPYNB` IN THAT INTERFACE.\n",
      "\n",
      "ON ALL OS'S OPEN A TERMINAL WITH BASH RUNNING. ON OSX THIS IS `TERMINAL.APP`, ON LINUX `NEW TERMINAL`, AND ON WINDOWS `GIT-BASH` TERMINAL. THE GIT COMMANDS IN `GIT.IPYNB` ARE INTENDED TO BE CARRIED OUT FROM THIS SHELL.\n",
      "\n",
      "\n",
      "\n",
      "\n",
      "\n",
      "\n",
      " WORKS!!\n",
      "\n"
     ]
    }
   ],
   "source": [
    "f_name = input(\"enter a file name\\n\")\n",
    "try:\n",
    "    file_handle = open(f_name)\n",
    "except:\n",
    "    print(\"Invalid file name :\",f_name,\". Please enter a valid file name\")\n",
    "    quit()\n",
    "file = file_handle.read()\n",
    "print(file.upper())\n",
    "print('\\n WORKS!!\\n')"
   ]
  },
  {
   "cell_type": "code",
   "execution_count": 6,
   "metadata": {
    "colab": {},
    "colab_type": "code",
    "id": "8DqTMoyLitkO",
    "outputId": "075fefa1-a471-4e58-d869-0ea1d5353ca5",
    "tags": []
   },
   "outputs": [
    {
     "name": "stdout",
     "output_type": "stream",
     "text": [
      "Enter a filenamereadme.md\n",
      "1. Students should install [Anaconda Python 3.7 version](https://www.anaconda.com/distribution/#download-section)\n",
      "\n",
      "1\n"
     ]
    }
   ],
   "source": [
    "f_name = input(\"Enter a filename\")\n",
    "try:\n",
    "    F_hand = open(f_name)\n",
    "except:\n",
    "    print(\"Enter a valid filename\")\n",
    "    quit()\n",
    "#[print(lines.upper()) for lines in F_hand]#one line code to print contents of a file line by line\n",
    "count = 0;\n",
    "\n",
    "for lines in F_hand:\n",
    "    if lines.startswith('1'):\n",
    "        lines.rstrip()#strips away the \\n at the end of each line in the file.\n",
    "        print(lines)\n",
    "        count = count + 1\n",
    "print(count)\n",
    "\n",
    "#another way to the same is as below:\n",
    "for line in F_hand:\n",
    "    line.rstrip()\n",
    "    if not line.startswith('1'): #this condition will check for lines not starting with 0\n",
    "        continue# this will just skip and go the to next iteration\n",
    "    print(line)\n",
    "        \n",
    "    "
   ]
  },
  {
   "cell_type": "markdown",
   "metadata": {},
   "source": [
    "## Some mathematics! - Introduction to lists in python\n",
    "* Lists in python are like vectors in mathematics.\n",
    "* Lists can have string, float, int and even mixed type\n",
    "* They are the simplest of data handling entities in python apart from individual variables.\n",
    "* List index starts from 0 like in C++"
   ]
  },
  {
   "cell_type": "code",
   "execution_count": 10,
   "metadata": {
    "colab": {},
    "colab_type": "code",
    "id": "RvQociCYitkQ",
    "outputId": "85a55827-5040-4de8-c752-da0eaaabf0fe",
    "tags": []
   },
   "outputs": [
    {
     "name": "stdout",
     "output_type": "stream",
     "text": [
      "[5, 2, 3, 7, 5, 6]\n",
      "[2, 3, 5, 5, 6, 7]\n",
      "4.666666666666667\n"
     ]
    }
   ],
   "source": [
    "A = [5 ,2 ,3]\n",
    "B = [7 ,5 ,6]\n",
    "C = A + B #concatenating lists\n",
    "print(C)\n",
    "7 in C # check whete 7 is there in the list and prints true\n",
    "C.sort() # sorts it in ascending order and saves it back to C\n",
    "print(C)\n",
    "average = sum(C)/len(C) \n",
    "print(average)\n"
   ]
  },
  {
   "cell_type": "markdown",
   "metadata": {},
   "source": [
    "## Accessing the items in a list:"
   ]
  },
  {
   "cell_type": "code",
   "execution_count": 19,
   "metadata": {},
   "outputs": [
    {
     "name": "stdout",
     "output_type": "stream",
     "text": [
      "[5, 'ram', 7]\n",
      "[5, 77, 92, 'jai']\n",
      "jai\n"
     ]
    }
   ],
   "source": [
    "A = [5,'ram',7,5,77,92,'jai'] # a mixed list of string and integers\n",
    "print(A[0:3])\n",
    "print(A[3:])\n",
    "print(A[-1]) #accessing the last item of the list\n"
   ]
  },
  {
   "cell_type": "markdown",
   "metadata": {
    "colab_type": "text",
    "id": "PwfX10ohitkT"
   },
   "source": [
    "*******************************************************************************************************\n",
    "# Python Dictionaries\n",
    "* A 'bag' of values each with its own label\n",
    "* Dictionaries are python's most powerful data collection\n",
    "* They allow us to do fast database type operations\n"
   ]
  },
  {
   "cell_type": "code",
   "execution_count": 20,
   "metadata": {
    "colab": {},
    "colab_type": "code",
    "id": "ZvUfBfbIitkT",
    "outputId": "9c8e2b28-0ab3-4ebf-bf81-be6d7b320d34",
    "tags": []
   },
   "outputs": [
    {
     "name": "stdout",
     "output_type": "stream",
     "text": [
      "{'money': 100, 'Charger': 1, 'battery': 6, 'candy': 10}\n",
      "{'money': 100, 'Charger': 1, 'battery': 6, 'candy': 12}\n"
     ]
    }
   ],
   "source": [
    "bag = dict() #initializing bag as a dict type\n",
    "bag['money'] = 100\n",
    "bag['Charger'] = 1\n",
    "bag['battery'] = 6\n",
    "bag['candy'] = 10\n",
    "print(bag)\n",
    "bag['candy'] = bag['candy'] +2\n",
    "print(bag)\n"
   ]
  },
  {
   "cell_type": "code",
   "execution_count": 21,
   "metadata": {
    "colab": {},
    "colab_type": "code",
    "id": "oPuv8Ax3itkV",
    "outputId": "81a3cb26-f47c-4c3a-e83e-539cb3dcc88d",
    "tags": []
   },
   "outputs": [
    {
     "name": "stdout",
     "output_type": "stream",
     "text": [
      "{'age': 21, 'height': 160.2, 'wage': 16000}\n"
     ]
    }
   ],
   "source": [
    "employee =  dict()\n",
    "employee['age'] = 21\n",
    "employee['height'] = 160.2\n",
    "employee['wage'] = 16000\n",
    "print(employee)"
   ]
  },
  {
   "cell_type": "code",
   "execution_count": 22,
   "metadata": {
    "colab": {},
    "colab_type": "code",
    "id": "6DpXFKatitkY",
    "outputId": "b90818f8-8bef-40e3-d3a9-97914ba1d643",
    "tags": []
   },
   "outputs": [
    {
     "name": "stdout",
     "output_type": "stream",
     "text": [
      "{'age': 28, 'weight': 73, 'height': 178}\n",
      "28\n",
      "<class 'dict'>\n",
      "{'age': 28, 'weight': 73, 'height': 178, 'degrees': 2}\n"
     ]
    }
   ],
   "source": [
    "Sriram = {'age' : 28 , 'weight' : 73, 'height' : 178}\n",
    "print(Sriram)\n",
    "print(Sriram['age'])\n",
    "print(type(Sriram))\n",
    "Sriram['degrees'] = 2\n",
    "print(Sriram)"
   ]
  },
  {
   "cell_type": "code",
   "execution_count": 24,
   "metadata": {
    "colab": {},
    "colab_type": "code",
    "id": "K7MfTHT4itka",
    "outputId": "a84fe84f-11a3-43c6-e91c-0fc34706d2cc",
    "tags": []
   },
   "outputs": [
    {
     "name": "stdout",
     "output_type": "stream",
     "text": [
      "{'ram': 3, 'lakshman': 2, 'sita': 1, 'ravan': 2, 'hanuman': 1}\n",
      "0\n",
      "3\n"
     ]
    }
   ],
   "source": [
    "counts = dict()\n",
    "names = ['ram','lakshman','sita','ravan','ram','hanuman','ravan','lakshman','ram']\n",
    "for name in names:\n",
    "    if name not in counts:\n",
    "        counts[name] = 1\n",
    "    else:\n",
    "        counts[name] = counts[name] + 1\n",
    "print(counts)\n",
    "x = counts.get('bharat',0)#gets the value stored in the 'bharat' key in the dict. If it doesn't exist, it returns a 0. \n",
    "                          #The default number is supplied as 0 here. If the default number is seta as 1 the this happens:\n",
    "print(x)\n",
    "#this is equivalent to these four lines:\n",
    "\n",
    "#if name in count:\n",
    "#   x = count[name]\n",
    "# else:\n",
    "#   x = 0 \n",
    "   \n",
    "\n",
    "x = counts.get('ram',0)\n",
    "print(x)\n"
   ]
  },
  {
   "cell_type": "code",
   "execution_count": 25,
   "metadata": {
    "colab": {},
    "colab_type": "code",
    "id": "I1TzwVeoitkd",
    "outputId": "e1c9465c-78f2-49a1-a0b7-72f855247a41",
    "tags": []
   },
   "outputs": [
    {
     "name": "stdout",
     "output_type": "stream",
     "text": [
      "{'ram': 3, 'lakshman': 2, 'sita': 1, 'ravan': 2, 'hanuman': 1}\n"
     ]
    }
   ],
   "source": [
    "# Simplified counting with get()\n",
    "counts = dict()\n",
    "names = ['ram','lakshman','sita','ravan','ram','hanuman','ravan','lakshman','ram']\n",
    "for name in names:\n",
    "    counts[name] = counts.get(name,0) + 1\n",
    "print(counts)"
   ]
  },
  {
   "cell_type": "markdown",
   "metadata": {
    "colab_type": "text",
    "id": "F8ERvJGWitkf"
   },
   "source": [
    "## Read a text file to count the most used word."
   ]
  },
  {
   "cell_type": "code",
   "execution_count": 27,
   "metadata": {
    "colab": {
     "base_uri": "https://localhost:8080/",
     "height": 51
    },
    "colab_type": "code",
    "id": "y9lA5QWqitkg",
    "outputId": "6cb77fc7-e8d1-4102-d42c-c0a8b9a6476e",
    "tags": []
   },
   "outputs": [
    {
     "name": "stdout",
     "output_type": "stream",
     "text": [
      "Enter a file name\n",
      "readme.md\n",
      "The word most used in  readme.md  is  \" and \"  and it appears  4  times in the file\n"
     ]
    }
   ],
   "source": [
    "file_name = input(\"Enter a file name\\n\")\n",
    "try:\n",
    "    file_handle = open(file_name)\n",
    "except:\n",
    "    print(\"Error: Enter a vlaid file name.\", file_name ,\" Not found in the current directory!\")\n",
    "    quit()\n",
    "words = dict()\n",
    "for line in file_handle:\n",
    "    Word = line.split()\n",
    "    for word in Word:\n",
    "        words[word] = words.get(word,0) +1\n",
    "\n",
    "#print(words)\n",
    "#for key in words:\n",
    "#    print(key , words[key])\n",
    "\n",
    "MaxWord = None\n",
    "MaxCount = None\n",
    "for word,count in words.items():\n",
    "    if MaxCount is None or count > MaxCount:\n",
    "        MaxCount = count\n",
    "        MaxWord = word\n",
    "print('The word most used in ',file_name, ' is ','\"',MaxWord,'\"',' and it appears ',MaxCount,' times in the file')\n"
   ]
  },
  {
   "cell_type": "markdown",
   "metadata": {},
   "source": [
    "## reading a pdb file and getting the most occuring atom name"
   ]
  },
  {
   "cell_type": "code",
   "execution_count": 4,
   "metadata": {},
   "outputs": [
    {
     "name": "stdout",
     "output_type": "stream",
     "text": [
      "Enter a pdb filename\n",
      "2lfm.pdb\n",
      "A 11959\n",
      "\n",
      "didn't work because the pdb file has an item A with 11959 occurences in  2lfm.pdb . \n",
      "\n",
      "11900\n",
      "605\n"
     ]
    }
   ],
   "source": [
    "file_name = input(\"Enter a pdb filename\\n\")\n",
    "atom_names = dict()\n",
    "try:\n",
    "    file_handle = open(file_name)\n",
    "    for line in file_handle:\n",
    "        atoms = line.split()\n",
    "        for atom in atoms:\n",
    "            atom_names[atom] = atom_names.get(atom,0) + 1\n",
    "except:\n",
    "    print(\"Error : enter a valid pdb file name!\")\n",
    "    quit()\n",
    "\n",
    "atom_count = None\n",
    "atom_name = None\n",
    "for name,count in atom_names.items():\n",
    "    if atom_count is None or count > atom_count:\n",
    "        atom_count = count\n",
    "        atom_name = name\n",
    "print(atom_name, atom_count)\n",
    "#print(atom_names)\n",
    "print(\"\\ndidn't work because the pdb file has an item A with 11959 occurences in \",file_name,\". \\n\")\n",
    "print(atom_names['ATOM']) # print the number of time the word 'ATOM' has appeared in the pdb file\n",
    "print(atom_names['ALA'])\n",
    "\n",
    "    "
   ]
  },
  {
   "cell_type": "code",
   "execution_count": 1,
   "metadata": {
    "colab": {
     "base_uri": "https://localhost:8080/",
     "height": 187
    },
    "colab_type": "code",
    "id": "djbtP_mKitki",
    "outputId": "870e7179-25fc-46fa-a3cf-d3a6ba77e293",
    "tags": []
   },
   "outputs": [
    {
     "name": "stdout",
     "output_type": "stream",
     "text": [
      "['Ram', 'Jai', 'Murthy', 'viji', 'bhuvana', 'krupa']\n",
      "dict_keys(['Ram', 'Jai', 'Murthy', 'viji', 'bhuvana', 'krupa'])\n",
      "dict_values([1, 1, 1, 1, 1, 1])\n",
      "dict_items([('Ram', 1), ('Jai', 1), ('Murthy', 1), ('viji', 1), ('bhuvana', 1), ('krupa', 1)])\n",
      "Ram 1\n",
      "Jai 1\n",
      "Murthy 1\n",
      "viji 1\n",
      "bhuvana 1\n",
      "krupa 1\n"
     ]
    }
   ],
   "source": [
    "family = {'Ram':1,'Jai':1,'Murthy':1,'viji':1,'bhuvana':1,'krupa':1}\n",
    "print(list(family))\n",
    "print(family.keys())\n",
    "print(family.values())\n",
    "print(family.items())\n",
    "for Keys,Values in family.items():\n",
    "    print(Keys,Values)\n"
   ]
  },
  {
   "cell_type": "markdown",
   "metadata": {
    "colab_type": "text",
    "id": "Mz5bRH4pitkk",
    "tags": []
   },
   "source": [
    "**************************************************************************************************\n",
    "# Tuples\n",
    "Tuples are created the same way as lists except that we used a parenthesis \"( )\" to define them.\n",
    "Tuples are different from lists in that we cannot alter the contents of a tuple i.e Tuples are immutable. We cannot use sort(), append() etc with tuples.\n",
    "* Tuples are more efficient than lists\n",
    "* take up less storage\n"
   ]
  },
  {
   "cell_type": "code",
   "execution_count": 1,
   "metadata": {
    "colab": {},
    "colab_type": "code",
    "id": "V5ed9qGvitkk",
    "outputId": "6ad3b596-d6c8-4733-cad6-9c9cbffb0393",
    "tags": []
   },
   "outputs": [
    {
     "name": "stdout",
     "output_type": "stream",
     "text": [
      "(1, 2, 3, 4)\n",
      "3\n",
      "1\n",
      "2\n",
      "3\n",
      "4\n",
      "error\n",
      "(1, 2, 3, 4)\n",
      "10\n",
      "ram\n",
      "45\n"
     ]
    }
   ],
   "source": [
    "tuple1 = (1,2,3,4)\n",
    "print(tuple1)\n",
    "print(tuple1[2])\n",
    "for i in tuple1:\n",
    "    print(i)\n",
    "## cannot modify the content in a tuple:\n",
    "try:\n",
    "    tuple1[0] = 3 ## will throw an error\n",
    "except:\n",
    "    print('error')\n",
    "    quit()\n",
    "print(tuple1)\n",
    "#dir(tuple1) #to know what operation can be done with a tuple\n",
    "(x,y,z) = (10, 'ram',45)\n",
    "print(x)\n",
    "print(y)\n",
    "print(z)"
   ]
  },
  {
   "cell_type": "markdown",
   "metadata": {
    "colab_type": "text",
    "id": "VWsXmohcitkn"
   },
   "source": [
    "## List of tuples : "
   ]
  },
  {
   "cell_type": "code",
   "execution_count": 13,
   "metadata": {
    "colab": {
     "base_uri": "https://localhost:8080/",
     "height": 153
    },
    "colab_type": "code",
    "id": "F8NIIGNfitko",
    "outputId": "585a1a61-4150-4a71-ec96-fe6142b6b3f1",
    "tags": []
   },
   "outputs": [
    {
     "name": "stdout",
     "output_type": "stream",
     "text": [
      "[('a', 1), ('b', 4), ('c', 10), ('r', 2), ('y', 45)]\n",
      "a 1\n",
      "b 4\n",
      "c 10\n",
      "r 2\n",
      "y 45\n",
      "[(1, 'a'), (2, 'r'), (4, 'b'), (10, 'c'), (45, 'y')]\n",
      "[(45, 'y'), (10, 'c'), (4, 'b'), (2, 'r'), (1, 'a')]\n"
     ]
    }
   ],
   "source": [
    "d = {'a':1,'c':10,'b':4,'y':45,'r':2}\n",
    "d.items()\n",
    "print(sorted(d.items())) #Sorts according to alphabetical oreder of keys,observe that the result is a list made of tuples\n",
    "for k,v in sorted(d.items()): #this will sort the key (alphabetically)\n",
    "    print(k,v)\n",
    "\n",
    "#sorting using values:\n",
    "n_list = []\n",
    "for k,v in d.items():\n",
    "    n_list.append((v,k))\n",
    "print(sorted(n_list))\n",
    "print(sorted(n_list,reverse=True))descending order\n",
    "\n"
   ]
  },
  {
   "cell_type": "code",
   "execution_count": 10,
   "metadata": {
    "colab": {
     "base_uri": "https://localhost:8080/",
     "height": 51
    },
    "colab_type": "code",
    "id": "rj62JGe5itkr",
    "outputId": "68b78f5f-69e1-4e30-937c-994e9962bdfd"
   },
   "outputs": [
    {
     "name": "stdout",
     "output_type": "stream",
     "text": [
      "dict_items([('a', 10), ('b', 2), ('c', 5)])\n",
      "[('a', 10), ('b', 2), ('c', 5)]\n"
     ]
    }
   ],
   "source": [
    "d = {'a' : 10,'b' : 2, 'c' : 5}\n",
    "print(d.items())\n",
    "print(sorted(d.items()))\n"
   ]
  },
  {
   "cell_type": "markdown",
   "metadata": {
    "colab_type": "text",
    "id": "MMabaQh-lmvW"
   },
   "source": [
    "# Top ten words in a file:\n",
    "\n"
   ]
  },
  {
   "cell_type": "code",
   "execution_count": 18,
   "metadata": {
    "colab": {
     "base_uri": "https://localhost:8080/",
     "height": 411
    },
    "colab_type": "code",
    "id": "Mj827s_8lsH1",
    "outputId": "eb8eb712-1fa8-4ced-94a7-06420cc752d6"
   },
   "outputs": [
    {
     "name": "stdout",
     "output_type": "stream",
     "text": [
      "Enter a filenamehamlet.txt\n",
      "(989, 'the')\n",
      "(696, 'and')\n",
      "(625, 'of')\n",
      "(604, 'to')\n",
      "(510, 'I')\n",
      "(448, 'a')\n",
      "(444, 'my')\n",
      "(384, 'in')\n",
      "(363, 'you')\n",
      "(358, 'Ham.')\n",
      "the 989\n",
      "and 696\n",
      "of 625\n",
      "to 604\n",
      "I 510\n",
      "a 448\n",
      "my 444\n",
      "in 384\n",
      "you 363\n",
      "Ham. 358\n",
      "[(989, 'the'), (696, 'and'), (625, 'of'), (604, 'to'), (510, 'I'), (448, 'a'), (444, 'my'), (384, 'in'), (363, 'you'), (358, 'Ham.'), (296, 'is'), (278, 'his'), (269, 'it'), (255, 'not'), (247, 'And'), (225, 'that'), (224, 'your'), (222, 'with'), (203, 'this'), (186, 'be'), (168, 'for'), (162, 'he'), (159, 'have'), (147, 'The'), (144, 'but'), (144, 'as'), (142, 'me'), (132, 'will'), (122, 'him'), (117, 'are'), (116, 'To'), (112, 'That'), (110, 'Hor.'), (108, 'what'), (108, 'King.'), (107, 'our'), (106, 'do'), (105, 'so'), (102, 'we'), (101, 'shall'), (101, 'on'), (94, 'by'), (90, 'no'), (86, 'all'), (86, 'Pol.'), (84, 'from'), (84, 'But'), (82, 'thou'), (81, 'thy'), (79, 'lord,'), (79, 'A'), (78, 'or'), (76, 'they'), (75, 'at'), (75, 'What'), (74, 'Queen.'), (72, 'As'), (70, 'most'), (70, 'more'), (70, 'her'), (68, 'like'), (68, 'if'), (68, 'My'), (67, 'was'), (67, 'good'), (64, 'you,'), (63, 'would'), (63, 'For'), (62, 'Laer.'), (61, '[Enter'), (58, 'may'), (58, 'let'), (58, 'Oph.'), (57, 'very'), (57, 'lord.'), (57, 'O,'), (56, 'know'), (56, \"I'll\"), (56, 'How'), (55, 'It'), (54, 'their'), (54, 'must'), (54, 'hath'), (52, 'some'), (51, 'should'), (51, 'Ros.'), (50, 'am'), (49, 'an'), (49, 'You'), (48, 'come'), (47, 'This'), (46, 'us'), (46, 'such'), (46, 'did'), (46, 'O'), (45, 'Clown.'), (45, \"'tis\"), (44, 'them'), (44, 'make'), (43, 'much'), (42, 'With'), (41, 'love'), (41, 'Of'), (41, 'If'), (40, 'He'), (39, 'there'), (39, 'out'), (38, 'upon'), (38, 'think'), (38, 'than'), (38, 'give'), (38, 'So'), (37, 'had'), (36, 'which'), (36, 'these'), (36, 'tell'), (36, 'speak'), (36, 'In'), (36, '1'), (35, 'own'), (35, 'now'), (35, 'go'), (35, 'Mar.'), (34, 'thee'), (34, 'she'), (34, 'it,'), (34, 'Let'), (34, 'Ay,'), (33, 'me,'), (32, 'too'), (32, 'man'), (32, 'Guil.'), (31, 'Or'), (30, 'say'), (30, 'We'), (29, 'when'), (29, 'time'), (29, 'see'), (29, 'one'), (29, 'can'), (28, 'how'), (28, 'Hamlet'), (27, 'take'), (27, 'sir,'), (27, 'might'), (27, 'lord?'), (27, 'into'), (26, 'where'), (26, 'well'), (26, 'up'), (26, 'made'), (26, 'king'), (26, 'here'), (26, 'father'), (26, 'dear'), (26, 'Why,'), (25, 'yet'), (25, 'him,'), (25, 'could'), (25, 'been'), (25, 'When'), (25, 'Osr.'), (25, 'Hamlet,'), (25, \"'Tis\"), (24, 'were'), (24, 'it.'), (24, 'great'), (24, 'cannot'), (24, 'No,'), (24, 'Is'), (23, 'mine'), (23, 'doth'), (23, 'Where'), (22, 'you.'), (22, 'whose'), (22, 'put'), (22, 'now,'), (22, \"i'\"), (22, 'him.'), (22, 'hear'), (22, 'does'), (22, '[Exeunt'), (22, 'Nay,'), (22, 'Do'), (22, 'But,'), (21, 'thus'), (21, 'nor'), (21, 'me.'), (21, 'hold'), (21, 'call'), (21, 'Good'), (21, 'Ber.'), (20, 'those'), (20, 'set'), (20, 'poor'), (20, 'look'), (20, 'itself'), (20, 'Scene'), (20, 'Give'), (19, 'who'), (19, 'show'), (19, 'pray'), (19, '[Exit.]'), (19, '[Exit'), (19, 'Which'), (19, 'Polonius.]'), (18, 'then'), (18, 'sweet'), (18, 'part'), (18, 'old'), (18, 'not,'), (18, 'leave'), (18, \"father's\"), (18, 'comes'), (18, 'both'), (18, 'against'), (18, 'Why'), (18, 'Then'), (18, 'Laertes,'), (17, 'world'), (17, 'that,'), (17, 'soul'), (17, 'seen'), (17, 'nothing'), (17, 'noble'), (17, 'many'), (17, 'head'), (17, 'find'), (17, 'dead'), (17, 'Your'), (17, 'Will'), (17, 'They'), (17, 'No'), (17, 'I,'), (17, 'His'), (17, 'Come,'), (17, 'By'), (16, 'two'), (16, 'though'), (16, 'this,'), (16, 'play'), (16, 'never'), (16, 'keep'), (16, 'heaven'), (16, 'Nor'), (16, 'Horatio,'), (16, 'And,'), (15, 'then,'), (15, 'little'), (15, 'fair'), (15, 'death'), (15, 'believe'), (15, 'Upon'), (15, 'Rosencrantz'), (15, 'Not'), (15, 'Have'), (15, 'Be'), (14, 'young'), (14, 'well,'), (14, 'use'), (14, 'us,'), (14, 'true'), (14, 'room'), (14, 'nature'), (14, 'makes'), (14, 'lord;'), (14, 'King'), (14, 'Guildenstern.]'), (14, 'Ghost.'), (14, 'Castle.'), (13, 'you?'), (13, 'words'), (13, 'without'), (13, 'thing'), (13, 'off'), (13, 'night,'), (13, 'means'), (13, 'life'), (13, 'hast'), (13, 'has'), (13, 'even'), (13, 'between'), (13, 'before'), (13, 'bear'), (13, 'art'), (13, 'about'), (13, '[Exeunt.]'), (13, 'Who'), (13, 'Thou'), (13, 'Than'), (13, 'Rey.'), (13, 'Now'), (13, 'God'), (13, 'Go'), (13, 'Did'), (12, 'you:'), (12, 'thoughts'), (12, 'sir.'), (12, 'sent'), (12, 'say,'), (12, 'mother'), (12, 'matter'), (12, 'lord!'), (12, 'live'), (12, 'know,'), (12, 'it:'), (12, 'indeed,'), (12, 'hand'), (12, 'first'), (12, 'earth'), (12, 'do,'), (12, 'day'), (12, 'any'), (12, 'and,'), (12, '[Sings.]'), (12, 'What,'), (12, \"There's\"), (12, 'Our'), (12, 'Ophelia,'), (12, 'Most'), (12, 'Hamlet.'), (12, '2'), (11, 'youth'), (11, 'why'), (11, 'till'), (11, 'stand'), (11, 'so,'), (11, 'saw'), (11, 'other'), (11, \"o'er\"), (11, \"o'\"), (11, 'night'), (11, 'love,'), (11, 'life,'), (11, 'king,'), (11, 'fear'), (11, 'ever'), (11, 'else'), (11, 'down'), (11, 'death,'), (11, 'come,'), (11, 'cause'), (11, 'body'), (11, 'better'), (11, 'Would'), (11, 'There'), (11, 'That,'), (11, 'Sir,'), (11, 'Lord'), (11, 'From'), (11, 'At'), (10, 'within'), (10, 'thousand'), (10, 'this?'), (10, 'things'), (10, 'therefore'), (10, 'them.'), (10, \"that's\"), (10, 'soul,'), (10, 'something'), (10, 'so.'), (10, 'same'), (10, 'rest'), (10, 'queen'), (10, 'players'), (10, 'once'), (10, 'oft'), (10, 'me:'), (10, 'majesty'), (10, 'madness'), (10, 'long'), (10, 'last'), (10, 'kind'), (10, 'heart'), (10, 'form'), (10, 'follow'), (10, 'far'), (10, 'ere'), (10, 'end'), (10, 'ear'), (10, 'bring'), (10, 'away'), (10, 'Yet'), (10, 'Now,'), (10, 'Look'), (10, 'King,'), (10, 'Alas,'), (9, 'you;'), (9, 'wind'), (9, 'will,'), (9, 'well.'), (9, 'thine'), (9, 'thee,'), (9, 'thank'), (9, 'still'), (9, 'son'), (9, 'second'), (9, 'please'), (9, 'ourselves'), (9, 'mother,'), (9, 'man,'), (9, 'is,'), (9, 'himself'), (9, 'him:'), (9, 'here,'), (9, 'heard'), (9, 'haste'), (9, 'grace'), (9, 'given'), (9, 'further'), (9, 'foul'), (9, 'eyes'), (9, \"e'en\"), (9, 'duty'), (9, 'draw'), (9, 'dost'), (9, 'best'), (9, 'be,'), (9, 'again'), (9, '[To'), (9, '[Aside.]'), (9, 'Whose'), (9, 'Till'), (9, 'Take'), (9, 'She'), (9, 'Queen'), (9, 'P.'), (9, 'Make'), (9, 'Hamlet.]'), (9, \"Hamlet's\"), (9, 'Gertrude,'), (9, 'Are'), (9, 'All'), (8, 'way'), (8, 'walk'), (8, 'virtue'), (8, 'through'), (8, 'three'), (8, 'them,'), (8, 'speech'), (8, 'so:'), (8, 'since'), (8, 'shows'), (8, 'seem'), (8, 'seek'), (8, 'said'), (8, 'reason'), (8, 'question'), (8, 'not.'), (8, 'nature,'), (8, 'men'), (8, 'me?'), (8, 'me;'), (8, 'lie'), (8, 'in.'), (8, 'heaven,'), (8, \"he's\"), (8, 'goes'), (8, 'gave'), (8, 'full'), (8, 'free'), (8, 'fit'), (8, 'excellent'), (8, 'every'), (8, 'each'), (8, 'done,'), (8, 'came'), (8, 'but,'), (8, 'business'), (8, 'blood'), (8, 'being'), (8, 'answer'), (8, 'almost'), (8, 'after'), (8, 'Thus'), (8, 'These'), (8, 'Rosencrantz,'), (8, 'Queen,'), (8, 'On'), (8, 'Never'), (8, 'I.'), (8, 'Horatio.]'), (8, 'Hath'), (8, 'Fran.'), (8, 'Even'), (8, 'Denmark'), (7, 'yourself'), (7, 'within.]'), (7, 'wilt'), (7, 'will.'), (7, 'whole'), (7, 'watch'), (7, 'understand'), (7, 'times'), (7, 'thought'), (7, 'sword,'), (7, 'stay'), (7, 'spirit'), (7, 'so?'), (7, 'sit'), (7, 'sir;'), (7, 'shot'), (7, 'shall,'), (7, 'sense'), (7, 'says'), (7, 'receive'), (7, 'queen,'), (7, 'power'), (7, 'particular'), (7, 'none'), (7, 'needs'), (7, 'near'), (7, 'more,'), (7, 'mind'), (7, 'memory'), (7, 'mean,'), (7, 'mad'), (7, 'lay'), (7, \"king's\"), (7, \"is't\"), (7, 'her,'), (7, 'heaven;'), (7, 'he,'), (7, 'grow'), (7, 'grief'), (7, 'go,'), (7, 'father;'), (7, 'down,'), (7, 'doubt'), (7, 'deed'), (7, 'come;'), (7, \"brother's\"), (7, 'beseech'), (7, 'all,'), (7, 'age'), (7, 'again,'), (7, 'action'), (7, 'act'), (7, 'Well,'), (7, \"We'll\"), (7, 'Very'), (7, 'Since'), (7, 'Norway,'), (7, 'May'), (7, 'Marry,'), (7, 'Like'), (7, 'Horatio'), (7, 'Here'), (7, 'Had'), (7, 'Fortinbras,'), (7, 'England'), (7, 'Capt.'), (6, 'word'), (6, 'wicked'), (6, 'wholesome'), (6, 'while'), (6, 'which,'), (6, \"what's\"), (6, \"we'll\"), (6, 'vile'), (6, 'top'), (6, 'tongue'), (6, 'together'), (6, 'there.'), (6, 'that?'), (6, 'takes'), (6, 'state'), (6, 'round'), (6, 'quick'), (6, 'poison'), (6, 'passion'), (6, 'out,'), (6, 'only'), (6, 'on.'), (6, 'now!'), (6, 'noise'), (6, 'news'), (6, 'name'), (6, 'mother.'), (6, \"mother's\"), (6, 'marry,'), (6, 'mark'), (6, 'lose'), (6, 'light'), (6, 'lies'), (6, 'letters'), (6, \"let's\"), (6, 'less'), (6, 'laid'), (6, 'lady,'), (6, 'indeed.'), (6, 'husband'), (6, 'honest'), (6, 'ho!'), (6, 'him;'), (6, 'heart,'), (6, 'hear.'), (6, 'hands'), (6, 'gone,'), (6, 'go.'), (6, 'gentlemen,'), (6, 'general'), (6, 'fine'), (6, 'fellow'), (6, 'fell'), (6, 'father.'), (6, 'father,'), (6, 'false'), (6, 'faith,'), (6, 'face'), (6, 'eye,'), (6, 'either'), (6, 'earth,'), (6, 'double'), (6, 'done'), (6, 'desperate'), (6, 'death.'), (6, 'dead,'), (6, 'daughter'), (6, 'damned'), (6, 'custom'), (6, 'cast'), (6, 'back'), (6, 'awhile,'), (6, 'alone'), (6, '[Within.]'), (6, '[Re-enter'), (6, 'Wherein'), (6, \"What's\"), (6, 'Was'), (6, 'Though'), (6, \"That's\"), (6, 'Speak'), (6, 'Polonius,'), (6, 'Play.'), (6, 'More'), (6, 'Laertes'), (6, 'Indeed,'), (6, 'II.'), (6, 'Her'), (6, 'Hamlet!'), (6, 'Guildenstern,'), (6, 'God,'), (6, 'Ghost.]'), (6, 'Faith,'), (6, 'Elsinore.'), (6, 'Courtier.'), (6, 'Come'), (6, 'An'), (5, 'writ'), (5, 'wouldst'), (5, 'work'), (5, 'woe'), (5, 'wisdom'), (5, 'whom'), (5, 'who,'), (5, 'went'), (5, 'well:'), (5, 'welcome'), (5, 'water'), (5, 'warlike'), (5, 'voice'), (5, 'us.'), (5, 'turn'), (5, 'toward'), (5, 'too.'), (5, 'too,'), (5, 'told'), (5, 'time.'), (5, 'time,'), (5, 'thou,'), (5, 'this.'), (5, 'then;'), (5, 'themselves'), (5, 'thee.'), (5, 'that.'), (5, 'tears'), (5, 'teach'), (5, 'sure,'), (5, 'sudden'), (5, 'speech,'), (5, 'speak,'), (5, 'speak!'), (5, 'son,'), (5, 'so;'), (5, 'sir?'), (5, 'sir:'), (5, 'shalt'), (5, 'seems'), (5, 'report'), (5, 'rank'), (5, 'purpose'), (5, 'point'), (5, 'play.'), (5, 'piece'), (5, 'phrase'), (5, 'pass'), (5, 'part,'), (5, 'offence'), (5, 'note'), (5, 'not?'), (5, 'move'), (5, 'mortal'), (5, 'more.'), (5, 'means,'), (5, 'man.'), (5, \"man's\"), (5, 'madness,'), (5, 'love.'), (5, 'lord,--'), (5, 'lord'), (5, 'late'), (5, 'lack'), (5, 'known'), (5, 'knew'), (5, 'king.'), (5, 'joy'), (5, 'it;'), (5, \"is't,\"), (5, \"in's\"), (5, 'ill'), (5, 'humbly'), (5, 'hour'), (5, 'hot'), (5, 'hope'), (5, 'honour'), (5, 'ho,'), (5, 'hither,'), (5, 'himself;'), (5, 'him!'), (5, 'herself'), (5, 'her.'), (5, 'help,'), (5, 'hell,'), (5, 'heavy'), (5, 'heard,'), (5, 'grave'), (5, 'gives'), (5, 'gentle'), (5, 'friends,'), (5, 'friends'), (5, 'for,'), (5, 'fat'), (5, 'fashion'), (5, 'fall'), (5, 'eyes,'), (5, 'enough'), (5, 'dull'), (5, 'drown'), (5, 'drink,'), (5, 'drink'), (5, 'days'), (5, 'day,'), (5, 'dare'), (5, 'common'), (5, 'coming'), (5, 'come.'), (5, 'choice'), (5, 'buried'), (5, 'brought'), (5, 'bloody'), (5, 'bid'), (5, 'beg'), (5, 'beard'), (5, 'bad'), (5, 'aught'), (5, 'another'), (5, 'air,'), (5, '[They'), (5, '[The'), (5, 'Thy'), (5, 'Swear.'), (5, 'Such'), (5, 'So,'), (5, 'Shall'), (5, 'Ophelia.]'), (5, 'One'), (5, 'Laertes?'), (5, 'Hamlet:'), (5, 'Get'), (5, 'Denmark.'), (5, 'Could'), (5, 'Another'), (5, 'Alexander'), (5, \"'twere\"), (5, \"'twas\"), (4, 'yet,'), (4, \"wi'\"), (4, 'whilst'), (4, 'well;'), (4, 'wear'), (4, 'watch,'), (4, 'was,'), (4, 'wager'), (4, 'voice,'), (4, 'visit'), (4, 'violent'), (4, 'unto'), (4, 'uncle'), (4, 'twice'), (4, \"turn'd\"), (4, 'try'), (4, 'truth'), (4, 'trumpet'), (4, 'true;'), (4, 'treasure'), (4, 'touch'), (4, 'took'), (4, 'thus,'), (4, 'throw'), (4, 'thrice'), (4, 'this,--'), (4, 'thinking'), (4, 'think,'), (4, 'there?'), (4, 'there;'), (4, 'there,'), (4, \"there's\"), (4, 'then?'), (4, 'them:'), (4, 'thee!'), (4, 'ten'), (4, 'tale'), (4, 'sword.'), (4, 'sword'), (4, 'sun'), (4, 'struck'), (4, 'stronger'), (4, 'strange'), (4, 'stir'), (4, 'still,'), (4, 'speaks'), (4, 'speak.'), (4, 'sorrow'), (4, 'slave'), (4, 'skull'), (4, 'six'), (4, 'sing'), (4, 'silence'), (4, 'sick'), (4, 'shortly'), (4, 'shame'), (4, 'service'), (4, 'send'), (4, 'season'), (4, \"seal'd\"), (4, 'sea'), (4, 'rose'), (4, 'right'), (4, 'remember'), (4, 'rather'), (4, 'quiet'), (4, 'puts'), (4, 'property'), (4, 'present'), (4, 'play.]'), (4, 'play,'), (4, 'place'), (4, 'pate'), (4, 'passion,'), (4, 'pardon'), (4, 'pale'), (4, 'on,'), (4, 'obey'), (4, 'now?'), (4, 'now;'), (4, 'not;'), (4, 'not:'), (4, 'neither'), (4, 'natural'), (4, 'native'), (4, 'myself'), (4, 'murder'), (4, 'mouth,'), (4, 'morning'), (4, 'more:'), (4, 'mock'), (4, 'me!'), (4, 'matter.'), (4, 'mark.'), (4, 'love;'), (4, \"lov'd\"), (4, 'lordship'), (4, 'lord:'), (4, 'life.'), (4, 'lend'), (4, 'leave.'), (4, 'lead'), (4, 'laugh'), (4, 'king:'), (4, \"kill'd\"), (4, 'kill'), (4, 'kept'), (4, 'keeps'), (4, 'judgment'), (4, 'it?'), (4, 'it!'), (4, 'instant'), (4, 'infinite'), (4, 'indeed'), (4, 'imports'), (4, 'impart'), (4, 'honesty'), (4, \"here's\"), (4, 'help'), (4, 'hell'), (4, 'heart;'), (4, 'health'), (4, 'head.'), (4, 'hard'), (4, 'hands,'), (4, 'hand,'), (4, 'grown'), (4, 'gracious'), (4, 'glad'), (4, 'get'), (4, 'gentleman'), (4, 'four'), (4, 'found'), (4, 'fortune,'), (4, 'forth'), (4, 'for.'), (4, 'fool'), (4, 'fly'), (4, 'flesh'), (4, 'feed'), (4, 'fault'), (4, 'farewell.'), (4, 'fair,'), (4, 'fain'), (4, 'eye'), (4, 'entertainment'), (4, 'effect'), (4, 'eat'), (4, 'ears'), (4, 'dream'), (4, 'dread'), (4, 'discourse'), (4, 'direct'), (4, 'did;'), (4, 'devil'), (4, 'deep'), (4, \"damn'd\"), (4, 'cursed'), (4, 'crown,'), (4, 'court'), (4, 'course'), (4, 'countenance'), (4, 'conscience'), (4, 'commend'), (4, 'command'), (4, 'choose'), (4, 'charge'), (4, 'certain'), (4, 'cause,'), (4, 'cannon'), (4, 'brother.'), (4, 'breath'), (4, 'break'), (4, 'bore'), (4, 'body.'), (4, 'blood,'), (4, 'blessing'), (4, 'black'), (4, 'beauty'), (4, \"b'\"), (4, 'away.'), (4, 'away!'), (4, 'ambition'), (4, 'all;'), (4, 'air'), (4, 'again.'), (4, 'again!'), (4, 'act,'), (4, '[Reads.]'), (4, '[Beneath.]'), (4, '[A'), (4, 'Without'), (4, 'Who,'), (4, 'Whether'), (4, 'Whereon'), (4, 'Well'), (4, 'Voltimand,'), (4, 'Unto'), (4, 'Therefore'), (4, 'Still'), (4, 'Should'), (4, 'Pyrrhus'), (4, 'Pray'), (4, 'Players.]'), (4, 'Out'), (4, 'Must'), (4, 'Mother,'), (4, 'Marcellus,'), (4, 'Madam,'), (4, 'Mad'), (4, \"Let's\"), (4, 'Into'), (4, 'IV.'), (4, 'III.'), (4, 'Horatio.'), (4, 'Horatio!'), (4, 'Here,'), (4, \"Here's\"), (4, 'Heaven'), (4, 'Hamlet?'), (4, 'Hamlet;'), (4, 'Guildenstern'), (4, 'God!'), (4, 'Go,'), (4, 'French'), (4, 'Fort.'), (4, 'Follow'), (4, 'Farewell.'), (4, 'Fare'), (4, 'England;'), (4, 'Doth'), (4, 'Dost'), (4, 'Danish'), (4, 'Christian'), (4, 'Both'), (4, 'Before'), (4, 'Attendants.]'), (4, 'Against'), (4, 'ACT'), (4, \"'gainst\"), (4, \"'Twere\"), (4, '&c.]'), (3, 'youth,'), (3, 'yourself.'), (3, 'yourself,'), (3, \"you'll\"), (3, 'wrong'), (3, 'wretch'), (3, \"woul't\"), (3, 'wont'), (3, 'wondrous'), (3, 'woman'), (3, 'withal.'), (3, 'wit,'), (3, 'wish'), (3, 'wisest'), (3, 'winds'), (3, 'will:'), (3, 'wife;'), (3, 'white'), (3, 'whether'), (3, 'whereto'), (3, 'what,'), (3, 'welcome.'), (3, 'waves'), (3, 'warrant'), (3, 'vouchsafe'), (3, 'visage'), (3, 'villain!'), (3, 'villain'), (3, 'vice'), (3, 'uses'), (3, 'truly'), (3, 'treason'), (3, 'too;'), (3, 'tongue,'), (3, 'to.'), (3, 'to-night'), (3, 'throat'), (3, 'this!'), (3, 'thirty'), (3, 'these,'), (3, 'them?'), (3, \"th'\"), (3, 'terms'), (3, 'tempt'), (3, \"ta'en\"), (3, 'sweet,'), (3, 'sure'), (3, 'suffers'), (3, 'suffer'), (3, 'strong'), (3, 'stop'), (3, 'stood'), (3, 'state.'), (3, 'state,'), (3, 'start'), (3, 'star'), (3, 'spirits'), (3, 'spirit,'), (3, 'special'), (3, 'sovereign'), (3, 'sound,'), (3, 'sound'), (3, 'soul!'), (3, 'sore'), (3, 'sometimes'), (3, 'sometime'), (3, 'solemn'), (3, 'soft!'), (3, 'snow,'), (3, 'slow'), (3, 'sleep'), (3, 'skull.]'), (3, 'sister,'), (3, 'sight,'), (3, 'sight'), (3, 'short'), (3, 'she,'), (3, 'shape'), (3, 'shame!'), (3, 'service.'), (3, 'sends'), (3, 'seen,'), (3, 'see.'), (3, 'see,'), (3, 'scene'), (3, 'save'), (3, 'said,'), (3, 'safety'), (3, 'royal'), (3, 'revenge.'), (3, 'revenge'), (3, 'return'), (3, 'recover'), (3, 'reason,'), (3, 'read,'), (3, 'quite'), (3, 'question,'), (3, 'quantity'), (3, 'quality'), (3, 'purpose,'), (3, 'proof'), (3, 'prepare'), (3, 'place,'), (3, 'pith'), (3, 'piteous'), (3, 'pious'), (3, 'phrase,'), (3, 'perhaps'), (3, 'peace.'), (3, 'pay'), (3, 'patience'), (3, 'parts'), (3, 'other;'), (3, 'ordnance'), (3, 'one;'), (3, 'one,'), (3, 'on;'), (3, 'on,--'), (3, \"on't?\"), (3, 'often'), (3, 'offended.'), (3, 'off,'), (3, 'obey,'), (3, 'nunnery,'), (3, 'now.'), (3, 'no,'), (3, 'nights'), (3, 'night.'), (3, 'next'), (3, 'need'), (3, \"ne'er\"), (3, 'nature;'), (3, 'name,'), (3, 'much,'), (3, 'mountain'), (3, 'motive,'), (3, 'more;'), (3, 'months'), (3, 'modesty'), (3, 'methought'), (3, 'mere'), (3, 'mercy'), (3, \"men's\"), (3, 'meet.'), (3, 'meet'), (3, 'meant'), (3, 'matter?'), (3, 'matter:'), (3, 'matter,'), (3, 'mass,'), (3, 'man;'), (3, 'majesty.'), (3, 'main'), (3, 'maid,'), (3, 'maid'), (3, 'mad,'), (3, 'loving'), (3, 'loves'), (3, 'lost'), (3, 'looks'), (3, \"look'd\"), (3, 'longer'), (3, 'lives'), (3, 'list'), (3, 'likes'), (3, 'liberal'), (3, 'lets'), (3, 'lest'), (3, 'law'), (3, 'lands'), (3, 'land,'), (3, 'lady'), (3, 'know;'), (3, 'knave'), (3, 'king;'), (3, 'king!'), (3, 'justly'), (3, 'is;'), (3, 'is.'), (3, 'inward'), (3, 'indifferent'), (3, \"in't?\"), (3, 'imagination'), (3, 'image'), (3, 'house.'), (3, 'horrible!'), (3, 'honour.'), (3, \"honour'd\"), (3, 'holds'), (3, 'himself.'), (3, 'hide'), (3, 'herein'), (3, 'her?'), (3, 'hence'), (3, 'heels'), (3, 'heavens!'), (3, 'heaven.'), (3, 'heart:'), (3, 'hears'), (3, 'hearing'), (3, 'hear?'), (3, 'have,'), (3, 'haste.'), (3, 'hang'), (3, 'half'), (3, 'habit'), (3, \"ha'\"), (3, 'guilty,'), (3, 'guilty'), (3, 'grows'), (3, 'gross'), (3, 'grief,'), (3, 'grave.]'), (3, 'grace,'), (3, 'goodly'), (3, 'gone'), (3, 'golden'), (3, 'ghost,'), (3, 'gentleman.'), (3, 'gallows'), (3, 'friends!'), (3, 'friend;'), (3, 'friend'), (3, 'frame,'), (3, 'fortune'), (3, 'forget'), (3, 'foolish'), (3, 'foils'), (3, 'fire,'), (3, 'fingers'), (3, 'fine,'), (3, 'finds'), (3, 'fiery'), (3, 'fellows'), (3, 'fear,'), (3, 'favour'), (3, 'falls'), (3, 'eye.'), (3, 'express'), (3, 'entreat'), (3, 'enter'), (3, 'else?'), (3, 'election'), (3, 'ease,'), (3, 'ear.'), (3, 'ear,'), (3, 'dust'), (3, 'dumb'), (3, 'drift'), (3, 'dreadful'), (3, 'dozen'), (3, 'down;'), (3, 'down.'), (3, 'doors'), (3, 'do?'), (3, 'do:'), (3, \"do't,\"), (3, 'disposition'), (3, 'didst'), (3, 'desires'), (3, 'desire'), (3, 'delight'), (3, 'defend'), (3, 'dead.'), (3, 'daughter.'), (3, 'dangerous'), (3, 'cunning'), (3, 'cry'), (3, 'crimes'), (3, 'cries'), (3, 'count'), (3, 'confession'), (3, 'confess'), (3, 'commandment'), (3, 'cock'), (3, 'chief'), (3, 'cheer'), (3, 'chaste'), (3, 'change'), (3, 'censure'), (3, 'carry'), (3, 'carriages,'), (3, 'canst'), (3, 'cannot.'), (3, 'calls'), (3, 'burst'), (3, 'burial.'), (3, 'brother'), (3, 'breathe'), (3, 'bound,'), (3, 'borne'), (3, 'bones,'), (3, 'bodies'), (3, 'bless'), (3, 'black,'), (3, 'bestow'), (3, 'bend'), (3, 'behind'), (3, 'before,'), (3, 'bed;'), (3, 'bed.'), (3, 'bed,'), (3, 'be.'), (3, 'base'), (3, 'awhile'), (3, 'audience'), (3, 'assume'), (3, 'ass'), (3, 'arras'), (3, 'arms'), (3, 'argal,'), (3, \"appear'd\"), (3, 'anything'), (3, 'angel'), (3, 'all.'), (3, '[Throws'), (3, '[Dies.]'), (3, 'Yes,'), (3, 'Yea,'), (3, 'Within'), (3, 'Were'), (3, 'Welcome,'), (3, 'Voltimand'), (3, 'V.'), (3, 'Two'), (3, 'Too'), (3, 'Together'), (3, 'Their'), (3, 'Thanks,'), (3, 'Tell'), (3, 'Saint'), (3, 'Sailors,'), (3, 'Queen.]'), (3, \"Pyrrhus'\"), (3, 'Priest.'), (3, 'Polonius?'), (3, 'Polonius.'), (3, 'Polonius'), (3, 'Osric,'), (3, 'Ophelia!'), (3, 'Mark'), (3, 'Marcellus.]'), (3, 'Makes'), (3, 'Lords,'), (3, 'Lord.'), (3, 'Look,'), (3, 'Laertes;'), (3, 'Laertes.'), (3, 'King.]'), (3, \"Is't\"), (3, 'Importing'), (3, 'Hold'), (3, \"He's\"), (3, \"HAMLET.'\"), (3, 'Guildenstern!'), (3, 'Ghost'), (3, 'Gent.'), (3, \"Fortune's\"), (3, 'For.'), (3, 'Each'), (3, \"E'en\"), (3, 'Does'), (3, 'Denmark,'), (3, \"Denmark's\"), (3, 'Danes.'), (3, 'Cornelius.]'), (3, 'Cornelius,'), (3, 'Can'), (3, 'Break'), (3, 'Bernardo.]'), (3, 'Believe'), (3, 'Being'), (3, 'All.'), (3, 'Alack,'), (3, 'Ah,'), (3, \"'The\"), (2, 'yours.'), (2, 'you:--'), (2, 'you,--'), (2, 'yonder'), (2, 'yield'), (2, 'yes,'), (2, 'years.'), (2, 'year:'), (2, 'ye'), (2, 'wrong,'), (2, 'wretched'), (2, 'wounds'), (2, 'worth,'), (2, 'worm'), (2, 'world:'), (2, 'world,'), (2, \"world's\"), (2, 'world!'), (2, 'words,'), (2, 'word,'), (2, 'wonted'), (2, 'wonder,'), (2, 'woe;'), (2, 'wits'), (2, 'witchcraft'), (2, 'wit'), (2, 'wipe'), (2, 'wind,'), (2, 'win'), (2, 'willingly'), (2, 'willing,'), (2, 'wildly'), (2, 'wife,'), (2, 'wide;'), (2, 'wide'), (2, 'who?'), (2, 'whisper'), (2, 'where?'), (2, 'wheel,'), (2, 'whale.'), (2, 'well?'), (2, 'welcome,'), (2, \"weigh'd,\"), (2, 'weep,'), (2, 'weeds,'), (2, 'weeds'), (2, 'weasel.'), (2, 'wears'), (2, 'weak'), (2, 'we,'), (2, 'ways.'), (2, 'watch;'), (2, 'wash'), (2, 'wary'), (2, 'wants'), (2, 'wanton'), (2, 'want'), (2, 'wait'), (2, 'vows,'), (2, 'vow'), (2, 'voice:'), (2, 'visitation'), (2, 'visage,'), (2, 'virtues'), (2, 'virtue,'), (2, 'villain;'), (2, 'villain,'), (2, 'variable'), (2, 'valiant'), (2, 'up;'), (2, 'up.'), (2, 'up,'), (2, 'unworthy'), (2, 'unnatural'), (2, 'unless'), (2, 'unknown,'), (2, 'union'), (2, 'unfold'), (2, 'undertake'), (2, 'understanding'), (2, 'under'), (2, 'unction'), (2, 'uncle:'), (2, 'uncle,'), (2, 'twenty'), (2, 'twelve.'), (2, 'twelve'), (2, 'tune'), (2, 'trust'), (2, 'true:'), (2, 'trouble'), (2, 'trick'), (2, 'tremble'), (2, 'treble'), (2, 'trail'), (2, 'tragedy,'), (2, 'trade'), (2, 'trace'), (2, 'toy'), (2, 'touch,'), (2, 'tongues'), (2, 'tongue:'), (2, 'tongue.'), (2, 'to-night?'), (2, 'to-night;'), (2, 'to,'), (2, \"to't.\"), (2, \"to't\"), (2, 'thus?'), (2, 'thus.'), (2, 'thrift,'), (2, 'thoughts.'), (2, 'thought,'), (2, \"thou'lt\"), (2, 'thither'), (2, 'this;'), (2, 'this:'), (2, 'third'), (2, 'think.'), (2, 'thing,'), (2, 'thine,'), (2, 'there!'), (2, 'theme'), (2, 'them;'), (2, 'thee?'), (2, 'thee:'), (2, 'that;'), (2, 'that:'), (2, 'thanks:'), (2, 'thanks'), (2, 'term'), (2, 'tenders'), (2, 'tender'), (2, 'tell.'), (2, 'tedious'), (2, 'tear'), (2, 'tardy'), (2, 'tame,'), (2, \"talk'd\"), (2, 'talk'), (2, 'takes,'), (2, 'table'), (2, 'swift'), (2, 'sweep'), (2, 'sweat'), (2, 'suppress'), (2, 'summit'), (2, 'suits'), (2, 'suit'), (2, \"suck'd\"), (2, 'substance'), (2, 'subject'), (2, 'stuff'), (2, 'strict'), (2, 'strange.'), (2, 'straight:'), (2, 'straight.'), (2, 'stole'), (2, 'sting'), (2, 'still;'), (2, 'step'), (2, 'steel,'), (2, \"stay'd\"), (2, 'station'), (2, 'stars,'), (2, 'stars'), (2, 'stands,'), (2, 'stands'), (2, 'stamp'), (2, 'stage'), (2, 'spring'), (2, 'spread'), (2, 'sport'), (2, 'sponge,'), (2, 'spokes'), (2, 'spoke'), (2, 'speed'), (2, 'speech;'), (2, 'speak;'), (2, 'spade,'), (2, 'source'), (2, 'souls,'), (2, 'soul;'), (2, 'sort'), (2, 'sorry'), (2, 'sooner'), (2, 'son.'), (2, 'soldiers,'), (2, 'soldiers'), (2, 'soft'), (2, \"so,'\"), (2, 'smooth'), (2, 'smiling'), (2, 'smile,'), (2, 'sleeps'), (2, 'sleeping'), (2, 'sleep:'), (2, 'skull,'), (2, 'skill'), (2, 'sits'), (2, 'sister'), (2, 'sir!'), (2, 'single'), (2, 'since,'), (2, 'signify'), (2, 'sigh,'), (2, 'sigh'), (2, 'sickly'), (2, 'show,'), (2, 'shouldst'), (2, 'shoulder'), (2, 'shipwright,'), (2, \"she'll\"), (2, 'shapes'), (2, 'shake'), (2, 'shadow.'), (2, 'sets'), (2, 'serves'), (2, 'serve'), (2, 'serpent'), (2, 'senseless'), (2, 'sense.'), (2, 'sense,'), (2, \"seem'd\"), (2, 'seeing'), (2, 'see:--'), (2, 'see:'), (2, 'secure'), (2, 'secret'), (2, 'secrecy'), (2, 'seal,'), (2, 'sea,'), (2, 'scourge'), (2, 'scope'), (2, 'scarcely'), (2, 'scarce'), (2, 'scape'), (2, 'scale'), (2, 'sat'), (2, 'salt'), (2, 'sail,'), (2, 'said;'), (2, 'said.'), (2, 'safe'), (2, 'sable'), (2, 'runs'), (2, \"rul'd;\"), (2, 'rugged'), (2, 'rue'), (2, 'rude'), (2, 'rotten'), (2, 'rises'), (2, 'rights'), (2, 'right;'), (2, 'right.'), (2, 'right,'), (2, 'revenge,'), (2, \"return'd\"), (2, 'rest!'), (2, 'respect'), (2, 'repair'), (2, 'remembrance'), (2, 'remember,'), (2, 'remains'), (2, 'remain'), (2, 'relish'), (2, 'regard,'), (2, 'rash,'), (2, 'rapiers'), (2, 'rank,'), (2, 'quit'), (2, 'question.'), (2, 'queen.'), (2, 'pursue'), (2, 'purse'), (2, 'purpose.'), (2, 'purging'), (2, 'pure'), (2, 'providence'), (2, 'prove'), (2, \"prov'd\"), (2, 'proud'), (2, 'prophesy'), (2, 'proper'), (2, 'proof.'), (2, \"promis'd\"), (2, 'prologue'), (2, 'profound'), (2, 'profit'), (2, 'prodigal'), (2, 'proclaims'), (2, 'proclaim'), (2, 'process;'), (2, 'prison.'), (2, 'prison'), (2, 'prince,'), (2, 'presently.'), (2, 'presently'), (2, 'presence'), (2, 'pregnant'), (2, 'precious'), (2, 'precepts'), (2, 'precedent'), (2, 'prayers,'), (2, 'prayer'), (2, 'pray.'), (2, 'practice'), (2, \"pr'ythee,\"), (2, 'powers'), (2, 'potent'), (2, 'possible?'), (2, 'possible'), (2, \"poison'd\"), (2, 'pluck'), (2, 'plots'), (2, 'pleasure'), (2, 'please;'), (2, 'playing,'), (2, 'players,'), (2, 'player'), (2, 'play?'), (2, 'play;'), (2, \"play'd\"), (2, 'platform'), (2, 'plain'), (2, 'place.'), (2, 'pity'), (2, 'pit'), (2, 'pipe?'), (2, 'picked'), (2, 'petty'), (2, 'pestilent'), (2, 'person'), (2, 'perfume'), (2, 'perchance,'), (2, 'perchance'), (2, 'peasant'), (2, 'peace'), (2, 'pause:'), (2, 'patient'), (2, 'patch'), (2, 'passionate'), (2, 'passing'), (2, \"pardon'd\"), (2, 'palm'), (2, 'pair'), (2, 'painted'), (2, 'over'), (2, 'outward'), (2, 'out.'), (2, 'ourselves.'), (2, 'ourself'), (2, 'ours,'), (2, 'others.]'), (2, 'others'), (2, 'organ,'), (2, 'order'), (2, 'orchard,'), (2, 'open'), (2, 'ones'), (2, 'one.'), (2, 'once;'), (2, 'once.'), (2, 'on:'), (2, 'offer'), (2, 'offence?'), (2, 'off.'), (2, 'odds.'), (2, 'odd'), (2, 'occasions'), (2, 'obedience,'), (2, 'oath,'), (2, 'nothing;'), (2, 'nothing:'), (2, 'nothing.'), (2, 'nothing,'), (2, 'nonny,'), (2, 'no!'), (2, 'nine'), (2, 'night:'), (2, 'news?'), (2, 'new'), (2, 'never,'), (2, \"nephew's\"), (2, 'nephew'), (2, 'neither,'), (2, 'neglected'), (2, 'needful'), (2, 'neck'), (2, 'necessary'), (2, 'nearer'), (2, 'nay,'), (2, \"nature's\"), (2, 'nation'), (2, 'myself.'), (2, 'myself,--'), (2, 'myself,'), (2, 'music.'), (2, 'music!'), (2, 'music'), (2, 'murderer'), (2, 'moves'), (2, 'mouths'), (2, 'mouth'), (2, 'motive'), (2, 'motion,'), (2, 'mother:'), (2, 'morn,'), (2, 'moon:'), (2, 'moon,'), (2, 'month;'), (2, 'money'), (2, 'mobled'), (2, 'mistress'), (2, 'mischance'), (2, 'mine;'), (2, 'mine.'), (2, 'mind,'), (2, \"mind's\"), (2, 'middle'), (2, 'merit'), (2, 'memory,'), (2, 'means.'), (2, 'mean'), (2, 'may.'), (2, 'mason,'), (2, 'marvellous'), (2, 'marry'), (2, 'marriage'), (2, 'march'), (2, 'malicious'), (2, 'making'), (2, 'majesty,'), (2, 'majesties'), (2, 'maiden'), (2, 'madness:'), (2, 'madness.'), (2, 'made,'), (2, 'madam,'), (2, 'madam!'), (2, 'mad?'), (2, 'mad:'), (2, 'mad.'), (2, 'loves.'), (2, 'loves,'), (2, 'loved'), (2, 'love?'), (2, 'loud,'), (2, 'lost,'), (2, 'looks;'), (2, 'looks,'), (2, 'look,'), (2, 'long?'), (2, 'lock'), (2, 'lobby.'), (2, 'lo,'), (2, 'living'), (2, 'livery'), (2, 'little.'), (2, 'list,'), (2, 'lines'), (2, 'like.'), (2, 'like,'), (2, 'life;'), (2, 'liest'), (2, 'liege,'), (2, 'lie,'), (2, 'liberty'), (2, 'level'), (2, 'less,'), (2, 'length'), (2, 'leisure'), (2, 'left'), (2, 'leaves'), (2, 'leave?'), (2, 'least,'), (2, 'laying'), (2, 'lawless'), (2, 'laugh,'), (2, 'lap?'), (2, 'lady?'), (2, 'ladies;'), (2, 'knows,'), (2, 'know.'), (2, \"know'st\"), (2, 'knavish'), (2, 'knave.'), (2, 'kisses'), (2, 'kingdom.'), (2, 'kingdom'), (2, 'king?'), (2, \"king!'\"), (2, 'kills'), (2, 'just'), (2, 'jump'), (2, 'judgments'), (2, 'judgment,'), (2, 'judge'), (2, 'joy,--'), (2, 'join'), (2, 'jest,'), (2, 'itself,'), (2, \"it's\"), (2, 'issue'), (2, 'is!'), (2, 'instrument'), (2, 'inform'), (2, 'inclination'), (2, 'incestuous,'), (2, 'incestuous'), (2, 'in,'), (2, \"in't,\"), (2, 'imponed,'), (2, 'immediate'), (2, 'image,'), (2, \"if't\"), (2, 'idle'), (2, \"husband's\"), (2, 'house'), (2, 'hour,'), (2, 'horridly'), (2, 'horrid'), (2, 'hope,'), (2, 'honourable'), (2, 'home:'), (2, 'home'), (2, 'holy'), (2, 'hitherto'), (2, 'hither?'), (2, 'hit,'), (2, 'hit'), (2, 'himself,'), (2, 'him.--'), (2, 'him,--'), (2, 'hill:'), (2, 'high'), (2, 'here?'), (2, 'here!'), (2, 'held'), (2, 'heed'), (2, 'heavens,'), (2, 'heavens'), (2, 'heavenly'), (2, 'heaven?'), (2, 'heat'), (2, 'heart?'), (2, 'heart.'), (2, 'hearing,'), (2, 'heads:'), (2, 'head,'), (2, 'he?'), (2, 'have?'), (2, 'hath,'), (2, 'hast,'), (2, 'happy'), (2, 'haply'), (2, 'hall:'), (2, 'hall'), (2, 'hadst'), (2, 'ha?'), (2, 'guts'), (2, 'guilt'), (2, 'guest'), (2, 'ground.'), (2, 'ground,'), (2, 'ground'), (2, 'grief;'), (2, 'green'), (2, 'great,'), (2, 'graves'), (2, 'grave?'), (2, 'grass'), (2, 'got'), (2, 'good;'), (2, 'good:'), (2, 'good.'), (2, 'good-night.'), (2, 'good,'), (2, 'gone;'), (2, 'going'), (2, 'goes,'), (2, 'god'), (2, 'go;'), (2, 'go:'), (2, 'glass'), (2, 'gifts'), (2, 'ghost'), (2, 'gentlemen'), (2, 'gentleman?'), (2, 'generous'), (2, 'gather,'), (2, 'gaming,'), (2, 'galls'), (2, 'gall'), (2, 'gait'), (2, 'gain'), (2, 'full,'), (2, 'fruit'), (2, 'friends.'), (2, 'freely'), (2, 'frankly'), (2, 'foul,'), (2, 'fortunes'), (2, \"fortune's\"), (2, 'forms,'), (2, 'former'), (2, 'form,'), (2, 'forgot'), (2, 'forehead'), (2, 'force'), (2, \"forc'd\"), (2, 'forbid'), (2, 'for?'), (2, \"for's\"), (2, 'follows,'), (2, 'follow,'), (2, 'foils;'), (2, 'flowers.]'), (2, 'flourish'), (2, 'flat'), (2, 'flaming'), (2, 'flames'), (2, 'flame'), (2, \"fix'd\"), (2, 'five'), (2, 'fits'), (2, 'fit,'), (2, 'fish'), (2, 'first;'), (2, 'fire;'), (2, 'fire:'), (2, 'fire'), (2, 'finger'), (2, 'fines,'), (2, 'figure'), (2, 'fighting'), (2, 'fight'), (2, 'few'), (2, 'fetch'), (2, 'feeling'), (2, 'fee;'), (2, 'fed'), (2, 'feast'), (2, 'fears'), (2, 'fear:'), (2, 'faults'), (2, 'fathers,'), (2, 'father?'), (2, 'father!'), (2, 'fast?'), (2, 'farm'), (2, 'fares'), (2, 'fare'), (2, 'falls.]'), (2, 'falls,'), (2, 'faithful'), (2, 'faith;'), (2, 'faith.'), (2, 'face?'), (2, 'eyes?'), (2, 'eyes;'), (2, 'eyes.'), (2, 'expel'), (2, 'exercise'), (2, 'except'), (2, 'excellence'), (2, 'everything'), (2, 'even,'), (2, 'eternal'), (2, 'estate.'), (2, 'escape'), (2, 'equal'), (2, 'epitaph'), (2, 'envy'), (2, 'enemy.'), (2, 'end.'), (2, 'end,--'), (2, 'end,'), (2, 'empire'), (2, 'embrace'), (2, 'effect,'), (2, 'ecstasy'), (2, 'earth!'), (2, 'ears,'), (2, 'eager'), (2, 'duty.'), (2, 'dumb;'), (2, 'ducats'), (2, 'dry'), (2, 'drowned'), (2, 'drive'), (2, 'drinks'), (2, 'draws'), (2, 'door'), (2, 'doomsday'), (2, 'done?'), (2, 'done.'), (2, \"do't\"), (2, 'divinity'), (2, 'divide'), (2, 'distracted'), (2, 'dismal;'), (2, 'dishonour'), (2, 'discretion.'), (2, 'discretion'), (2, 'dig'), (2, 'dies.]'), (2, 'died'), (2, 'die,--to'), (2, 'die,'), (2, 'die'), (2, 'did,'), (2, 'diadem'), (2, 'dew'), (2, 'deny'), (2, 'demand'), (2, 'delights'), (2, 'delicate'), (2, 'defect,'), (2, 'defeat'), (2, 'deceived.'), (2, 'death;'), (2, 'dearest'), (2, 'daughter,'), (2, 'danger'), (2, 'daggers'), (2, 'currents'), (2, 'curb'), (2, 'cup;'), (2, 'cruel,'), (2, 'cried'), (2, 'creatures,'), (2, 'creature'), (2, 'cousin'), (2, 'courtier,'), (2, 'could,'), (2, 'cost'), (2, 'corse'), (2, 'corruption,'), (2, 'contrive'), (2, 'continent'), (2, 'content'), (2, 'consider'), (2, 'comply'), (2, 'commission;'), (2, 'commission'), (2, 'command;'), (2, 'comes.'), (2, 'comedy,'), (2, 'come:'), (2, 'colour'), (2, 'coldly'), (2, 'cold,'), (2, 'cold'), (2, 'cock,'), (2, 'clouds,'), (2, 'clouds'), (2, 'closet'), (2, 'closes'), (2, 'clay'), (2, 'circumstance,'), (2, 'circumstance'), (2, 'choler.'), (2, 'cheerfully'), (2, 'charge,'), (2, 'chapel.'), (2, 'chances'), (2, 'chamber,'), (2, 'ceremony'), (2, 'cease'), (2, 'caught'), (2, 'catch'), (2, 'carpenter?'), (2, 'capital'), (2, 'cap'), (2, 'canker'), (2, 'calm'), (2, 'business.'), (2, 'burns,'), (2, 'burning'), (2, 'builds'), (2, 'brow'), (2, 'broad'), (2, 'brief,'), (2, 'breath,'), (2, 'brave'), (2, 'brains'), (2, 'brain,'), (2, 'brain'), (2, 'boy!'), (2, 'bow'), (2, 'bound'), (2, 'both,'), (2, 'bosom'), (2, 'bold,'), (2, 'blows'), (2, 'blow'), (2, 'bloody,'), (2, 'blood;'), (2, 'blood.'), (2, 'blast'), (2, 'blame.'), (2, 'bitter'), (2, 'beyond'), (2, 'better:'), (2, 'best,'), (2, 'below'), (2, 'bell'), (2, 'begun'), (2, 'begin,'), (2, 'beg,'), (2, 'bed'), (2, 'becomes'), (2, 'beckons'), (2, 'beating'), (2, 'beast,'), (2, 'beast'), (2, 'bearers'), (2, 'basket'), (2, 'baser'), (2, 'awhile;'), (2, 'awe'), (2, 'away,'), (2, 'avoid'), (2, 'author'), (2, 'aught,'), (2, 'assurance'), (2, 'assigns,'), (2, 'assay'), (2, 'ask'), (2, 'art.'), (2, 'arras.]'), (2, 'arrant'), (2, 'armour'), (2, 'arm,'), (2, 'argument'), (2, 'are.'), (2, 'approve'), (2, 'apprehension,'), (2, 'appear'), (2, 'apparition'), (2, 'ape,'), (2, 'antique'), (2, 'answer.'), (2, 'answer,'), (2, 'another:'), (2, 'anon'), (2, 'ambitious'), (2, 'ambassadors'), (2, 'amazement'), (2, 'am,'), (2, 'already.'), (2, 'already'), (2, 'along'), (2, 'alone.'), (2, 'all,--'), (2, \"all's\"), (2, 'air.'), (2, 'age,'), (2, 'again?'), (2, 'again;'), (2, 'again:'), (2, 'after,'), (2, 'affliction'), (2, 'affection,'), (2, 'affair'), (2, 'advice,'), (2, 'adieu!'), (2, 'actors'), (2, 'actor'), (2, 'actions'), (2, 'act.'), (2, 'accident.'), (2, 'accent'), (2, 'absolute'), (2, 'above'), (2, 'aboard,'), (2, '[Trumpets'), (2, '[March'), (2, '[Leaps'), (2, '[Laertes'), (2, '[Ghost'), (2, '[Behind.]'), (2, 'Young'), (2, 'You,'), (2, \"Woul't\"), (2, 'Wittenberg,'), (2, 'Why--'), (2, 'Which,'), (2, 'Where,'), (2, 'Volt.'), (2, 'Virtue'), (2, 'Under'), (2, 'Truly'), (2, 'Touching'), (2, 'To-morrow'), (2, 'There,'), (2, 'Thence'), (2, \"Th'\"), (2, 'Sweet'), (2, 'Swear'), (2, 'Son'), (2, 'Something'), (2, 'Some'), (2, 'Soft!'), (2, 'Sith'), (2, 'Set'), (2, 'Servant.]'), (2, 'See'), (2, 'Say,'), (2, 'Say'), (2, 'Save'), (2, 'Sailor.'), (2, 'Roman'), (2, 'Rhenish'), (2, 'Reynaldo.]'), (2, 'Reynaldo,'), (2, 'Revenge'), (2, 'Remember'), (2, 'Rebellious'), (2, 'Put'), (2, 'Priam'), (2, \"Polonius's\"), (2, 'Poland,'), (2, 'Polack'), (2, 'Poisoner'), (2, 'Player.'), (2, 'Pale'), (2, 'Over'), (2, 'Osric.]'), (2, 'Ophelia?'), (2, 'Ophelia;'), (2, 'One.'), (2, 'Officer.'), (2, 'Observe'), (2, \"O'er\"), (2, 'Nothing'), (2, 'Norway;'), (2, 'Norway'), (2, 'None'), (2, 'No.'), (2, \"Neptune's\"), (2, 'Murder'), (2, 'Mine'), (2, 'Methinks'), (2, 'Messenger.]'), (2, 'Mess.'), (2, 'Marcellus'), (2, 'Lord.]'), (2, 'Lord,'), (2, 'Long'), (2, 'Leave'), (2, 'Lay'), (2, 'Larded'), (2, 'Laertes.]'), (2, 'King?'), (2, 'Julius'), (2, 'Jove'), (2, 'Jephthah,'), (2, 'I;'), (2, 'I!'), (2, 'Horatio;'), (2, 'Hercules'), (2, 'Help,'), (2, 'Hamlet,--'), (2, 'Ha,'), (2, 'Guil.]'), (2, 'Goes'), (2, 'God?'), (2, \"God's\"), (2, 'Giving'), (2, 'Gertrude;'), (2, 'Friends'), (2, 'France;'), (2, 'France'), (2, 'Fortinbras;'), (2, 'Fortinbras.'), (2, 'Fortinbras'), (2, 'Forgive'), (2, 'Fie'), (2, 'Fell'), (2, 'Fear'), (2, 'Farewell,'), (2, 'Ere'), (2, 'Enter'), (2, 'English'), (2, 'England.'), (2, 'England,'), (2, 'England!'), (2, 'Elsinore?'), (2, 'Doubt'), (2, 'Dies'), (2, 'Denmark?'), (2, 'Denmark:'), (2, 'Dane.'), (2, 'Dane,'), (2, 'Conceit'), (2, 'Clowns,'), (2, 'Bring'), (2, 'Both.'), (2, 'Between'), (2, 'Bernardo,'), (2, 'Bernardo'), (2, 'Behind'), (2, 'Been'), (2, 'Barbary'), (2, 'Attendants'), (2, \"Arm'd,\"), (2, 'Anon'), (2, 'Am'), (2, 'After'), (2, 'About'), (2, \"'twixt\"), (2, \"'twill\"), (2, \"'twere,\"), (2, \"'t\"), (2, \"'em?\"), (2, \"'a\"), (2, \"'This\"), (2, \"'Swounds,\"), (2, \"'Sblood,\"), (2, \"'I\"), (2, \"'Good\"), (1, '\\ufeffXXXX'), (1, 'zone,'), (1, 'youth:'), (1, 'yourselves'), (1, 'yourself:'), (1, 'yours:'), (1, 'yours,'), (1, 'yours'), (1, 'younger'), (1, 'young;'), (1, 'you;--though,'), (1, 'you:--why'), (1, 'you:--keep'), (1, 'you.--If'), (1, 'you.--Good'), (1, 'you.--For'), (1, \"you're\"), (1, 'you!'), (1, 'yond'), (1, 'yon'), (1, 'yielding'), (1, 'yet?'), (1, 'yesty'), (1, 'yesternight.'), (1, 'yesterday,'), (1, \"yeoman's\"), (1, 'years'), (1, 'year.'), (1, 'year,'), (1, 'year'), (1, 'yea,'), (1, 'ye.'), (1, 'ye!'), (1, 'yawn,'), (1, 'yaw'), (1, 'yard'), (1, 'wrung'), (1, 'wrote?'), (1, 'wrote'), (1, 'wrong:'), (1, \"wrong'd;\"), (1, \"wrong'd\"), (1, 'written'), (1, 'writers'), (1, 'write'), (1, 'wrist,'), (1, 'wrinkled;'), (1, 'wringing'), (1, 'wring'), (1, 'wretched,'), (1, 'wreck'), (1, 'wrath'), (1, 'wrap'), (1, 'woundless'), (1, 'wounded'), (1, 'would;'), (1, 'would,'), (1, \"would';--\"), (1, \"wot,'\"), (1, 'worthy'), (1, 'worth!'), (1, 'worst.'), (1, 'worser'), (1, 'worse.'), (1, 'worse'), (1, 'worn.'), (1, 'wormwood!'), (1, 'worms'), (1, 'worm.'), (1, 'worlds,'), (1, 'world.'), (1, 'works,--'), (1, 'working,'), (1, 'working'), (1, 'work?'), (1, 'work;'), (1, 'work:'), (1, 'work.'), (1, 'work,'), (1, 'wore'), (1, 'words?'), (1, 'words:'), (1, 'words.'), (1, 'word;'), (1, 'word:'), (1, 'word.--'), (1, 'word.'), (1, 'wooes'), (1, 'woodcocks.'), (1, 'woodcock'), (1, 'wood'), (1, 'woo'), (1, 'wonderful!'), (1, 'wonderful'), (1, 'wonder.'), (1, 'wonder-wounded'), (1, \"women's\"), (1, 'womb'), (1, 'woman.'), (1, 'woman,'), (1, \"woman's\"), (1, 'woman!--'), (1, 'woman!'), (1, 'woe.'), (1, 'wittingly.'), (1, 'wittingly,'), (1, 'wits.'), (1, 'wits,'), (1, 'witness'), (1, 'without.'), (1, 'without,'), (1, 'within,'), (1, 'withers'), (1, \"wither'd\"), (1, 'withdrew'), (1, 'withdraw,'), (1, 'withdraw'), (1, 'withal:'), (1, 'withal,--except'), (1, 'withal,'), (1, 'with;'), (1, 'with:'), (1, 'with,'), (1, 'witching'), (1, 'witch'), (1, \"wit's\"), (1, 'wishes'), (1, \"wish'd.\"), (1, 'wiseness'), (1, 'wisely,'), (1, 'wisely'), (1, 'wise,'), (1, 'wise'), (1, 'wisdoms,'), (1, 'wisdom,'), (1, \"winter's\"), (1, 'winnowed'), (1, 'winks,'), (1, 'winking,'), (1, 'wings,'), (1, 'wings'), (1, 'wing,--'), (1, 'wine'), (1, 'windy'), (1, 'window,'), (1, 'windlaces,'), (1, 'wince;'), (1, 'win.'), (1, 'wills'), (1, 'willow'), (1, 'will.--Tell'), (1, 'will!--'), (1, 'wilfully'), (1, 'wildness:'), (1, 'wild;'), (1, 'wild:'), (1, 'wild,'), (1, 'wild'), (1, 'wife.'), (1, 'wife!'), (1, 'wife'), (1, 'widow,'), (1, 'wick'), (1, 'why;'), (1, 'whoreson,'), (1, 'whoreson'), (1, 'whore,'), (1, \"whor'd\"), (1, 'wholesome;'), (1, 'whit,'), (1, 'whispers'), (1, 'whirlwind'), (1, 'whirling'), (1, 'whips'), (1, 'whipping?'), (1, 'whipped'), (1, 'whine?'), (1, 'while;'), (1, 'while.'), (1, 'while,'), (1, 'whiff'), (1, 'which,--'), (1, 'whet'), (1, 'whereon'), (1, 'whereof,'), (1, 'wherein'), (1, 'wherefore?'), (1, 'wherefore'), (1, 'whereat'), (1, \"where's\"), (1, 'whensoever,'), (1, 'whence'), (1, 'when,'), (1, 'wheel'), (1, 'wheaten'), (1, 'whatsoever'), (1, 'what?'), (1, 'wharf,'), (1, 'westward'), (1, 'west'), (1, 'well.--welcome,'), (1, 'well.--Follow'), (1, \"well.'\"), (1, 'well-took'), (1, 'welcome:'), (1, 'welcome,--his'), (1, 'weight,'), (1, 'weighing'), (1, 'weigh'), (1, 'weeps'), (1, 'weeping'), (1, 'weep?'), (1, 'weep'), (1, 'week;'), (1, 'weedy'), (1, 'weed'), (1, 'wedding.'), (1, 'wed;'), (1, 'wed.'), (1, 'wed'), (1, 'weary,'), (1, 'weary'), (1, 'wearing'), (1, 'weapons:--but'), (1, 'weapon?'), (1, 'weapon;'), (1, 'wealth'), (1, 'weal'), (1, 'weakness;'), (1, 'weakness'), (1, 'weakest'), (1, 'weaker'), (1, 'we.'), (1, 'we!'), (1, 'ways'), (1, 'way;'), (1, 'way:'), (1, 'way.'), (1, 'waxes,'), (1, 'waxes'), (1, 'wax,'), (1, 'wax'), (1, 'waving'), (1, 'water;'), (1, 'water-fly?'), (1, 'watchman'), (1, 'watch:'), (1, 'watch.'), (1, \"watch'd.\"), (1, 'wastein'), (1, 'waste'), (1, 'wassail,'), (1, 'was?'), (1, 'was:'), (1, 'was.'), (1, \"was--'\"), (1, 'was,--as'), (1, \"was't?\"), (1, \"was't\"), (1, 'wart!'), (1, 'wars.'), (1, 'wars,'), (1, 'warranties:'), (1, 'warrant:'), (1, \"warr'nt\"), (1, 'warning,'), (1, 'warms'), (1, 'wards,'), (1, 'war;'), (1, 'war'), (1, 'wantonness'), (1, 'wanton,'), (1, 'wandering'), (1, \"wan'd;\"), (1, 'wall'), (1, 'walks'), (1, 'walk.'), (1, \"walk'd\"), (1, 'wake'), (1, 'waits'), (1, 'waist,'), (1, 'wail'), (1, 'wager?'), (1, 'wager,'), (1, \"wager'd\"), (1, 'wag.'), (1, 'wag'), (1, 'vulgar.'), (1, 'vulgar'), (1, 'voyage;'), (1, 'voyage,'), (1, 'vows;'), (1, 'vows:'), (1, 'vows'), (1, 'vouchers,'), (1, 'vouchers'), (1, 'vouch'), (1, 'volume'), (1, 'volley.'), (1, 'voice;'), (1, 'visitation?'), (1, 'vision'), (1, 'virtue;'), (1, 'virgin'), (1, 'violets,'), (1, 'violets'), (1, 'violet'), (1, 'violence;'), (1, 'violence:'), (1, 'violence,'), (1, 'violence'), (1, 'villany!--Ho!'), (1, 'villanous'), (1, 'villanies,--'), (1, 'villain?'), (1, 'vigour'), (1, 'view;'), (1, 'view'), (1, 'vicious'), (1, 'vial,'), (1, 'very--pajock.'), (1, 'very,'), (1, 'verse'), (1, 'verity'), (1, 'ventages'), (1, 'venom,'), (1, \"venom'd\"), (1, 'venom'), (1, 'vengeance!'), (1, 'vengeance'), (1, 'vast'), (1, 'varnish'), (1, 'vapours.'), (1, 'vantage.'), (1, 'vantage'), (1, 'vanquisher;'), (1, \"vanish'd\"), (1, 'valour,'), (1, 'validity:'), (1, \"valanc'd\"), (1, 'vain'), (1, 'vailed'), (1, 'vacancy,'), (1, 'utterance'), (1, \"utter'd:\"), (1, 'utter'), (1, \"usurp'st\"), (1, 'usurp'), (1, 'usual'), (1, 'used;'), (1, 'use;'), (1, 'us?'), (1, 'us;'), (1, 'us:'), (1, 'us,--thou'), (1, \"us'd\"), (1, 'us!--'), (1, 'upshot,'), (1, 'upon.'), (1, 'upon,--'), (1, \"upon't,--\"), (1, \"upon't!\"), (1, 'uphoarded'), (1, 'up;--'), (1, 'up:'), (1, 'up.--Remember'), (1, 'up-spring'), (1, 'unyoke.'), (1, 'unwrung.'), (1, 'unworthiest'), (1, 'unwilling'), (1, 'unwholesome'), (1, 'unweeded'), (1, \"unwatch'd\"), (1, \"unvalu'd\"), (1, \"unus'd.\"), (1, 'untimely'), (1, 'unsure'), (1, 'unsmirched'), (1, 'unskilful'), (1, \"unsinew'd,\"), (1, 'unshaped'), (1, 'unshaken'), (1, 'unseen.'), (1, 'unseen,'), (1, 'unseen'), (1, 'unseal'), (1, \"unschool'd;\"), (1, 'unsatisfied.'), (1, 'unsanctified'), (1, 'unripe,'), (1, 'unrighteous'), (1, 'unreclaimed'), (1, \"unproportion'd\"), (1, 'unprofitable'), (1, 'unprevailing'), (1, 'unpregnant'), (1, 'unpolluted'), (1, 'unpack'), (1, 'unnerved'), (1, 'unnatural;'), (1, 'unnatural.'), (1, \"unmatch'd\"), (1, \"unmaster'd\"), (1, 'unmask'), (1, 'unmannerly.'), (1, 'unmanly'), (1, 'unlimited:'), (1, 'unknowing'), (1, 'unkind.'), (1, 'unkennel'), (1, 'university,'), (1, 'unimproved'), (1, 'unholy'), (1, 'unhappily.'), (1, 'ungracious'), (1, \"ungor'd.\"), (1, 'ungalled'), (1, 'unfortified,'), (1, \"unforc'd\"), (1, 'unfold.'), (1, \"unfledg'd\"), (1, 'unfellowed.'), (1, 'unequal'), (1, 'uneffectual'), (1, 'undo'), (1, \"undiscover'd\"), (1, 'undertakings,'), (1, 'understanding,'), (1, 'undergo,--'), (1, 'uncurrent'), (1, 'uncle-father'), (1, \"uncle's\"), (1, 'uncle!'), (1, 'uncharge'), (1, \"unbrac'd;\"), (1, 'unbated,'), (1, \"unanel'd;\"), (1, 'umbrage,'), (1, 'ulcerous'), (1, 'ulcer:--'), (1, 'ugly'), (1, 'ubique?'), (1, 'tyrant,'), (1, 'tyrannous'), (1, 'tyrannically'), (1, 'twofold'), (1, 'two:'), (1, 'twenty,'), (1, 'twentieth'), (1, 'twelve,'), (1, 'twain.'), (1, 'twain!'), (1, 'tutor:'), (1, 'tush,'), (1, 'turns'), (1, 'turneth'), (1, 'turn?'), (1, 'turn.'), (1, \"turn'st\"), (1, 'turf,'), (1, 'turbulent'), (1, 'tunes;'), (1, 'tumbled'), (1, 'try,'), (1, 'truth:'), (1, 'truth.'), (1, 'truster'), (1, \"truncheon's\"), (1, 'trumpets,'), (1, 'trumpets'), (1, 'trumpet;'), (1, 'truly;'), (1, 'truly:'), (1, 'truepenny?--'), (1, 'true.'), (1, 'true-love'), (1, 'true,'), (1, 'true!'), (1, 'truant.'), (1, 'truant'), (1, 'troubles,'), (1, 'troubles'), (1, 'trophy,'), (1, 'trophies'), (1, 'trivial'), (1, 'triumph'), (1, 'tristful'), (1, 'trippingly'), (1, 'trip'), (1, 'trifling'), (1, 'trifle,'), (1, 'tried,'), (1, 'tricks?'), (1, 'tricks,'), (1, 'tricks'), (1, 'trick;'), (1, \"trick'd\"), (1, 'tribute:'), (1, 'tribute'), (1, 'tributary;'), (1, 'trial.'), (1, 'trial,'), (1, 'trial'), (1, 'trespass,'), (1, 'tree;'), (1, 'treason!'), (1, 'treads'), (1, 'tread'), (1, 'treachery.'), (1, 'treacherous,'), (1, 'treacherous'), (1, 'traveller'), (1, 'travel?'), (1, 'travel'), (1, 'trappings'), (1, 'translate:'), (1, 'translate'), (1, 'transformation;'), (1, 'transform'), (1, 'traitorous'), (1, 'trains'), (1, 'tragical-historical,'), (1, 'tragical-comical-historical-pastoral,'), (1, 'tragedians'), (1, \"traduc'd\"), (1, 'toys'), (1, 'town'), (1, 'towering'), (1, 'toward,'), (1, 'touching'), (1, 'touches'), (1, \"touch'd,\"), (1, 'total'), (1, 'torrent,'), (1, 'tormenting'), (1, \"topp'd\"), (1, 'top,'), (1, 'too;--at'), (1, 'too-much-changed'), (1, 'too!--'), (1, 'tongues,'), (1, 'tongue?'), (1, 'tongue!'), (1, 'tomb'), (1, 'tokens.'), (1, 'toils'), (1, 'toil?'), (1, 'together;'), (1, 'together:'), (1, 'together.'), (1, 'toe?'), (1, 'toe'), (1, 'to-night:'), (1, 'to-night.'), (1, 'to-night,'), (1, 'to-night!'), (1, 'to-morrow.'), (1, 'to-morrow'), (1, 'to-day,'), (1, 'to-day'), (1, \"to,--'tis\"), (1, \"to't;\"), (1, \"to't,\"), (1, 'tithe'), (1, 'tinct.'), (1, 'times;'), (1, 'time;'), (1, 'time:'), (1, 'time,--as'), (1, \"time,--I'd\"), (1, \"timber'd\"), (1, 'tickle'), (1, 'thyself?'), (1, 'thyself;'), (1, 'thyself:'), (1, 'thyself,--'), (1, \"thus:--'I\"), (1, 'thus:'), (1, \"thus,--you'll\"), (1, 'thunders'), (1, 'thunder.'), (1, 'thunder'), (1, 'thumb,'), (1, 'thrown'), (1, 'throwing'), (1, 'throw,'), (1, 'throughly'), (1, 'throne;'), (1, 'throne'), (1, 'throat;'), (1, 'thrift'), (1, 'three-and-twenty'), (1, 'threats'), (1, 'threatening'), (1, 'threaten'), (1, \"thrall'd\"), (1, 'thousand.'), (1, 'thoughts;'), (1, 'thought;'), (1, 'thought-sick'), (1, \"thou.'\"), (1, 'thou.'), (1, 'thou,--'), (1, \"thou'rt\"), (1, 'thou!'), (1, 'thorny'), (1, 'thorns'), (1, 'thither.'), (1, 'this.--the'), (1, 'this.--'), (1, 'this,--he'), (1, 'thirties'), (1, 'third,'), (1, \"thinks't\"), (1, 'think?'), (1, 'think,--or'), (1, \"think't.\"), (1, 'thing?'), (1, 'thing.'), (1, 'thing,--'), (1, \"thing's\"), (1, 'thine;'), (1, 'thine:'), (1, 'thin'), (1, 'thieves'), (1, 'thicker'), (1, 'thick,'), (1, 'thick'), (1, 'they?'), (1, 'they,'), (1, \"they'll\"), (1, 'thews'), (1, 'these?'), (1, 'thereunto,'), (1, 'thereon'), (1, 'thereof'), (1, 'therein'), (1, 'thereabout'), (1, 'there:'), (1, 'there.--Be'), (1, 'thence,'), (1, 'thence'), (1, 'then:'), (1, 'then.'), (1, 'theme?'), (1, 'them?--To'), (1, 'them.]'), (1, 'them.--Stand,'), (1, 'them.--But,'), (1, 'them,--that'), (1, 'theft.'), (1, 'thee;'), (1, 'thee.--Something'), (1, 'thee.--'), (1, 'theatre'), (1, 'that?--[Aside.]'), (1, 'that:--you'), (1, \"that.--Pr'ythee,\"), (1, 'that--'), (1, 'thanks?'), (1, 'thanks;'), (1, 'thanks.'), (1, 'tetter'), (1, 'tether'), (1, 'test,'), (1, 'terms,--'), (1, 'terms,'), (1, 'tenures,'), (1, 'tent'), (1, \"tennis':\"), (1, 'tenders,'), (1, 'tender,'), (1, 'tend;'), (1, 'tend:'), (1, 'tend.'), (1, 'tend,'), (1, 'tenants.'), (1, 'tenantless,'), (1, 'tenable'), (1, 'temple'), (1, 'tempest,'), (1, 'temperately'), (1, 'temperance'), (1, \"temper'd\"), (1, 'tells'), (1, 'tell;'), (1, 'teeth,'), (1, 'teeth'), (1, 'tediousness'), (1, 'tears;--why'), (1, 'tears:'), (1, 'tear.--'), (1, \"tax'd\"), (1, 'tax'), (1, 'tatters,'), (1, 'taste'), (1, 'task'), (1, 'tarre'), (1, 'target;'), (1, 'tanner'), (1, \"tann'd\"), (1, 'tame'), (1, 'taken'), (1, 'taints'), (1, 'tables.'), (1, 'tables,--meet'), (1, 'table:'), (1, 'table-book,'), (1, 'table,--'), (1, 'table!'), (1, \"t'other\"), (1, \"t'is\"), (1, 'synod,'), (1, 'sworn.'), (1, 'sworn,'), (1, \"sworn't.\"), (1, 'swore,'), (1, 'swords,'), (1, 'sword:'), (1, 'swoons'), (1, 'swinish'), (1, 'sweet;'), (1, 'sweet:'), (1, 'sweepstake,'), (1, 'sweaty'), (1, 'swearing;'), (1, 'swearing,'), (1, 'swear.'), (1, \"swear't.\"), (1, 'swear'), (1, 'swallowed:'), (1, 'swaggering'), (1, 'swaddling'), (1, 'sustain'), (1, 'suspiration'), (1, 'survivor'), (1, 'surrender'), (1, 'surmise.'), (1, 'surely,'), (1, 'supposal'), (1, 'supply'), (1, 'suppliance'), (1, 'supper.'), (1, 'supper!'), (1, 'supervise,'), (1, 'superfluous'), (1, 'sun;'), (1, 'sun:'), (1, 'sun.'), (1, 'sun,'), (1, 'summons.'), (1, 'sum.--What'), (1, 'sum'), (1, 'sultry,--as'), (1, 'sultry'), (1, \"sulph'uous\"), (1, 'sullies'), (1, 'suits,'), (1, 'suiting'), (1, 'suit;'), (1, 'sugar'), (1, 'suffering'), (1, 'suffered'), (1, 'suddenly'), (1, 'such;'), (1, 'such.'), (1, 'such-like'), (1, 'such-a-one,'), (1, \"such-a-one's\"), (1, 'such,'), (1, 'successive'), (1, 'succession?'), (1, 'succession'), (1, 'subject:--and'), (1, 'sty,--'), (1, 'stung'), (1, 'stuff;'), (1, 'study'), (1, 'stuck,'), (1, 'stubbornness;'), (1, 'stubborn'), (1, 'strutted'), (1, 'strumpet.'), (1, 'strumpet,'), (1, 'struggling'), (1, 'strucken'), (1, 'struck?'), (1, 'struck.'), (1, 'strongest'), (1, 'strong.'), (1, 'strokes:'), (1, 'strings'), (1, 'strikes'), (1, 'strike,'), (1, 'strike'), (1, 'strife,'), (1, 'strewments,'), (1, \"strew'd\"), (1, 'strew'), (1, 'strength,'), (1, 'strength'), (1, 'streets;'), (1, 'streets,'), (1, 'stream;'), (1, 'straws;'), (1, 'straws'), (1, 'straw:'), (1, 'straw'), (1, 'stranger'), (1, 'strangely?'), (1, 'strangely,'), (1, 'strange;'), (1, 'strange,'), (1, 'strange!'), (1, 'stowed.'), (1, 'stoups'), (1, 'stoup'), (1, 'story.--'), (1, 'story,'), (1, 'story'), (1, 'storm,'), (1, 'stops;'), (1, 'stops.'), (1, 'stopping'), (1, 'stooping'), (1, 'stood;'), (1, 'stood,'), (1, 'stonish'), (1, 'stones,'), (1, 'stone.'), (1, 'stone,'), (1, 'stomach'), (1, 'stole,'), (1, 'stockings'), (1, 'stock'), (1, 'stithy.'), (1, 'stirring.'), (1, \"stirr'd\"), (1, 'stir,'), (1, 'still.--'), (1, 'stiffly'), (1, 'sticks'), (1, 'stick:'), (1, 'stick'), (1, 'steward,'), (1, 'stern'), (1, 'sterling.'), (1, 'sterile'), (1, 'steps,'), (1, \"steep'd,\"), (1, 'steep'), (1, 'steel;'), (1, 'steals'), (1, 'stealing'), (1, 'stealers.'), (1, 'steal'), (1, 'stays:'), (1, 'statutes,'), (1, 'statists'), (1, 'stately'), (1, 'state;'), (1, 'state,--'), (1, 'state!'), (1, 'started,'), (1, 'star,--'), (1, 'star,'), (1, 'standing'), (1, 'stand.'), (1, 'stand,--'), (1, 'stand,'), (1, 'stalks'), (1, 'stalk'), (1, 'stale,'), (1, 'stake.'), (1, 'stairs'), (1, \"stain'd,\"), (1, 'stages,--so'), (1, 'stage;'), (1, 'staff'), (1, 'squeezing'), (1, 'squeak'), (1, 'spurns'), (1, 'spur'), (1, 'springs'), (1, 'springes'), (1, 'springe,'), (1, 'spring!--I'), (1, 'spots'), (1, 'sponge!--what'), (1, 'spoken,'), (1, 'spoken'), (1, 'split'), (1, 'splenetive'), (1, 'spite,'), (1, 'spirits,--'), (1, 'spirits,'), (1, 'spirit;'), (1, 'spirit:'), (1, 'spirit.'), (1, 'spirit!--So,'), (1, 'spilt.'), (1, 'spills'), (1, 'spies,'), (1, 'spheres;'), (1, 'sphere;'), (1, 'sphere,'), (1, 'spent.'), (1, 'spendthrift'), (1, 'spend'), (1, 'speedy'), (1, 'speedier,'), (1, 'speed,'), (1, 'speechless,'), (1, 'speeches'), (1, 'speech.'), (1, 'spectators'), (1, 'speaks:'), (1, 'speaks,'), (1, 'speak:'), (1, \"speak';\"), (1, 'speak!--Stop'), (1, 'sparrow.'), (1, 'spark'), (1, 'spake,'), (1, 'spades,'), (1, 'spade:'), (1, 'spade.'), (1, 'spacious'), (1, 'space,'), (1, 'sovereignty'), (1, 'southerly'), (1, 'sounded,'), (1, 'sound.'), (1, 'souls?'), (1, 'souls.'), (1, 'souls'), (1, 'soul:'), (1, 'soul,--'), (1, \"soul's\"), (1, 'sorts'), (1, 'sort,'), (1, 'sorry,--'), (1, 'sorry,'), (1, 'sorrows'), (1, 'sorrow:'), (1, 'sorrow,'), (1, 'soon.--'), (1, 'sons,'), (1, 'songs?'), (1, 'songs,'), (1, 'song?'), (1, 'son?'), (1, 'son.--Go,'), (1, 'son.--'), (1, 'son--'), (1, \"son's\"), (1, 'somever'), (1, 'something:--Where'), (1, 'something-settled'), (1, 'solidity'), (1, 'solid'), (1, 'solicitings,'), (1, 'solicited.--the'), (1, 'soles'), (1, 'sole'), (1, \"soldiers'\"), (1, 'soldier;'), (1, \"soldier's,\"), (1, 'soldier'), (1, 'sold'), (1, \"soil'd\"), (1, 'soil'), (1, 'softly'), (1, 'soft,'), (1, \"soe'er\"), (1, 'society'), (1, 'sober,'), (1, 'soaks'), (1, \"so;'\"), (1, 'so:--'), (1, \"so.'\"), (1, 'so,--as'), (1, 'so!--you'), (1, 'snuff'), (1, 'snow?'), (1, 'snatches'), (1, 'smote'), (1, 'smoothness.'), (1, 'smiling,'), (1, 'smiles'), (1, 'smelt'), (1, 'smells'), (1, 'smelling'), (1, \"smear'd\"), (1, 'smart'), (1, 'small'), (1, 'sliver'), (1, 'slips'), (1, 'slings'), (1, 'slightly,'), (1, 'slightly'), (1, 'slight'), (1, 'slender'), (1, 'sleeps:--say'), (1, 'sleeping,'), (1, \"sleeper's\"), (1, 'sleep?'), (1, 'sleep;--'), (1, 'sleep.'), (1, 'sleep,--'), (1, 'sleep,'), (1, 'sleep!'), (1, 'sledded'), (1, 'slay'), (1, 'slave,'), (1, \"slave's\"), (1, 'slaughters;'), (1, 'slaughter:'), (1, 'slander,--'), (1, 'slander'), (1, 'slain?--O,'), (1, 'slain;'), (1, 'slain:'), (1, 'slain,'), (1, 'slain!'), (1, 'slain'), (1, 'skyish'), (1, 'skull].'), (1, 'skirts'), (1, 'skin'), (1, 'skill.'), (1, \"siz'd,\"), (1, 'sixteen'), (1, 'sitting'), (1, 'sits:'), (1, 'sister;'), (1, \"sister's\"), (1, 'sirs.'), (1, 'sirs,'), (1, 'sir:--pronounce.'), (1, 'sir.--'), (1, 'sir--'), (1, 'sir,--it'), (1, \"sir,'\"), (1, 'sipping,'), (1, 'sins'), (1, 'sinners?'), (1, 'sings.]'), (1, 'sings'), (1, 'singeth'), (1, 'sing?'), (1, 'sinews,'), (1, 'sinews'), (1, 'since?'), (1, 'sin,'), (1, \"sin's\"), (1, 'sin'), (1, 'simples'), (1, 'simple'), (1, \"silver'd.\"), (1, 'silence.'), (1, 'signet'), (1, 'sight?'), (1, 'sight;--'), (1, 'sight.'), (1, 'sighs.'), (1, 'sift'), (1, 'siege.'), (1, 'sides;'), (1, 'sides.--How'), (1, 'sides.'), (1, 'side.'), (1, 'side'), (1, 'sickness,'), (1, 'sickness'), (1, 'sicklied'), (1, 'shut'), (1, 'shuffling;--there'), (1, 'shuffling,'), (1, 'shuffled'), (1, 'shrunk'), (1, 'shrouding'), (1, 'shroud'), (1, 'shriving-time'), (1, 'shrill-sounding'), (1, 'shrewdly;'), (1, 'shreds'), (1, 'shown,'), (1, 'showing:'), (1, 'showers.'), (1, 'show;'), (1, \"show'd\"), (1, 'shovel,'), (1, 'shove'), (1, 'shoulder.]'), (1, 'shot,--may'), (1, 'shortens'), (1, 'short:'), (1, 'short,'), (1, 'shoot.'), (1, 'shoon.'), (1, 'shook'), (1, 'shoes,'), (1, 'shoes'), (1, 'shoe?'), (1, 'shocks'), (1, 'shirt;'), (1, 'shipwrights,'), (1, \"shipp'd\"), (1, 'ship;'), (1, 'ship'), (1, 'shine:'), (1, 'shift'), (1, 'shepherds'), (1, 'shent,'), (1, 'shell'), (1, 'shelf'), (1, 'sheets!'), (1, 'sheeted'), (1, 'sheet;'), (1, 'sheep-skins?'), (1, 'sheep'), (1, 'sheen'), (1, 'she,--'), (1, \"she's\"), (1, 'shatter'), (1, 'sharp'), (1, 'share.'), (1, 'shape;'), (1, 'shape:'), (1, 'shape,'), (1, 'shameful'), (1, 'shame,'), (1, 'shall;'), (1, 'shaking'), (1, 'shadows.'), (1, \"shadow's\"), (1, 'shadow'), (1, \"sexton's\"), (1, 'sexton'), (1, 'sewing'), (1, 'severally;'), (1, 'several'), (1, 'seven'), (1, 'settled'), (1, 'service,--two'), (1, 'servants;'), (1, 'servants'), (1, 'servant'), (1, \"serv'd;\"), (1, \"serv'd\"), (1, 'serious'), (1, 'sergeant,'), (1, 'sere;'), (1, 'sequent'), (1, 'sequel'), (1, 'sepulchre,'), (1, 'sent;'), (1, 'sensibly'), (1, 'sensible'), (1, 'sense:'), (1, 'sending.'), (1, 'sending'), (1, 'semblable'), (1, 'self-slaughter!'), (1, 'self'), (1, 'select'), (1, \"seiz'd\"), (1, 'sees'), (1, 'seen;'), (1, 'seen.'), (1, 'seems.'), (1, 'seeming.'), (1, 'seeming-virtuous'), (1, 'seeming'), (1, 'seem;'), (1, \"seeks.'\"), (1, 'seeks'), (1, 'seeing;'), (1, 'seeing,'), (1, 'seed;'), (1, 'see?'), (1, 'see;'), (1, \"see't.\"), (1, \"see'st\"), (1, 'see!'), (1, 'seduce!--won'), (1, 'secrets'), (1, 'secret?'), (1, 'secret,'), (1, 'secrecy,'), (1, 'second,'), (1, 'seated'), (1, 'seat;'), (1, 'seat'), (1, 'seasons'), (1, 'season,'), (1, \"season'd\"), (1, 'seas,'), (1, 'search.'), (1, 'seals'), (1, 'seal:'), (1, \"seal'd?\"), (1, \"seal'd:\"), (1, 'sea-gown'), (1, 'sea-fight;'), (1, 'se'), (1, 'scullion!'), (1, 'scuffling,'), (1, 'scruple'), (1, 'scrimers'), (1, \"screen'd\"), (1, \"scratch'd\"), (1, 'scorns'), (1, 'scorn'), (1, 'scopes'), (1, 'scope!'), (1, 'sconce'), (1, 'schoolfellows,--'), (1, 'school'), (1, 'scholars,'), (1, 'scholar;'), (1, \"scholar's,\"), (1, 'scent'), (1, 'scenes,'), (1, \"scarf'd\"), (1, 'scanter'), (1, 'scant'), (1, \"scann'd:\"), (1, 'scandal.'), (1, 'scandal'), (1, 'says:'), (1, 'saying'), (1, 'say?--'), (1, 'say?'), (1, 'say;'), (1, 'say.'), (1, 'say,--'), (1, \"say'st:\"), (1, \"say'st\"), (1, 'say!'), (1, 'saws'), (1, \"saw't.\"), (1, 'savoury,'), (1, 'savageness'), (1, 'satyr;'), (1, 'satisfied'), (1, 'satisfaction;'), (1, 'satirical'), (1, 'sate'), (1, 'sans'), (1, 'sanity'), (1, 'sandal'), (1, 'sanctuarize;'), (1, 'sanctified'), (1, 'same.'), (1, 'same,'), (1, 'salvation?'), (1, 'salvation'), (1, 'salt,'), (1, 'sallets'), (1, \"sale,'--\"), (1, 'salary,'), (1, 'sail.'), (1, 'safety,--'), (1, 'safety,'), (1, 'safely,'), (1, 'sadness;'), (1, 'sadly'), (1, 'sacred'), (1, 'sables.'), (1, 'sables'), (1, 'rusty?'), (1, 'russet'), (1, 'run'), (1, 'rule,'), (1, \"rul'd\"), (1, 'ruin.'), (1, 'rub;'), (1, 'rub'), (1, 'royally:'), (1, 'row'), (1, 'roused'), (1, 'rouse;'), (1, 'rouse,'), (1, 'rouse'), (1, 'roughly.'), (1, 'rots'), (1, 'rot?'), (1, 'roses'), (1, 'rosemary,'), (1, 'room.--'), (1, 'roof'), (1, 'rood,'), (1, 'romage'), (1, 'rogue!'), (1, 'rogue'), (1, 'rock'), (1, 'robustious'), (1, 'robe,'), (1, 'roasted'), (1, 'roars'), (1, 'roar?'), (1, 'roar'), (1, 'rivet'), (1, 'river'), (1, 'rivals'), (1, 'rites?'), (1, 'rites,'), (1, 'rites'), (1, 'rite'), (1, 'rises.'), (1, 'rise,'), (1, 'rise'), (1, 'ripe'), (1, 'riotous'), (1, 'ring?'), (1, 'ring.--Masters,'), (1, 'right!--'), (1, 'richer'), (1, 'rich;'), (1, 'rich,'), (1, 'riband'), (1, 'rhymed.'), (1, 'rheum;'), (1, 'rhapsody'), (1, 'rewards,'), (1, 'rewards'), (1, 'revolution,'), (1, 'reverted'), (1, 'reverend'), (1, 'revenue'), (1, 'revengeful,'), (1, \"revenge.'\"), (1, 'revenge!'), (1, \"reveng'd.--that\"), (1, \"reveng'd,\"), (1, \"reveng'd\"), (1, 'revels,'), (1, 'revel'), (1, 'reveal'), (1, 'returns,--puzzles'), (1, 'returns,'), (1, 'returneth'), (1, 'return.'), (1, 'return,'), (1, \"return'd.\"), (1, \"return'd--\"), (1, 'retrograde'), (1, 'retirement,'), (1, 'retire'), (1, 'retain'), (1, 'rests?'), (1, \"restrain'd,\"), (1, 'restore'), (1, 'rest;'), (1, 'rest,'), (1, 'responsive'), (1, 'respects'), (1, 'resort,'), (1, 'resolve'), (1, 'resolution'), (1, 'resolutes,'), (1, 'residence,'), (1, 'reserve'), (1, \"reserv'd\"), (1, 'resemble'), (1, 'requite'), (1, 'requiem'), (1, 'request.'), (1, 'reputation'), (1, 'repulsed,--a'), (1, 'repose'), (1, 'reply:'), (1, 'reply.'), (1, 'replies'), (1, 'replication'), (1, 'repentance'), (1, 'repent?'), (1, 'repent;'), (1, 'repel'), (1, 'rendezvous.'), (1, 'render'), (1, 'rend'), (1, 'removed'), (1, 'remove:'), (1, 'remove,'), (1, 'remote'), (1, 'remorse'), (1, 'remiss,'), (1, 'remembrances'), (1, 'remembrance;'), (1, 'remembrance.'), (1, 'remember?'), (1, 'remember:'), (1, 'remember,--'), (1, \"remember'd.\"), (1, 'remedy.'), (1, 'remains,'), (1, 'remainder'), (1, 'religious'), (1, 'religion'), (1, \"reliev'd,\"), (1, \"reliev'd\"), (1, 'relief'), (1, 'relative'), (1, 'reigns'), (1, 'region;'), (1, 'region'), (1, 'regards'), (1, \"reform'd\"), (1, 'reform'), (1, 'reels;'), (1, 'reechy'), (1, 'red?'), (1, 'red'), (1, 'recovery'), (1, 'recoveries:'), (1, 'recoveries,'), (1, 'recount'), (1, 'records,'), (1, 'recorders:--let'), (1, 'recorders.]'), (1, 'recorders!--'), (1, 'reconcilement'), (1, 'recognizances,'), (1, 'recks'), (1, 'reckoning'), (1, 'reckon'), (1, 'reckless'), (1, 'received'), (1, \"receiv'd\"), (1, 'rebuke'), (1, 'rebels,'), (1, 'rebellion'), (1, 'reasons;'), (1, 'reasons,'), (1, 'reason;'), (1, 'reason.'), (1, 'reason!'), (1, 'rear'), (1, 'realm'), (1, 'really.'), (1, 'ready?'), (1, 'ready;'), (1, 'ready.'), (1, 'ready,'), (1, 'reading.]'), (1, 'reading.'), (1, 'readiness'), (1, 'read.'), (1, 'read'), (1, 'reaches'), (1, 'reach,'), (1, 're-word;'), (1, 're-deliver.'), (1, 're-deliver'), (1, 'razed'), (1, 'rawer'), (1, 'raw'), (1, 'raves,'), (1, 'raven'), (1, 'ravel'), (1, 'ratifiers'), (1, 'ratified'), (1, 'rather,'), (1, 'rate,'), (1, 'rate'), (1, 'rat?'), (1, 'rat,'), (1, \"rat!'\"), (1, 'rashness'), (1, 'rash'), (1, 'rascal,'), (1, 'rareness'), (1, 'rare,'), (1, 'rapiers,'), (1, 'rapier,'), (1, 'rapier'), (1, 'rant'), (1, 'ranker.'), (1, 'ranker'), (1, 'range.'), (1, \"rais'd\"), (1, \"rain'd\"), (1, 'rain'), (1, 'rags,'), (1, 'rages,'), (1, 'rage;'), (1, 'rage!'), (1, 'rage'), (1, 'radiant'), (1, 'rack'), (1, 'race'), (1, 'rabble'), (1, 'quoted'), (1, 'quintessence'), (1, 'quills'), (1, 'quillets,'), (1, 'quietus'), (1, 'quietly'), (1, 'quiet.'), (1, 'quiddits'), (1, 'quicksilver,'), (1, 'quickness:'), (1, 'quickly'), (1, 'quick;'), (1, 'quick:'), (1, 'questionable'), (1, 'question;'), (1, 'question:--'), (1, 'quest'), (1, 'queen:'), (1, 'queen,--'), (1, \"queen'?\"), (1, \"queen'\"), (1, 'queen!'), (1, \"quarter'd,\"), (1, 'quarry'), (1, 'quarrelling,'), (1, 'quarrel;'), (1, 'quarrel'), (1, 'quantity;'), (1, 'quality:'), (1, 'qualifies'), (1, 'quake'), (1, 'quaintly'), (1, 'push.--'), (1, 'pursy'), (1, \"pursu'st\"), (1, 'purse,'), (1, 'purposes;'), (1, 'purposes.'), (1, 'purposes'), (1, 'purpose,--to'), (1, \"purpos'd,\"), (1, \"purpos'd\"), (1, 'purport'), (1, 'purples,'), (1, 'purgation'), (1, \"purg'd\"), (1, 'purer'), (1, 'pure:'), (1, 'purchases,'), (1, 'puppets'), (1, \"punish'd\"), (1, 'punish'), (1, 'pulse,'), (1, \"puff'd,\"), (1, \"puff'd\"), (1, 'public'), (1, 'provoke'), (1, 'provided'), (1, 'provide:'), (1, 'proverb'), (1, 'prove,'), (1, \"prov'd,--that\"), (1, 'proud,'), (1, 'protests'), (1, 'protestation'), (1, 'prosperously'), (1, 'props'), (1, 'proposer'), (1, 'propose,'), (1, 'proportions'), (1, 'prophetic'), (1, 'proof,'), (1, 'pronouncing'), (1, 'pronounced'), (1, \"pronounc'd:\"), (1, 'promontory;'), (1, 'promise-crammed:'), (1, 'promise,'), (1, 'prolongs'), (1, 'prologue,'), (1, 'project'), (1, 'progress'), (1, 'profoundest'), (1, 'profit,'), (1, 'profession.'), (1, 'profanely,'), (1, 'profane'), (1, \"proclaim'd\"), (1, 'procession;'), (1, 'process'), (1, 'proceeding'), (1, 'proceeded'), (1, 'proceed?'), (1, 'proceed'), (1, 'probation.'), (1, 'prize'), (1, 'privy'), (1, 'privates'), (1, 'private'), (1, 'prithee'), (1, 'prisoner.'), (1, 'prisoner'), (1, 'prison-house,'), (1, 'princes'), (1, 'prince;'), (1, 'primy'), (1, 'primrose'), (1, 'primal'), (1, 'priests,'), (1, 'priest,'), (1, 'pride,'), (1, \"prick'd\"), (1, 'prick'), (1, 'prey'), (1, 'prevent,'), (1, 'prevent'), (1, 'pretty'), (1, 'prettiness.'), (1, 'pressures'), (1, 'pressure.'), (1, 'presentment'), (1, 'presently:--O,'), (1, 'presence;'), (1, 'preparations,'), (1, 'preparation'), (1, \"prepar'd\"), (1, 'prenominate'), (1, 'precurse'), (1, 'precisely'), (1, 'preceding'), (1, 'preaching'), (1, 'praying;'), (1, 'pray;'), (1, 'pray,'), (1, \"pray'st\"), (1, 'prate'), (1, 'pranks'), (1, 'praises'), (1, 'praised'), (1, 'praise,'), (1, 'praise'), (1, \"prais'd\"), (1, 'practices'), (1, 'practice:'), (1, 'practice,'), (1, 'pox,'), (1, 'powers,'), (1, 'powerfully'), (1, 'power;'), (1, 'pours'), (1, \"pour'd\"), (1, 'pour'), (1, 'pound!'), (1, 'potion.--Is'), (1, 'potently'), (1, 'potency.'), (1, 'posy'), (1, 'postscript'), (1, 'post.'), (1, 'post-haste'), (1, 'post'), (1, 'posset'), (1, 'possession'), (1, \"possess'd\"), (1, 'positively'), (1, 'portraiture'), (1, 'portentous'), (1, 'portal!'), (1, 'porcupine:'), (1, 'porches'), (1, 'pooh!'), (1, 'poniards,'), (1, 'ponderous'), (1, 'pomp;'), (1, 'poll:'), (1, 'politician,'), (1, 'politic'), (1, 'policy'), (1, 'pole'), (1, 'poisons'), (1, 'poisoning?--'), (1, \"poison'd:\"), (1, \"poison'd.\"), (1, 'points'), (1, 'point:'), (1, 'poet'), (1, 'poem'), (1, 'pocky'), (1, 'pocket!'), (1, 'ply'), (1, 'plurisy,'), (1, 'plunge'), (1, 'plum-tree'), (1, 'plucks'), (1, 'plot'), (1, 'plentiful'), (1, 'pledge.'), (1, 'pleasures,'), (1, 'pleasures'), (1, 'pleasure:'), (1, 'pleasure.'), (1, 'pleasing'), (1, 'pleased'), (1, 'please.'), (1, \"pleas'd\"), (1, 'plays'), (1, 'players;'), (1, 'players.'), (1, 'players,--as'), (1, 'played'), (1, 'play:'), (1, 'play.--'), (1, 'play,--and'), (1, 'play,--I'), (1, \"play's\"), (1, 'plausive'), (1, 'platform.'), (1, 'platform,'), (1, 'plastering'), (1, 'planets'), (1, 'plague,'), (1, 'plague'), (1, 'places'), (1, 'placed'), (1, \"plac'd,\"), (1, \"plac'd\"), (1, 'pity;'), (1, 'pitiful'), (1, 'pitied.'), (1, 'pit!'), (1, 'pirate'), (1, 'pipe'), (1, 'pioner!--Once'), (1, \"pin's\"), (1, 'pile'), (1, \"pigeon-liver'd,\"), (1, 'pierce'), (1, 'piece,'), (1, 'pictures'), (1, 'picture,'), (1, 'picture'), (1, 'pickers'), (1, 'pickaxe'), (1, 'physic'), (1, 'phrase;'), (1, 'phrase:'), (1, 'philosophy.'), (1, 'philosophy'), (1, 'petition;'), (1, 'petard:'), (1, 'pestilence'), (1, 'pester'), (1, 'peruse'), (1, 'perusal'), (1, 'perturbed'), (1, 'persuade'), (1, 'persons'), (1, 'personal'), (1, 'person:'), (1, 'person,'), (1, 'persevere'), (1, 'pernicious'), (1, 'permanent,'), (1, 'periwig-pated'), (1, 'perilous'), (1, 'perhaps,'), (1, 'performance.'), (1, 'perform:'), (1, \"perform'd,\"), (1, \"perform'd\"), (1, 'perfections:--but'), (1, 'perfect'), (1, 'perdy.'), (1, 'perdition'), (1, 'perceive?'), (1, \"perceiv'd\"), (1, 'people'), (1, 'penetrable'), (1, 'pendant'), (1, 'pelican,'), (1, 'peevish'), (1, 'peep;'), (1, 'peep'), (1, 'peculiar'), (1, 'pebbles'), (1, 'peating'), (1, 'pearl'), (1, 'peal'), (1, 'peak,'), (1, 'peace;'), (1, 'peace-parted'), (1, 'peace,'), (1, 'peace!'), (1, 'pay,'), (1, 'pause,'), (1, 'pause'), (1, 'patiently.'), (1, 'patient:'), (1, 'patience.'), (1, 'patience!'), (1, 'path'), (1, 'patches!--'), (1, 'pat,'), (1, 'pastors'), (1, 'pastoral-comical,'), (1, 'pastoral,'), (1, 'pastime?'), (1, 'pastime.'), (1, 'past;'), (1, 'past.'), (1, 'past,'), (1, 'passion.'), (1, \"passion's\"), (1, 'passeth'), (1, 'passes'), (1, 'passages'), (1, 'passage?'), (1, 'passage,'), (1, 'pass,'), (1, 'party'), (1, 'partisan?'), (1, 'particular:'), (1, 'partial,'), (1, 'part:'), (1, 'parley.'), (1, 'parle,'), (1, 'pardon.'), (1, 'pardon,'), (1, \"pardon't,\"), (1, 'parchment'), (1, 'parching'), (1, 'paragon'), (1, 'paradox,'), (1, 'paper.]'), (1, 'pansies,'), (1, 'pangs'), (1, 'panders'), (1, 'palpable'), (1, 'palmy'), (1, 'pales'), (1, 'pale:'), (1, 'pale.'), (1, 'paintings'), (1, 'painting'), (1, 'paint'), (1, 'pain,'), (1, 'paid'), (1, 'pagan,'), (1, 'paddock,'), (1, 'paddling'), (1, 'packing:'), (1, 'packet;'), (1, 'pace:'), (1, 'pace'), (1, 'owner'), (1, 'own;'), (1, 'own:'), (1, 'own.'), (1, 'owl'), (1, 'overthrown;'), (1, 'overpeering'), (1, 'overlooked'), (1, 'overdone,'), (1, 'overdone'), (1, 'overcome'), (1, 'overcame'), (1, 'over-happy;'), (1, 'outward,'), (1, \"outstretch'd\"), (1, 'outrageous'), (1, 'outlives'), (1, 'outlive'), (1, 'outface'), (1, 'outbreak'), (1, 'out;'), (1, 'out:'), (1, 'out.]'), (1, 'out.--Adieu,'), (1, 'out-herods'), (1, 'ourselves.--[To'), (1, 'ourselves,'), (1, 'ourself;'), (1, 'otherwise?--'), (1, 'otherwise?'), (1, 'otherwise:'), (1, 'others.'), (1, 'others,'), (1, 'other,--'), (1, 'ostentation,--'), (1, 'orisons'), (1, 'origin,--'), (1, 'origin'), (1, 'organ.'), (1, 'ore'), (1, 'ordinant.'), (1, 'orderly'), (1, 'order,'), (1, 'orbed'), (1, 'orb'), (1, 'or,'), (1, \"oppressor's\"), (1, 'oppression'), (1, \"oppress'd\"), (1, 'opposition,'), (1, 'opposition'), (1, 'opposites.'), (1, 'opposite'), (1, 'opposing'), (1, 'opposed'), (1, \"oppos'd\"), (1, 'opinions;'), (1, 'opinions'), (1, 'opinion,'), (1, 'operant'), (1, \"open'd,\"), (1, 'ope'), (1, \"op'd\"), (1, 'one?'), (1, 'one.--To'), (1, 'one,--'), (1, 'once:'), (1, 'once,--but'), (1, 'once!'), (1, 'on.--'), (1, \"on't;\"), (1, \"on't:\"), (1, \"on't.\"), (1, \"on't,--Frailty,\"), (1, \"on't,\"), (1, \"on't!\"), (1, 'on!--you'), (1, 'ominous'), (1, 'omen'), (1, 'old,'), (1, 'oft.'), (1, 'offices.'), (1, 'officers'), (1, 'office,'), (1, 'offer,'), (1, \"offer'd\"), (1, 'offends'), (1, \"offender's\"), (1, 'offendendo;'), (1, 'offend'), (1, 'offences'), (1, 'offence.'), (1, 'offence,'), (1, 'offal:'), (1, 'off;'), (1, 'off.]'), (1, 'of?'), (1, 'of:'), (1, 'of.'), (1, 'of,'), (1, 'of!--Hold'), (1, 'odds'), (1, 'ocean,'), (1, 'occurrents,'), (1, 'occulted'), (1, 'occasion.'), (1, 'occasion'), (1, 'obstinate'), (1, 'observers,--quite,'), (1, 'observe'), (1, 'observation'), (1, 'observant'), (1, 'observance.'), (1, 'observance,'), (1, \"observ'd\"), (1, 'obsequious'), (1, 'obsequies'), (1, 'obscure'), (1, 'oblivion,'), (1, 'obligation,'), (1, 'obligation'), (1, 'objects,'), (1, 'object'), (1, 'obeys;'), (1, 'oaths:'), (1, \"o'erwhelm\"), (1, \"o'erweigh\"), (1, \"o'ertop\"), (1, \"o'ertook\"), (1, \"o'erthrown!\"), (1, \"o'erteemed\"), (1, \"o'ersways\"), (1, \"o'erstep\"), (1, \"o'ersized\"), (1, \"o'errule\"), (1, \"o'erreaches;\"), (1, \"o'erhear\"), (1, \"o'erhasty\"), (1, \"o'erhanging\"), (1, \"o'ergrowth\"), (1, \"o'erdoing\"), (1, \"o'er-raught\"), (1, \"o'er-leavens\"), (1, \"o'er-crows\"), (1, \"o'er,\"), (1, 'nutshell,'), (1, 'nunnery:'), (1, 'nunnery.'), (1, 'numbers;'), (1, 'numbers'), (1, 'nowhere'), (1, 'now-a-days'), (1, \"nothing's\"), (1, 'nothing!'), (1, 'notes,'), (1, 'noted'), (1, 'note;'), (1, 'not:--withdraw;'), (1, 'not,--lost'), (1, 'nose?'), (1, 'nose'), (1, 'northerly.'), (1, 'north-north-west:'), (1, 'nonny'), (1, 'none;'), (1, 'none:'), (1, 'none.'), (1, 'nonce;'), (1, 'nomination'), (1, 'noise?'), (1, 'noise:'), (1, 'nods,'), (1, 'noblest'), (1, 'nobler'), (1, 'nobility'), (1, 'no?'), (1, 'no;'), (1, 'no.'), (1, 'nipping'), (1, 'nine;'), (1, 'nill'), (1, 'nightly'), (1, 'nighted'), (1, 'night;'), (1, \"night's\"), (1, 'night!'), (1, 'nickname'), (1, 'next,'), (1, 'news.'), (1, 'news,'), (1, 'newly'), (1, \"new-hatch'd,\"), (1, 'new-born'), (1, 'neutral'), (1, 'nettles,'), (1, 'nerve.--'), (1, 'neither;'), (1, 'neither.'), (1, \"neighbour'd\"), (1, 'neighbour'), (1, 'negligence,'), (1, 'neglect.'), (1, 'need,'), (1, 'neck:'), (1, 'necessity,'), (1, 'necessaries'), (1, 'near;'), (1, 'near.'), (1, 'near,'), (1, 'nave'), (1, 'naught:'), (1, 'naught,'), (1, 'natures.'), (1, 'nature:'), (1, 'natural,'), (1, 'nations:'), (1, 'nation.'), (1, 'nasty'), (1, 'narrow'), (1, 'napkin,'), (1, 'name;'), (1, 'name.'), (1, \"name's\"), (1, 'naked'), (1, 'mystery;'), (1, 'myself;'), (1, 'myself,--lawful'), (1, 'mutinies'), (1, 'mutine'), (1, 'mutes'), (1, 'mute'), (1, 'musty.'), (1, 'must:'), (1, 'music:'), (1, 'music,'), (1, 'murders:'), (1, 'murderous,'), (1, 'murdering'), (1, 'murderer;'), (1, 'murder.'), (1, 'murder,--'), (1, 'murder,'), (1, \"murder'd,\"), (1, 'murder!--Pray'), (1, 'murder!--'), (1, 'murder!'), (1, 'multitude,'), (1, 'muddy-mettled'), (1, 'muddy'), (1, 'muddied,'), (1, 'much:'), (1, 'moving,'), (1, 'move;'), (1, \"mov'd,\"), (1, 'mouthed,'), (1, 'mouse;'), (1, 'mouse'), (1, 'mourning'), (1, \"mourn'd\"), (1, 'mountebank,'), (1, 'mountains,'), (1, 'mountains'), (1, 'mount,'), (1, 'mount'), (1, 'moult'), (1, 'mould'), (1, 'motion:'), (1, 'motion'), (1, 'mothers,'), (1, 'mother;'), (1, 'mother.--Come,'), (1, 'mother.--'), (1, 'mother!--But'), (1, 'mother!'), (1, 'mote'), (1, \"mortis'd\"), (1, 'morrow,'), (1, 'morning;'), (1, 'morn'), (1, 'more:--the'), (1, 'more!'), (1, 'mope.'), (1, 'moor?'), (1, 'moons'), (1, 'moon'), (1, 'moods,'), (1, 'mood'), (1, 'monument:'), (1, 'months,'), (1, 'month,--'), (1, 'month,'), (1, 'monstrous'), (1, 'monsters'), (1, 'monster'), (1, 'monarchs'), (1, 'moment,'), (1, 'moment'), (1, 'mole!'), (1, 'mole'), (1, 'moist'), (1, 'moiety'), (1, 'modesty;'), (1, 'modesties'), (1, 'moderate'), (1, 'model'), (1, 'mockery.'), (1, 'moan:'), (1, 'mixture'), (1, 'mistress!'), (1, 'mistook'), (1, 'miss'), (1, 'mischief.'), (1, 'mirth,'), (1, 'mirth'), (1, 'mirror,'), (1, 'mirror'), (1, 'miraculous'), (1, 'minutes'), (1, 'minute;'), (1, 'ministers'), (1, 'ministering'), (1, 'minister.'), (1, 'mining'), (1, 'mines'), (1, 'mineral'), (1, 'mine,--an'), (1, 'mine,--'), (1, 'mine!'), (1, 'minds.'), (1, 'minds'), (1, 'mind;'), (1, 'mind.'), (1, 'mind,--though'), (1, 'mincing'), (1, 'million,'), (1, \"milldew'd\"), (1, 'milky'), (1, 'milk,'), (1, 'milch'), (1, 'mighty,--You'), (1, 'mighty'), (1, 'mightiest'), (1, 'mightier:'), (1, 'might,'), (1, \"might';--\"), (1, 'midnight'), (1, 'miching'), (1, 'mew,'), (1, 'mettle'), (1, 'method,'), (1, 'method'), (1, 'methinks.'), (1, 'methinks'), (1, 'metals'), (1, 'metal'), (1, 'met'), (1, 'messengers,'), (1, 'messenger'), (1, 'message,'), (1, 'mess;'), (1, 'merry?'), (1, 'merry,'), (1, 'merriment,'), (1, 'mermaid-like,'), (1, 'merely.'), (1, 'merely'), (1, 'mercy:'), (1, 'mercy,'), (1, 'mend'), (1, 'men.'), (1, 'men,--'), (1, 'men,'), (1, 'memory;'), (1, 'melt,'), (1, 'melt'), (1, 'melodious'), (1, 'mellow'), (1, 'melancholy,--'), (1, 'melancholy'), (1, 'meeting:'), (1, 'meeting'), (1, 'meet.--'), (1, 'meed'), (1, 'meditation'), (1, 'medicine'), (1, 'meats'), (1, 'meantime'), (1, 'meant?'), (1, 'meaning:'), (1, 'mean?'), (1, 'me?--'), (1, 'me:--we'), (1, 'me:--this'), (1, \"me:'\"), (1, 'me.--Well,'), (1, 'me.--Stay,'), (1, 'me,--with'), (1, 'me,--'), (1, \"me'?\"), (1, 'me!--'), (1, 'mazard'), (1, 'mayst'), (1, 'may,'), (1, 'matters?'), (1, 'matters'), (1, 'matter;'), (1, 'matter,--'), (1, \"matron's\"), (1, 'matin'), (1, \"match'd,\"), (1, 'match'), (1, 'masters;'), (1, 'masters'), (1, 'masterly'), (1, \"master's\"), (1, 'massy'), (1, 'mass'), (1, 'marvel'), (1, 'martial'), (1, 'mart'), (1, 'marshal'), (1, 'marry!'), (1, 'marrow'), (1, 'married:--'), (1, 'married'), (1, 'marriages:'), (1, 'marriage;'), (1, 'marriage.'), (1, 'marriage-vows'), (1, 'marriage,'), (1, 'market'), (1, 'mark,'), (1, 'margent'), (1, 'marching.]'), (1, 'march?'), (1, 'march.]'), (1, 'march.'), (1, 'marble'), (1, 'many.'), (1, 'mantle'), (1, 'manners;--that'), (1, 'manners,'), (1, 'manner'), (1, 'mandate;'), (1, 'man!'), (1, 'mallecho;'), (1, 'malefactions;'), (1, 'make,--'), (1, 'make,'), (1, 'majesty;'), (1, 'majestical,'), (1, 'majestical'), (1, 'maintains'), (1, 'mainly'), (1, 'main,--'), (1, 'maimed'), (1, \"maids'\"), (1, 'maids'), (1, \"maid's\"), (1, 'magic'), (1, 'maggots:'), (1, 'maggots'), (1, 'madness?'), (1, 'madness,--thoughts'), (1, 'made.'), (1, 'made,--'), (1, 'madam;'), (1, 'madam.'), (1, 'madam,--to'), (1, 'mad!'), (1, 'machine'), (1, 'lying:'), (1, 'luxury'), (1, 'lust,'), (1, 'lust'), (1, 'lungs?'), (1, 'lungs'), (1, 'lunacy?'), (1, 'lunacy.'), (1, 'lunacies.'), (1, 'lug'), (1, 'lowest'), (1, 'low'), (1, 'lovingly;'), (1, 'lover'), (1, 'loved:'), (1, 'love.]'), (1, 'love.--How'), (1, 'love--'), (1, 'loudly'), (1, 'loud'), (1, 'loth'), (1, 'lot,'), (1, 'lost;'), (1, 'lost:'), (1, 'loss'), (1, 'losing'), (1, 'loses'), (1, 'loser?'), (1, 'lose.'), (1, 'lordship?'), (1, 'lordship.'), (1, 'lordship,'), (1, 'lordship!'), (1, \"lord?'\"), (1, 'loosed'), (1, 'loose!'), (1, 'loose'), (1, 'looked'), (1, 'look?'), (1, 'longer.'), (1, 'longer,--married'), (1, 'longed'), (1, 'long;'), (1, 'long:--but'), (1, 'long.'), (1, 'loneliness.--We'), (1, 'loins,'), (1, 'loggets'), (1, 'lofty'), (1, 'lodge,'), (1, \"lodg'd\"), (1, 'locks'), (1, \"lock'd:\"), (1, \"lock'd,\"), (1, 'loathsome'), (1, 'loan'), (1, 'loam;'), (1, 'loam'), (1, 'load'), (1, 'lo!'), (1, 'livery,'), (1, 'lived,'), (1, 'live;'), (1, 'live.'), (1, 'live,'), (1, \"liv'st;\"), (1, \"liv'd!\"), (1, 'littlest'), (1, 'little,'), (1, 'lists,'), (1, 'list!--'), (1, 'lisp,'), (1, 'liquor.'), (1, 'liquor'), (1, 'liquid'), (1, 'lips,'), (1, 'lips'), (1, \"lion's\"), (1, \"link'd,\"), (1, 'lines.'), (1, 'line;--let'), (1, 'line'), (1, 'limed'), (1, 'limbs,'), (1, 'limbs'), (1, 'likewise'), (1, 'likeness:'), (1, 'likely.'), (1, 'likely,'), (1, 'likelihood'), (1, 'like:--it'), (1, 'lights,'), (1, 'lights!'), (1, 'lights'), (1, 'lightness;'), (1, 'lightest'), (1, 'lighted'), (1, 'light:--away!'), (1, 'light.'), (1, 'light!'), (1, 'lifted'), (1, 'life?'), (1, 'life:'), (1, 'life-rendering'), (1, 'life,--'), (1, 'liest.'), (1, 'liegemen'), (1, 'liege:'), (1, 'lief'), (1, 'lids'), (1, 'lick'), (1, 'license,'), (1, 'liberty;'), (1, 'liberty.'), (1, 'liberty,'), (1, 'libertine,'), (1, 'liar;'), (1, 'lewdness'), (1, 'levies;'), (1, 'levies,'), (1, 'levied'), (1, 'letters;'), (1, 'letter'), (1, 'lesson'), (1, 'lesser'), (1, 'leperous'), (1, 'lenten'), (1, 'length?'), (1, 'length;'), (1, 'lender'), (1, 'leisure.'), (1, 'leisure,'), (1, 'legs.'), (1, 'left.'), (1, 'lecture'), (1, 'lecherous,'), (1, 'leaves,'), (1, 'leave,'), (1, 'learning;'), (1, 'leaping'), (1, 'leans'), (1, 'lean'), (1, 'leads'), (1, 'lazar-like,'), (1, 'lays'), (1, 'lawyer?'), (1, 'law?'), (1, 'law;'), (1, 'law.'), (1, 'law,'), (1, \"law's\"), (1, 'late?'), (1, 'late:'), (1, 'late.'), (1, 'late,--but'), (1, 'late,'), (1, 'lasting;'), (1, 'lasting'), (1, 'last;'), (1, 'last,--a'), (1, 'last,'), (1, 'lash'), (1, 'larger'), (1, 'large'), (1, 'lapwing'), (1, \"laps'd\"), (1, 'lank'), (1, 'lands,'), (1, 'land;'), (1, 'land.'), (1, 'lament;'), (1, 'lament'), (1, 'lain'), (1, 'ladyship'), (1, 'lady.'), (1, \"lady's\"), (1, 'lads,'), (1, 'ladies'), (1, 'lacks'), (1, 'lack.'), (1, \"lack'd\"), (1, 'laboursome'), (1, 'labour:'), (1, \"labour'd\"), (1, 'labour'), (1, 'la,'), (1, 'knows'), (1, 'known;'), (1, 'known.'), (1, 'known,'), (1, 'knowledge'), (1, 'knowing'), (1, 'knowest'), (1, \"know't,\"), (1, \"know';\"), (1, 'knotted'), (1, 'knocking'), (1, 'knocked'), (1, 'knock'), (1, 'knight'), (1, 'knife'), (1, \"knew'st\"), (1, 'knees;'), (1, 'knees'), (1, 'kneels.]'), (1, 'kneels,'), (1, 'knee'), (1, 'knaves,'), (1, 'knavery.'), (1, 'knavery!'), (1, 'kites'), (1, 'kisses,'), (1, \"kiss'd\"), (1, 'kings;'), (1, 'kings'), (1, 'kingly'), (1, 'kingdom,'), (1, 'king?--Sirs,'), (1, 'king,--'), (1, 'kindless'), (1, 'kind:'), (1, 'kind!'), (1, 'kin.'), (1, 'kin,'), (1, 'killed'), (1, \"kill'd:\"), (1, \"kill'd,\"), (1, 'kick'), (1, 'kibe.--How'), (1, 'key'), (1, 'kettle-drum'), (1, 'kettle'), (1, 'keep,'), (1, 'keen.'), (1, 'keen,'), (1, 'justice;'), (1, 'juice'), (1, 'juggled'), (1, 'judicious'), (1, 'judgments,'), (1, 'judgment:'), (1, 'judgment.'), (1, 'judges,'), (1, 'judge;'), (1, 'joys,'), (1, 'joys'), (1, 'joyfully'), (1, 'joy,'), (1, 'jowls'), (1, 'journeys'), (1, 'journeymen'), (1, 'jot;'), (1, 'jot'), (1, 'jointress'), (1, 'jointly'), (1, 'joint:--O'), (1, 'joint-labourer'), (1, 'jocund'), (1, 'jig-maker!'), (1, 'jig,'), (1, 'jig'), (1, 'jester.'), (1, 'jest;'), (1, 'jelly'), (1, 'jealousy!'), (1, 'jealousy'), (1, 'jaws'), (1, 'jawbone,'), (1, 'jaw;'), (1, 'jangled,'), (1, 'jade'), (1, 'itself?'), (1, 'it?--'), (1, 'it:--stay,'), (1, 'it.--You'), (1, 'it,--might'), (1, 'it,--let'), (1, 'it,--I'), (1, 'is;--and'), (1, 'is:--we'), (1, 'is,--'), (1, \"is't;\"), (1, \"is't--crowner's\"), (1, 'invulnerable,'), (1, 'invites'), (1, 'invite'), (1, 'invisible'), (1, 'investments'), (1, \"inventors'\"), (1, 'inventorially'), (1, 'intruding'), (1, 'into,'), (1, 'interpret'), (1, 'interim'), (1, 'inter'), (1, 'intents'), (1, 'intent;'), (1, 'intent'), (1, 'intend'), (1, 'instrumental'), (1, 'instructs'), (1, 'instantly'), (1, 'instances'), (1, 'instance'), (1, 'insolence'), (1, 'insinuation'), (1, 'insert'), (1, 'inquiry'), (1, 'inoculate'), (1, 'innovation.'), (1, 'innocent'), (1, 'inmost'), (1, 'inky'), (1, 'inhibition'), (1, 'inheritor'), (1, 'inheritance'), (1, 'ingenious'), (1, 'infusion'), (1, 'influence'), (1, 'infected,'), (1, 'infect'), (1, 'infants'), (1, 'infallibly'), (1, 'inexplicable'), (1, \"indu'd\"), (1, 'individable,'), (1, 'indite'), (1, 'indiscretion'), (1, 'indirections'), (1, 'indifferently'), (1, 'index?'), (1, 'indentures?'), (1, 'increase'), (1, 'incorrect'), (1, \"incorps'd\"), (1, 'incorporal'), (1, 'incontinency;'), (1, 'inclining?'), (1, \"inclin'd.--\"), (1, 'inch'), (1, 'incest.'), (1, 'incensed'), (1, \"incens'd.--Let\"), (1, \"incens'd.\"), (1, 'incapable'), (1, \"in-urn'd,\"), (1, 'in,--the'), (1, 'in,--he'), (1, \"in't;--\"), (1, \"in't;\"), (1, \"in't:\"), (1, \"in't.--\"), (1, \"in't.\"), (1, \"in't\"), (1, 'imputation'), (1, 'impression;'), (1, 'impress'), (1, 'impotent'), (1, 'impotence'), (1, 'imposthume'), (1, 'importunity.'), (1, 'importunate;'), (1, \"importun'd\"), (1, 'important'), (1, 'implorators'), (1, 'implements'), (1, 'impious'), (1, 'impetuous'), (1, 'imperial'), (1, 'imperfections'), (1, 'impatient;'), (1, 'impasted'), (1, 'impartment'), (1, 'immortal'), (1, 'imminent.'), (1, 'imminent'), (1, 'immediately.'), (1, 'imitated'), (1, 'imagine,--'), (1, 'imaginations'), (1, 'imagination.'), (1, 'illusion!'), (1, 'illume'), (1, 'ills'), (1, 'ill:'), (1, 'ill-breeding'), (1, 'ignorant,--'), (1, 'ignorant,'), (1, 'ignorant'), (1, 'ignorance;'), (1, 'ignorance.'), (1, 'ignorance'), (1, 'if,'), (1, 'idol,'), (1, 'idle:'), (1, 'ice.'), (1, 'ice,'), (1, 'hypocrites,--'), (1, 'hypocrite;'), (1, 'hush'), (1, 'husbands.--Begin,'), (1, 'husbandry.'), (1, 'husband.--Look'), (1, 'husband,'), (1, 'hurts'), (1, 'hurt.'), (1, 'hurt'), (1, 'hung'), (1, 'hundred.'), (1, 'hundred'), (1, 'humour,'), (1, 'humorous'), (1, 'humble,'), (1, 'humanity'), (1, 'hugger-mugger'), (1, 'huge'), (1, 'hue'), (1, 'howsoever'), (1, 'howling.'), (1, 'how?'), (1, 'how.'), (1, 'how,'), (1, 'hover'), (1, 'houses'), (1, \"house's\"), (1, 'hours.'), (1, 'hours'), (1, 'hourly'), (1, 'hour.'), (1, 'hot.'), (1, 'host'), (1, 'horses:'), (1, 'horses'), (1, 'horseback:'), (1, 'horse,--'), (1, 'horse,'), (1, 'horse'), (1, 'horrors,--he'), (1, 'horrible'), (1, 'hopes;'), (1, 'hope!'), (1, \"hop'd\"), (1, 'hoops'), (1, 'hoodman-blind?'), (1, 'honours.'), (1, 'honoured'), (1, 'honourable.'), (1, 'honour,--'), (1, 'honour,'), (1, \"honour's\"), (1, 'honeying'), (1, 'honey'), (1, 'honesty?'), (1, 'honest?'), (1, 'honest;'), (1, 'honest.'), (1, 'honest,'), (1, 'home,'), (1, 'home!'), (1, 'homage'), (1, 'hollow'), (1, 'hole'), (1, 'holds,'), (1, 'hold,'), (1, \"hold'st\"), (1, 'hobby-horse,'), (1, 'hobby-horse'), (1, 'hoar'), (1, 'hits:'), (1, 'hits.'), (1, 'hits'), (1, 'hither'), (1, 'hit;'), (1, 'hit.'), (1, 'history.'), (1, 'history,'), (1, 'historical-pastoral,'), (1, 'his;'), (1, 'his:'), (1, 'hire'), (1, 'hinges'), (1, 'himself.--'), (1, 'him?'), (1, 'him;--do'), (1, \"him;--but,'\"), (1, 'him.]'), (1, 'hilts,'), (1, 'hill'), (1, 'highness;'), (1, 'highly,--not'), (1, 'highest'), (1, 'higher'), (1, 'hies'), (1, 'hideous,'), (1, 'hideous'), (1, 'hide?'), (1, 'hid,'), (1, 'hid'), (1, 'hey-day'), (1, 'hey'), (1, 'herself:'), (1, 'heroes'), (1, 'herein;'), (1, 'hereafter'), (1, 'here.--Gracious,'), (1, 'here.'), (1, 'here,--'), (1, 'herb'), (1, 'heraldry,'), (1, 'heraldry'), (1, 'herald'), (1, 'hent:'), (1, 'hence:'), (1, 'hems,'), (1, 'helps'), (1, 'helpful'), (1, 'help!'), (1, 'hellish'), (1, 'hell?'), (1, 'heir'), (1, 'height,'), (1, 'heel,'), (1, 'heel'), (1, 'heedful'), (1, 'hedge'), (1, 'hectic'), (1, 'hebenon'), (1, 'heavy-headed'), (1, 'heavy,'), (1, 'heavily'), (1, 'heaves'), (1, 'heaven:'), (1, 'heaven-kissing'), (1, \"heaven's\"), (1, 'heaven!--'), (1, 'heaven!'), (1, 'heathen?'), (1, 'heat,--extinct'), (1, 'heat,'), (1, 'hearts,'), (1, 'hearts'), (1, 'heartily;'), (1, 'heartily.'), (1, 'heartily'), (1, 'heartache,'), (1, 'heart.--Good'), (1, 'heart,--for'), (1, \"heart's\"), (1, 'hearsed'), (1, 'hearers?'), (1, 'hearers'), (1, 'hearer:'), (1, 'healthful'), (1, 'health.--'), (1, 'health,'), (1, 'head;'), (1, 'head:'), (1, 'head.]'), (1, 'head-shake,'), (1, 'he.'), (1, 'he,--and'), (1, \"he'll\"), (1, 'hawk'), (1, 'havoc.--O'), (1, 'having'), (1, 'have.'), (1, \"have't.--\"), (1, 'haunt'), (1, 'hate'), (1, 'hatchment'), (1, 'hatch'), (1, 'hat.]'), (1, 'hat'), (1, 'hasty'), (1, 'hasten'), (1, 'hart'), (1, 'harshly'), (1, 'harsh;'), (1, 'harsh'), (1, 'harrows'), (1, 'harrow'), (1, 'harping'), (1, 'harmony;'), (1, \"harlot's\"), (1, 'harlot'), (1, 'hardy'), (1, 'hard;'), (1, 'harbingers'), (1, 'haps,'), (1, 'happiness'), (1, 'happily,'), (1, 'happen.'), (1, 'hap'), (1, 'hangers.'), (1, 'hangers,'), (1, 'hangers'), (1, 'hang,'), (1, 'handsome'), (1, 'handsaw.'), (1, 'hands:'), (1, 'hands.'), (1, 'hand?'), (1, 'hand.'), (1, 'hand,--sends'), (1, 'hand!'), (1, 'hams:'), (1, 'hammers'), (1, 'halt'), (1, \"hallow'd\"), (1, 'halfpenny.'), (1, 'half.'), (1, 'hairs,'), (1, 'hair'), (1, 'habits'), (1, 'habit,'), (1, \"ha't:\"), (1, \"ha't\"), (1, 'ha!--Come,'), (1, 'ha!'), (1, 'ha'), (1, 'gyves'), (1, 'gum;'), (1, 'gulf'), (1, 'gules;'), (1, 'guiltless'), (1, 'guilt,'), (1, 'guards!--What'), (1, 'guarded,'), (1, 'guard?'), (1, 'guard,'), (1, 'guard'), (1, 'grunt'), (1, \"grows'--the\"), (1, 'growing'), (1, 'grow:'), (1, 'grounds'), (1, 'groundlings,'), (1, 'ground?'), (1, 'ground:'), (1, 'ground.--'), (1, 'ground,as'), (1, 'grossly,'), (1, 'grosser'), (1, 'groans:'), (1, 'groaning'), (1, 'groan.'), (1, 'grizzled,--no?'), (1, 'grinning?'), (1, 'grinding'), (1, 'grieves,'), (1, 'grieve;'), (1, 'grieve'), (1, \"griev'd,--\"), (1, 'griefs'), (1, 'grief:'), (1, 'grey'), (1, 'grew'), (1, 'greetings'), (1, 'greeting'), (1, 'greeted,'), (1, 'greet'), (1, 'greenly'), (1, 'green,'), (1, 'greatness'), (1, 'greatly'), (1, 'graveness.--Two'), (1, 'grave.'), (1, 'grave-making?'), (1, 'grave-makers:'), (1, 'grave-maker?'), (1, \"grave-maker;'\"), (1, 'grave,'), (1, \"grave's\"), (1, 'gratis;'), (1, 'grapple'), (1, 'grant'), (1, 'grandsire'), (1, 'grand'), (1, 'grained'), (1, 'gracious;'), (1, 'graces;'), (1, 'graces'), (1, 'grace;'), (1, 'govern'), (1, 'gorge'), (1, 'gore,'), (1, 'goose-quills'), (1, 'goodness,'), (1, 'goodness'), (1, 'goodman'), (1, 'good-will'), (1, 'good-night:'), (1, 'good-night.--Indeed,'), (1, 'good-night.--'), (1, 'good!'), (1, 'gone?'), (1, 'gone:'), (1, 'gone!'), (1, 'gold,'), (1, 'goes.'), (1, 'goes,--mark'), (1, 'gods.'), (1, 'gods,'), (1, 'gods'), (1, 'godlike'), (1, 'god-kissing'), (1, 'god!'), (1, 'goblins'), (1, 'goblin'), (1, 'glowworm'), (1, 'glow;'), (1, 'globe.'), (1, 'glimpses'), (1, 'gleaned,'), (1, 'glean,'), (1, 'glassy'), (1, 'glares!'), (1, 'giving'), (1, 'givers'), (1, 'give,'), (1, 'girl,'), (1, 'girdle,'), (1, 'gilded'), (1, 'gifts;'), (1, 'gifts,--'), (1, 'gifts,'), (1, 'gibes'), (1, 'gibber'), (1, 'gib,'), (1, 'giant-like?--'), (1, \"ghost's\"), (1, 'ghost!'), (1, 'gets'), (1, 'gestures'), (1, 'german'), (1, 'gentry;'), (1, 'gentry'), (1, 'gently:'), (1, 'gentlewoman,'), (1, 'gentlemen;--'), (1, 'gentlemen!'), (1, 'gentleman;'), (1, \"gentleman.'\"), (1, 'gentleman,'), (1, 'generous,'), (1, 'general;'), (1, 'gender'), (1, 'gem'), (1, \"gave't\"), (1, 'gaudy:'), (1, 'gather'), (1, 'gates'), (1, \"garrison'd.\"), (1, 'garments,'), (1, 'garlands'), (1, 'garland'), (1, 'gardeners,'), (1, 'garden,'), (1, 'garden'), (1, 'garbage.'), (1, 'garb;'), (1, 'gape'), (1, 'gaming;'), (1, 'gambols?'), (1, 'gambol'), (1, 'gallows-maker;'), (1, 'galled'), (1, 'gallant'), (1, \"gall'd\"), (1, 'gain-giving'), (1, 'gaged'), (1, 'fust'), (1, 'further?'), (1, 'further.'), (1, 'further,'), (1, 'furnish'), (1, 'funeral.'), (1, 'funeral,'), (1, 'funeral'), (1, 'functions'), (1, 'function'), (1, \"fulfill'd\"), (1, 'fruits'), (1, 'fruitful'), (1, 'frowningly?'), (1, \"frown'd\"), (1, 'frost'), (1, 'frontier?'), (1, 'front'), (1, 'from.'), (1, 'frock'), (1, 'frighted'), (1, 'friendship,'), (1, 'friends;'), (1, 'friends:'), (1, 'friends.--O,'), (1, 'friending'), (1, 'friend?'), (1, 'friend.'), (1, 'friend,'), (1, 'friend!'), (1, 'fretted'), (1, 'fretful'), (1, 'fret'), (1, 'freeze'), (1, 'freely;'), (1, 'freely,'), (1, 'free;'), (1, 'free-footed.'), (1, 'free,'), (1, 'frame'), (1, 'fox,'), (1, 'found,'), (1, \"foul'd,\"), (1, 'fought'), (1, 'forward'), (1, 'forty,'), (1, 'forty'), (1, 'fortune?'), (1, 'fortune;'), (1, 'fortune:'), (1, 'forts'), (1, 'fortified'), (1, 'forthwith'), (1, 'forth.--'), (1, 'forth,'), (1, 'forms'), (1, 'former,'), (1, 'formal'), (1, 'forgotten'), (1, 'forgot:'), (1, 'forgot,'), (1, \"forgot!'\"), (1, 'forgone'), (1, 'forgiveness'), (1, 'forgetting'), (1, 'forget.'), (1, 'forgery'), (1, 'forgeries'), (1, 'forged'), (1, \"forg'd\"), (1, 'forfeit,'), (1, 'forestalled'), (1, 'forestall'), (1, 'forest'), (1, 'foresaid'), (1, 'foreknowing'), (1, 'foreign'), (1, 'fordoes'), (1, 'forcing'), (1, 'force,--'), (1, 'forbear'), (1, 'for;'), (1, \"for't:\"), (1, \"for't.\"), (1, 'foot;'), (1, 'foot.'), (1, 'foot'), (1, 'fools!'), (1, 'fools'), (1, 'foolery;'), (1, 'fool;'), (1, 'fool.'), (1, 'fool,'), (1, 'food,'), (1, 'food'), (1, 'fond'), (1, 'folly'), (1, 'follows:'), (1, 'follows'), (1, 'following;'), (1, 'following.]'), (1, 'followed?'), (1, 'followed'), (1, 'follow?'), (1, 'follow;'), (1, 'follow:--your'), (1, 'follow.'), (1, \"follow'd\"), (1, 'folk'), (1, 'foils,'), (1, 'foil,'), (1, 'foil'), (1, 'foh!--About,'), (1, 'foe,'), (1, 'foe'), (1, 'fly,'), (1, 'flushing'), (1, 'flush'), (1, 'flowers;'), (1, 'flowers:'), (1, 'flourishes,'), (1, 'flourish;'), (1, 'flourish.'), (1, 'flood,'), (1, 'flints,'), (1, 'flights'), (1, 'flies,'), (1, 'flesh;'), (1, 'flaxen'), (1, 'flaw!'), (1, 'flattering'), (1, 'flatter;'), (1, \"flatter'd?\"), (1, 'flats'), (1, 'flat,'), (1, 'flashes'), (1, 'flash'), (1, 'flagon'), (1, 'five,'), (1, 'fitting'), (1, 'fitted.'), (1, 'fitness'), (1, 'fit;'), (1, 'fit.'), (1, 'fishmonger:'), (1, 'fishmonger.'), (1, 'first.'), (1, 'first,'), (1, 'firmament,'), (1, 'firm'), (1, 'fires,'), (1, 'fire.'), (1, 'fire,--why,'), (1, 'fire!'), (1, 'fingers,'), (1, 'fine.'), (1, 'finding,'), (1, \"find'st\"), (1, 'film'), (1, 'fill.'), (1, 'filial'), (1, 'figure?'), (1, 'figure;'), (1, 'figure,'), (1, 'fight?'), (1, 'fifty,'), (1, 'fierce'), (1, 'fiends!'), (1, 'field,'), (1, 'fie!--Hold,'), (1, 'fie!'), (1, 'fie'), (1, 'fiction,'), (1, 'few,'), (1, 'fetters'), (1, 'fertile:'), (1, 'fennel'), (1, 'fencing,'), (1, 'female'), (1, 'fellowship,'), (1, 'fellowship'), (1, 'fellow:'), (1, 'fellow.--Whose'), (1, 'fellow-student.'), (1, 'fellow,'), (1, \"fellow's\"), (1, 'fellies'), (1, 'fell,'), (1, 'felicity'), (1, 'feet.]'), (1, 'feet,'), (1, 'feels'), (1, 'feelingly'), (1, 'feeling,'), (1, 'feel'), (1, 'feed?'), (1, 'feed,'), (1, 'fee.'), (1, 'feature'), (1, 'feats,'), (1, 'feathers--if'), (1, 'feather.'), (1, 'feast.'), (1, 'fearing'), (1, 'fearful'), (1, 'fear?'), (1, 'fear;'), (1, 'fear-surprised'), (1, \"fear'd\"), (1, 'fay,'), (1, 'fawning.'), (1, 'favours?'), (1, 'favours:'), (1, 'favourite'), (1, 'favour,'), (1, 'faults,'), (1, 'fault:'), (1, 'fatted'), (1, 'fatness'), (1, 'father:'), (1, 'father,--methinks'), (1, 'fates,'), (1, 'fates'), (1, 'fate,'), (1, 'fate'), (1, 'fat,'), (1, 'fast;'), (1, 'fast'), (1, 'fashion;'), (1, 'fashion.'), (1, 'fashion,'), (1, 'farewell:'), (1, 'farewell,'), (1, 'farewell!'), (1, 'farewell'), (1, 'fardels'), (1, 'far.'), (1, 'fantasy?'), (1, 'fantasy,'), (1, 'fantasy'), (1, 'fantastically'), (1, 'fantastic'), (1, 'fanned'), (1, \"fang'd,--\"), (1, 'fancy;'), (1, 'fancy:'), (1, 'fancy,'), (1, 'famous'), (1, 'familiar,'), (1, 'fame,'), (1, 'fame'), (1, 'falsely'), (1, 'falsehood'), (1, 'falls.'), (1, 'falling-off'), (1, 'falling'), (1, 'fall:'), (1, 'fall.'), (1, 'fall,'), (1, \"fall'n\"), (1, 'falconers,'), (1, 'faithful.'), (1, 'faith:'), (1, 'fairy'), (1, 'fairly'), (1, 'fair?'), (1, 'fair:'), (1, 'fail;'), (1, 'fail,'), (1, \"fail'd\"), (1, 'fadoms'), (1, 'faded'), (1, 'faculties!'), (1, 'faculties'), (1, 'faction'), (1, 'faces,'), (1, 'faces'), (1, 'face;'), (1, 'face.'), (1, 'face,'), (1, 'eyes:'), (1, 'eyes.--Pray'), (1, 'eyelids'), (1, 'eye;'), (1, 'eye!--'), (1, 'eyases,'), (1, 'extremity.'), (1, 'extremity'), (1, 'extravagant'), (1, 'extolment,'), (1, 'exterior'), (1, 'extent'), (1, 'extant,'), (1, \"express'd\"), (1, 'expostulate'), (1, 'exploit,'), (1, 'expense;'), (1, 'expend'), (1, 'expectancy'), (1, 'exit.'), (1, 'exhort'), (1, 'exercises;'), (1, 'excuse.--Ho,'), (1, 'excrements,'), (1, 'exclaim'), (1, 'exchange,'), (1, 'exception'), (1, 'excellence;'), (1, 'exceed'), (1, 'exactly,'), (1, 'exact'), (1, 'evil?'), (1, 'evil,'), (1, 'evil'), (1, 'evidence.'), (1, 'evermore,'), (1, 'ever:'), (1, 'ever.'), (1, 'ever-preserved'), (1, 'events,--'), (1, 'event;'), (1, 'event,--'), (1, 'eternity.'), (1, 'eterne,'), (1, 'et'), (1, 'estimation'), (1, \"esteem'd\"), (1, 'estate'), (1, 'essentially'), (1, 'espials,--'), (1, 'especially,'), (1, 'especially'), (1, 'especial'), (1, 'escoted?'), (1, 'eruption'), (1, 'errors'), (1, 'erring'), (1, 'err;'), (1, 'equivocation'), (1, 'enviously'), (1, 'envious'), (1, \"envenom'd:\"), (1, \"envenom'd\"), (1, 'envenom'), (1, 'entreaty.'), (1, 'entreaty,'), (1, 'entreatments'), (1, 'entreated'), (1, 'entrance'), (1, 'enters.]'), (1, 'enterprises'), (1, 'enterprise,'), (1, 'enterprise'), (1, 'enseamed'), (1, 'enough;'), (1, 'enough,'), (1, 'enmity'), (1, \"enlarg'd\"), (1, 'enginer'), (1, \"engag'd!\"), (1, 'enemy'), (1, 'enemies;'), (1, 'enemies.'), (1, 'endure'), (1, 'ends,'), (1, 'ends'), (1, 'ending,'), (1, 'ended.--'), (1, 'endeavour'), (1, 'end:'), (1, \"encumber'd\"), (1, 'encounter;'), (1, 'encounter:'), (1, \"encounter'd.\"), (1, 'encounter'), (1, 'encompassment'), (1, 'enactures'), (1, 'enact?'), (1, 'enact'), (1, 'emulate'), (1, 'empty'), (1, 'employment;'), (1, 'employment'), (1, 'employ'), (1, 'emphasis?'), (1, 'emperor'), (1, 'embracing'), (1, \"embark'd:\"), (1, 'else.'), (1, 'else,--be'), (1, 'else,'), (1, 'eloquent'), (1, 'eleven'), (1, 'element:'), (1, 'eldest'), (1, 'elder'), (1, 'eisel?'), (1, 'eight'), (1, 'egg-shell.'), (1, 'effects:'), (1, 'effects'), (1, 'effect;'), (1, 'edified'), (1, 'edge.'), (1, 'edge,'), (1, 'edge'), (1, 'ecstasy:'), (1, 'ecstacy'), (1, 'eclipse:'), (1, 'eats,'), (1, 'eaten:'), (1, 'eat,'), (1, 'easy;'), (1, 'easy'), (1, 'eastward'), (1, 'east'), (1, 'easing.'), (1, 'easiness.'), (1, 'easiness'), (1, 'easily'), (1, 'easier'), (1, 'ease'), (1, 'earthly'), (1, 'earth?'), (1, 'earth;--'), (1, 'earth;'), (1, 'earth.'), (1, 'ears;'), (1, 'ears.]'), (1, 'ears.'), (1, 'earnest'), (1, 'ear:'), (1, 'eale'), (1, \"e'er\"), (1, 'dying'), (1, 'dye'), (1, 'dwelling'), (1, 'duty?'), (1, 'duty,'), (1, 'duties'), (1, 'dust?'), (1, 'dust;'), (1, 'dust:'), (1, 'dust,'), (1, \"dupp'd\"), (1, 'dungeons,'), (1, 'dumb,'), (1, 'dulls'), (1, 'duller'), (1, 'dull,'), (1, \"duke's\"), (1, 'dug'), (1, 'due'), (1, 'ducats,'), (1, 'ducat,'), (1, 'dry,--'), (1, 'drunkards,'), (1, 'drunk'), (1, 'drum'), (1, 'drugs'), (1, 'drowns'), (1, \"drown'd?\"), (1, \"drown'd.\"), (1, \"drown'd,\"), (1, 'drossy'), (1, 'droppings'), (1, 'dropping'), (1, 'drop'), (1, 'drooping.'), (1, 'drives;'), (1, 'driven'), (1, 'drinking,'), (1, 'drink.--Hamlet,'), (1, 'drink.'), (1, 'drink!--O'), (1, 'drink!--I'), (1, 'drift;'), (1, 'dressed'), (1, 'dreamt'), (1, 'dreams.'), (1, 'dreams,'), (1, 'dreams'), (1, 'dream:--ay,'), (1, 'dream.'), (1, 'dreadfully'), (1, 'dreaded'), (1, 'draughts'), (1, 'dram'), (1, 'drains'), (1, 'dragging'), (1, \"dragg'd\"), (1, 'drab,'), (1, 'dowry,--'), (1, 'down?'), (1, 'down:--he'), (1, 'down-gyved'), (1, 'down,--'), (1, 'down!'), (1, 'dove,'), (1, 'dove!'), (1, 'douts'), (1, 'doubts'), (1, 'doubtful;'), (1, 'doubtful'), (1, 'doubt,'), (1, 'doublet'), (1, 'dotes'), (1, 'door.]'), (1, 'door.--O'), (1, 'door.'), (1, 'door,'), (1, 'doomsday.'), (1, 'doom,'), (1, \"donn'd\"), (1, 'done;'), (1, 'done:'), (1, 'done,--must'), (1, 'done!'), (1, 'dominions'), (1, 'dole,--'), (1, 'doing'), (1, 'dogs!'), (1, 'dog,'), (1, 'dog'), (1, 'does--What'), (1, 'document'), (1, 'doctor;'), (1, \"do;'\"), (1, 'do,--that'), (1, \"do't;--and\"), (1, \"do't:\"), (1, \"do't.--Dost\"), (1, \"do't.\"), (1, 'dizzy'), (1, 'divulging,'), (1, 'divine'), (1, 'ditchers,'), (1, 'distrust,'), (1, 'distrust'), (1, 'distress,'), (1, 'distraction.'), (1, 'distraction'), (1, 'distracted,'), (1, 'distract:'), (1, 'distinguish,'), (1, 'distilment;'), (1, \"distill'd\"), (1, 'distempered.'), (1, 'distemper?'), (1, 'distemper.'), (1, 'distemper'), (1, 'distant'), (1, 'distance.]'), (1, 'disposition.'), (1, 'disposition,'), (1, 'dispatch,'), (1, \"dispatch'd:\"), (1, 'dispatch'), (1, 'dismay.'), (1, 'dismantled'), (1, 'dislike'), (1, 'disjoint'), (1, 'dishes,'), (1, 'dish:'), (1, 'diseases'), (1, 'diseased:'), (1, 'disease,'), (1, 'discovery,'), (1, 'discourse?'), (1, 'discourse,'), (1, 'discord'), (1, 'disclose'), (1, \"disclos'd:\"), (1, \"disclos'd,\"), (1, 'disclaiming'), (1, 'disappointed,'), (1, 'dirty'), (1, 'dirt?'), (1, 'dirt.'), (1, 'dirge'), (1, 'directly'), (1, 'directions'), (1, 'dire'), (1, 'dipping'), (1, 'dip'), (1, 'diligence'), (1, 'dild'), (1, 'dilated'), (1, 'dignity:'), (1, 'dignity'), (1, \"digg'd:\"), (1, 'digested'), (1, 'different,'), (1, 'differences,'), (1, \"difference.--There's\"), (1, 'difference.'), (1, 'diet:'), (1, 'diet,'), (1, 'dies.--I'), (1, 'died:--they'), (1, 'died,'), (1, 'die,--as'), (1, 'didest'), (1, 'did.'), (1, 'diction'), (1, \"dicers'\"), (1, 'diameter,'), (1, 'dexterity'), (1, 'dews'), (1, 'dew!'), (1, \"devotion's\"), (1, 'devise'), (1, 'devil:'), (1, 'devil,'), (1, 'devil!'), (1, 'devices'), (1, 'device,'), (1, 'determine'), (1, 'determination'), (1, 'detecting,'), (1, 'destroy:'), (1, 'destroy!'), (1, 'despite'), (1, \"despis'd\"), (1, 'desperation,'), (1, 'desperation'), (1, 'desk'), (1, 'desirous'), (1, 'desires.'), (1, 'desire;'), (1, 'desire:'), (1, 'desire.'), (1, 'desire,'), (1, \"design'd,\"), (1, 'deserved'), (1, 'deserve,'), (1, 'desert.'), (1, 'desert,'), (1, 'deprive'), (1, 'depends'), (1, 'depend'), (1, 'departed'), (1, 'depart.'), (1, 'denote'), (1, 'denies'), (1, 'denied'), (1, 'demonstrated'), (1, \"demi-natur'd\"), (1, 'demands,'), (1, 'demands'), (1, 'demanded'), (1, 'delver,--'), (1, 'delve'), (1, 'delivered'), (1, 'deliver.'), (1, 'deliver,'), (1, \"deliver'd,\"), (1, 'delights.'), (1, 'delays'), (1, 'delay,'), (1, 'dejected'), (1, 'deject'), (1, 'defy'), (1, 'definement'), (1, 'define'), (1, 'defence?'), (1, 'defence,'), (1, 'defective'), (1, 'defeats'), (1, 'defeated'), (1, 'deer'), (1, 'deeply'), (1, 'deeds'), (1, 'deed;'), (1, 'deed,'), (1, 'deed!--almost'), (1, 'deed!'), (1, 'declining'), (1, 'declines'), (1, 'decline'), (1, 'declension,'), (1, \"deck'd,\"), (1, 'decayer'), (1, 'debt:'), (1, 'debatement'), (1, 'debate'), (1, 'deaths'), (1, 'death:'), (1, 'death-bed,'), (1, 'death,--'), (1, 'death!'), (1, 'dearth'), (1, 'dearly;'), (1, 'dearly'), (1, 'dear,'), (1, 'dealt'), (1, 'deal'), (1, 'dead?'), (1, 'dead;'), (1, 'dead:'), (1, 'dead!--nay,'), (1, 'dead!'), (1, 'days.'), (1, 'day?'), (1, 'day;'), (1, 'day:'), (1, 'day.'), (1, 'dawning'), (1, 'daughters,'), (1, 'daughter?'), (1, 'daughter:--yet'), (1, 'daughter.--My'), (1, 'daughter,--have'), (1, 'darkest'), (1, 'dark'), (1, 'dare,'), (1, \"dar'st\"), (1, 'dangerous,'), (1, 'danger:'), (1, 'danger.--'), (1, 'danger,'), (1, 'damnation:--to'), (1, 'damnable'), (1, \"damn'd,\"), (1, 'damn'), (1, 'dallying.'), (1, 'dally;'), (1, 'dalliance'), (1, 'daisy:--I'), (1, 'daisies,'), (1, 'daintier'), (1, 'daily'), (1, 'dagger.'), (1, 'cutpurse'), (1, 'cut'), (1, 'customary'), (1, 'custom?'), (1, 'custom,'), (1, 'curse'), (1, 'curls;'), (1, 'curiously'), (1, 'cure'), (1, 'curd,'), (1, 'cups;'), (1, 'cup.'), (1, 'cup'), (1, 'cunnings,--'), (1, 'cunning.'), (1, 'cuffs'), (1, 'cue'), (1, 'cuckold'), (1, 'cry!'), (1, 'crust'), (1, 'crows.]'), (1, 'crowns'), (1, 'crowner'), (1, 'crown.'), (1, 'crown'), (1, 'crowing'), (1, 'crowflowers,'), (1, 'cross'), (1, 'crook'), (1, 'crocodile?'), (1, 'croaking'), (1, 'crimeful'), (1, 'crier'), (1, 'cried,'), (1, 'crib'), (1, 'crew.'), (1, 'crew'), (1, 'crescent,'), (1, 'creep'), (1, 'credent'), (1, 'creatures'), (1, 'creation'), (1, 'crawling'), (1, 'craven'), (1, 'crash'), (1, 'crafty'), (1, 'crafts'), (1, 'craft.'), (1, 'craft'), (1, 'cracks'), (1, 'cracked'), (1, 'crack'), (1, 'crab,'), (1, \"cozenage--is't\"), (1, \"cozen'd\"), (1, 'cowards'), (1, 'coward?'), (1, 'coward,--I'), (1, \"cov'nant,\"), (1, 'cousin,'), (1, 'courtiers:'), (1, \"courtier's,\"), (1, 'courtier'), (1, 'courtesy'), (1, 'courteous'), (1, 'court?'), (1, 'court,'), (1, 'courses'), (1, 'course.'), (1, 'couplets'), (1, 'couple'), (1, 'countrymen.--'), (1, 'country.'), (1, 'country,'), (1, \"country's\"), (1, 'country'), (1, 'countries'), (1, 'counterfeit'), (1, 'counter,'), (1, 'countenance,'), (1, 'counsellor'), (1, 'counsel;'), (1, 'counsel.--Come,'), (1, 'counsel,'), (1, 'couched'), (1, 'couch'), (1, 'coted'), (1, 'corses'), (1, 'corse,'), (1, 'corruption'), (1, 'corrupted'), (1, 'corpse'), (1, 'coronet'), (1, 'coronation;'), (1, 'corner'), (1, 'core,'), (1, 'copied'), (1, \"cop'd\"), (1, 'cool'), (1, 'convoy'), (1, 'convocation'), (1, 'conveyances'), (1, 'conveyance'), (1, 'convey'), (1, 'converted'), (1, 'convert'), (1, 'converse,'), (1, 'conversation'), (1, 'conveniently.'), (1, 'convenience'), (1, 'contumely,'), (1, 'controversy:'), (1, 'contriving,'), (1, 'contrary'), (1, 'contraction'), (1, 'contracted'), (1, 'contract,'), (1, 'continual'), (1, 'contents,'), (1, 'content.'), (1, 'contend'), (1, 'containing'), (1, 'contagion,'), (1, 'consummation'), (1, 'constantly.'), (1, 'constant'), (1, 'consonancy'), (1, 'considered:'), (1, \"consider'd\"), (1, 'consequence;'), (1, \"consequence,'\"), (1, 'consequence,'), (1, \"consequence'--ay,\"), (1, 'consent:'), (1, 'consent!'), (1, 'consent'), (1, 'conscience;'), (1, 'conscience.'), (1, 'conscience!'), (1, 'conquest'), (1, 'conqueror:'), (1, 'conjuring'), (1, 'conjure'), (1, 'conjuration'), (1, 'conjunctive'), (1, \"conjoin'd,\"), (1, 'conjectures'), (1, 'congregation'), (1, 'confusion,'), (1, 'confront'), (1, 'confound'), (1, 'confines,'), (1, 'confine:'), (1, 'confine'), (1, \"confin'd\"), (1, 'confess.'), (1, 'confess,'), (1, 'conference.'), (1, 'condolement'), (1, 'conclusions,'), (1, 'concluded'), (1, 'concernings'), (1, 'concernancy,'), (1, 'conception'), (1, 'conceive:--friend,'), (1, 'conceited'), (1, 'conceit?'), (1, 'conceit.'), (1, 'conceit'), (1, \"conceal'd\"), (1, 'comrade.'), (1, 'compulsive'), (1, 'compulsatory,'), (1, 'compound'), (1, 'compost'), (1, \"compos'd\"), (1, 'complexion.'), (1, 'complexion,'), (1, 'complexion'), (1, 'complete'), (1, 'competent'), (1, 'compelled'), (1, \"compell'd,\"), (1, 'compass;'), (1, 'compare'), (1, 'company,'), (1, 'companions'), (1, 'companies'), (1, 'compact,'), (1, 'commutual'), (1, 'commune'), (1, 'common.'), (1, 'common,--all'), (1, 'commission:'), (1, 'commingled'), (1, 'commerce'), (1, 'comment'), (1, 'commended'), (1, 'commendable'), (1, 'commencement'), (1, 'commands'), (1, 'commandment:'), (1, 'commanded.'), (1, 'command?'), (1, 'command:'), (1, 'command,--'), (1, 'command,'), (1, 'comma'), (1, 'coming:'), (1, 'coming.'), (1, 'comfort'), (1, 'comest'), (1, 'comes;'), (1, 'comes:'), (1, 'comes!'), (1, 'come?'), (1, 'come;--'), (1, 'come!'), (1, 'combined'), (1, 'combination'), (1, 'combated;'), (1, 'combat;'), (1, \"com'st\"), (1, \"columbines:--there's\"), (1, 'colour;'), (1, 'colour:'), (1, 'colour,'), (1, 'collection;'), (1, 'collection,'), (1, 'collected,'), (1, 'collateral'), (1, 'cold;'), (1, 'cold.'), (1, 'coinage'), (1, 'coil,'), (1, 'cockle'), (1, 'cock.'), (1, 'coagulate'), (1, 'coach!--Good'), (1, 'clutch,'), (1, 'clowns'), (1, 'clown'), (1, 'clouts.'), (1, 'clout'), (1, 'cloud'), (1, 'clothes,'), (1, 'clothes'), (1, 'clothe'), (1, 'closet:'), (1, 'closely'), (1, 'close;'), (1, 'close,'), (1, 'close'), (1, 'cloak,'), (1, 'climature'), (1, 'cliff'), (1, 'clepe'), (1, 'clemency,'), (1, 'cleft'), (1, 'cleave'), (1, 'clearly'), (1, 'clear'), (1, 'clay,'), (1, \"claw'd\"), (1, 'clapped'), (1, 'clamour'), (1, 'claim'), (1, 'clad,'), (1, 'city?'), (1, 'city.'), (1, 'circumvent'), (1, 'circumstances'), (1, 'circumstance?'), (1, 'circumstance.'), (1, \"circumscrib'd\"), (1, 'cicatrice'), (1, 'churlish'), (1, 'churchyards'), (1, 'churchyard.'), (1, 'churches'), (1, 'church;'), (1, 'church.'), (1, 'chronicles'), (1, 'chough;'), (1, 'chorus,'), (1, 'chopine.'), (1, 'choice,'), (1, 'children?'), (1, 'children,'), (1, 'children'), (1, 'child.'), (1, 'child'), (1, 'chiefly'), (1, 'chiefest'), (1, 'chide,'), (1, 'cherub'), (1, 'cheek;'), (1, 'cheek,'), (1, 'checking'), (1, 'chaunted'), (1, 'chase.'), (1, 'charm;'), (1, 'charitable,'), (1, 'charitable'), (1, 'chariest'), (1, 'charge.'), (1, 'charge,--'), (1, \"character:--'Naked!'--\"), (1, 'character.'), (1, 'chapless,'), (1, 'chap-fallen?'), (1, 'chanson'), (1, 'changes,'), (1, 'changeling'), (1, 'change;'), (1, 'chance,'), (1, 'chance'), (1, \"chameleon's\"), (1, 'chamber.'), (1, 'chamber'), (1, 'challenger'), (1, 'chalice'), (1, 'certainty'), (1, 'certain.'), (1, 'ceremony:'), (1, 'cerements;'), (1, 'centre.'), (1, 'censure,'), (1, 'cellarage,--'), (1, 'cell,'), (1, 'celestial,'), (1, 'celestial'), (1, 'celebrated,'), (1, 'caviare'), (1, 'caution,--I'), (1, 'cautel'), (1, 'cause;'), (1, 'cause:'), (1, 'cataplasm'), (1, 'cat'), (1, 'casual'), (1, 'castle.'), (1, 'cases,'), (1, 'case,'), (1, 'carters.'), (1, 'cart'), (1, 'carrion,--Have'), (1, 'carries'), (1, 'carried'), (1, 'carriages?'), (1, 'carriages:'), (1, 'carriage'), (1, 'carp'), (1, 'carouses'), (1, 'carnal,'), (1, 'careless'), (1, 'carefully'), (1, 'card,'), (1, 'card'), (1, 'carbuncles,'), (1, 'captains'), (1, 'capons'), (1, 'capable.--Do'), (1, 'capable'), (1, 'capability'), (1, 'cap-a-pe,'), (1, 'canopy,'), (1, \"canoniz'd\"), (1, 'canon'), (1, 'cannot,'), (1, 'cannons'), (1, 'cannoneer'), (1, 'cannon,'), (1, 'candied'), (1, 'can;'), (1, 'can:'), (1, 'camel?'), (1, 'camel'), (1, 'calves'), (1, 'calumny.'), (1, 'calumnious'), (1, 'called'), (1, \"call't\"), (1, \"call'd;--unhand\"), (1, 'calf-skins'), (1, 'calf'), (1, 'calendar'), (1, 'calamity'), (1, 'cabin,'), (1, 'by.--They'), (1, 'by.'), (1, 'by-and-by.'), (1, \"by'r\"), (1, 'buzzers'), (1, 'buzz!'), (1, 'buyer'), (1, 'buy,'), (1, 'buttons'), (1, 'button.'), (1, 'busy'), (1, 'business,'), (1, 'burnt'), (1, 'burn,'), (1, 'buried,'), (1, 'burial,--'), (1, 'burial'), (1, 'burden!'), (1, 'bung-hole?'), (1, 'bulwark'), (1, 'bulk;'), (1, 'bulk'), (1, 'built'), (1, 'build'), (1, 'bugs'), (1, 'buffets'), (1, 'budge;'), (1, 'bubbles'), (1, 'brute'), (1, 'bruit'), (1, 'brows:'), (1, 'brow;'), (1, 'brow,'), (1, 'brought,'), (1, 'brothers.'), (1, 'brothers'), (1, 'brother;'), (1, 'brother,'), (1, 'brothel,--or'), (1, 'brook.'), (1, 'brook,'), (1, 'brood;'), (1, 'brooch'), (1, 'brokers,--'), (1, 'broken'), (1, 'broke;'), (1, 'broke.'), (1, 'brings'), (1, 'bringing'), (1, 'brief:--your'), (1, 'brief'), (1, 'bride-bed'), (1, 'brevity'), (1, 'breeding'), (1, 'breeder'), (1, 'breed.'), (1, 'breed'), (1, 'breathing'), (1, 'breathes'), (1, 'breathe;'), (1, 'breath?'), (1, 'breath;'), (1, 'breath.--'), (1, 'breast:'), (1, 'breaks,'), (1, 'breaks'), (1, 'breaking'), (1, 'break.'), (1, 'breadth'), (1, 'bread;'), (1, 'breach'), (1, 'brazen'), (1, \"braz'd\"), (1, 'bray'), (1, 'bravery'), (1, 'brave,'), (1, 'brands'), (1, 'branches;'), (1, 'brains.'), (1, 'brains,'), (1, 'brains!'), (1, 'brainish'), (1, 'brain:'), (1, 'brain!'), (1, 'boys'), (1, 'boy,'), (1, 'box;'), (1, 'bowl'), (1, 'bouts'), (1, 'bout'), (1, 'bourn'), (1, 'bounty.'), (1, 'bounteous;'), (1, 'bounds.'), (1, 'bounded'), (1, 'bought'), (1, 'boughs'), (1, 'both?'), (1, 'both;'), (1, 'botch'), (1, 'bosom:'), (1, 'bosom,'), (1, 'borrowing'), (1, 'borrower'), (1, \"borrow'd\"), (1, 'born,--it'), (1, 'born,--he'), (1, 'born'), (1, 'books,'), (1, 'book;'), (1, 'book'), (1, 'bonny'), (1, 'bonnet'), (1, 'bones'), (1, 'bonds'), (1, 'bold'), (1, 'boisterous'), (1, 'body?'), (1, 'body;'), (1, 'bodkin?'), (1, 'bodiless'), (1, 'bodikin,'), (1, 'bodies;'), (1, 'bodies.--Such'), (1, 'bodies,'), (1, 'bodes'), (1, 'boarded'), (1, 'board'), (1, 'blush?'), (1, 'blush'), (1, 'blurs'), (1, 'blunted'), (1, 'blue'), (1, 'blown,'), (1, 'blown'), (1, 'blow,'), (1, 'blossoms'), (1, 'bloodily'), (1, 'blood:'), (1, 'blood.--List,'), (1, 'blood,--'), (1, 'bloat'), (1, 'blister'), (1, 'blessing,'), (1, \"bles'd,\"), (1, \"bles'd\"), (1, 'blench,'), (1, 'bleeding'), (1, 'bleed.'), (1, 'bleed'), (1, 'blazon'), (1, 'blazes,'), (1, 'blaze,'), (1, 'blasts'), (1, 'blastments'), (1, 'blasted,'), (1, 'blanks'), (1, 'blanket,'), (1, 'blank,'), (1, 'blank'), (1, 'blame'), (1, 'blackest'), (1, 'bitter;'), (1, 'bites'), (1, 'bisson'), (1, 'birth:'), (1, 'birth,--wherein'), (1, 'birth,'), (1, 'birth'), (1, 'birds'), (1, 'bird,'), (1, 'bird'), (1, 'bilboes.'), (1, 'bier'), (1, 'bias,'), (1, 'bewept'), (1, 'beware'), (1, 'bevy'), (1, 'better,--their'), (1, 'better,'), (1, \"better'd,\"), (1, 'betoken'), (1, 'betimes?'), (1, 'bethought:'), (1, 'beteem'), (1, 'bet'), (1, 'bestowed?'), (1, \"bestow'd,\"), (1, 'bespeak:'), (1, 'besmirch'), (1, 'beshrew'), (1, \"beseech'd\"), (1, 'berattle'), (1, 'bent.--I'), (1, 'bent,'), (1, 'bent'), (1, 'benetted'), (1, 'benefit'), (1, 'beneath.'), (1, 'bended'), (1, 'below:'), (1, \"belov'd,\"), (1, 'bells'), (1, 'bellowed'), (1, 'bellow'), (1, 'belike'), (1, 'believe,'), (1, \"believ'd\"), (1, 'belief'), (1, 'being:'), (1, 'behove,'), (1, 'behooves'), (1, 'behold!'), (1, 'behind.--'), (1, 'behind,'), (1, 'behaviour.'), (1, 'behaviour'), (1, \"behav'd,\"), (1, 'begun.'), (1, 'begun,--'), (1, 'beguile.'), (1, 'beguile'), (1, 'begins,'), (1, 'begins'), (1, 'begin:--'), (1, 'begin.'), (1, 'begin'), (1, \"beggars'\"), (1, 'beggars'), (1, 'beggar.'), (1, \"beggar'd,\"), (1, 'beggar'), (1, 'beget'), (1, 'before.'), (1, 'befitted'), (1, \"befall'n?\"), (1, 'beetles'), (1, 'beer-barrel?'), (1, 'been,'), (1, 'bedtime,'), (1, 'beds;'), (1, 'bedded'), (1, 'bed-rid,'), (1, 'beckons.]'), (1, 'beck'), (1, 'because'), (1, 'became'), (1, 'beaver'), (1, 'beauty.'), (1, 'beauty,'), (1, 'beautified'), (1, 'beauties'), (1, 'beautied'), (1, 'beauteous'), (1, 'beats'), (1, 'beating;'), (1, 'beaten'), (1, 'beasts:'), (1, 'beasts,'), (1, 'beast:'), (1, 'beast,--'), (1, 'bears'), (1, 'bearing'), (1, 'beards;'), (1, \"beard.--Pr'ythee\"), (1, 'bear,'), (1, 'beam.'), (1, 'be;'), (1, \"be:'\"), (1, 'be:'), (1, 'be.--Sleeping'), (1, 'be.--Horatio,'), (1, 'be,--that'), (1, 'bawdy'), (1, 'bawds,'), (1, 'bawdry,'), (1, 'bawd'), (1, 'battlements'), (1, 'battery?'), (1, 'batten'), (1, 'battalions!'), (1, 'bated,'), (1, 'bat,'), (1, 'bat'), (1, 'bastard;'), (1, 'baseness'), (1, 'base;'), (1, 'base,'), (1, 'barren'), (1, \"barr'd\"), (1, \"bark'd\"), (1, 'bark'), (1, 'barefoot'), (1, \"barefac'd\"), (1, 'bare'), (1, \"barber's,\"), (1, 'bar'), (1, 'bank'), (1, 'bands.'), (1, 'ban'), (1, \"baker's\"), (1, \"bak'd\"), (1, 'bait'), (1, 'bade'), (1, 'bad,'), (1, 'backward.'), (1, 'backed'), (1, 'back?'), (1, 'back:'), (1, 'baby;'), (1, 'baby'), (1, 'babe!'), (1, 'aye;'), (1, 'ay,'), (1, 'axe,'), (1, 'axe'), (1, 'awry,'), (1, 'awhile.--'), (1, 'away?'), (1, 'away.--'), (1, 'away!--Go'), (1, 'awake,'), (1, 'avouch'), (1, 'avoid,'), (1, 'authorities.'), (1, 'auspicious'), (1, 'aunt-mother'), (1, 'augury:'), (1, 'aught:'), (1, 'aught.'), (1, 'aught,--'), (1, 'audit'), (1, 'audience.'), (1, 'audience,'), (1, 'attribute.'), (1, 'attractive.'), (1, 'attent'), (1, 'attended.'), (1, 'attend'), (1, 'asunder.'), (1, \"assur'd,\"), (1, \"assur'd\"), (1, 'associates'), (1, 'assistant,'), (1, 'assistant'), (1, 'assays'), (1, 'assay:'), (1, \"assay'd:\"), (1, 'assault.'), (1, 'assail'), (1, 'ass,--'), (1, 'aspect,'), (1, 'asleep;'), (1, 'asleep,'), (1, 'aslant'), (1, 'asking?'), (1, 'asking'), (1, 'asked'), (1, 'aside!--Here'), (1, 'ashamed'), (1, 'as,'), (1, \"as's\"), (1, 'artless'), (1, 'articles'), (1, 'article,'), (1, 'article'), (1, 'artery'), (1, 'art,'), (1, 'arrows,'), (1, 'arrows'), (1, 'arrow'), (1, \"arriv'd,\"), (1, 'arrests'), (1, 'arrest,--O,'), (1, 'arraign'), (1, 'army,'), (1, 'arms?'), (1, 'arms;'), (1, 'arms:'), (1, 'arms.'), (1, 'arms,'), (1, 'arms!'), (1, 'armour,'), (1, 'armed;'), (1, 'armed.]'), (1, 'armed'), (1, 'arm?'), (1, 'arm;'), (1, 'arithmetic'), (1, 'aright'), (1, 'argument?'), (1, 'argument,'), (1, 'argues'), (1, 'are,'), (1, 'are!'), (1, 'ardour'), (1, 'aptly'), (1, 'apt;'), (1, 'apt,'), (1, 'appurtenance'), (1, 'appointment'), (1, 'appliance'), (1, 'applaud'), (1, 'appetite'), (1, 'appears:--but'), (1, 'appears'), (1, 'appear.'), (1, 'apparel'), (1, 'appal'), (1, \"apoplex'd;\"), (1, 'apart,'), (1, 'apart'), (1, 'anything--but'), (1, 'anything,'), (1, 'anticipation'), (1, 'antic'), (1, 'answerest'), (1, 'answer;'), (1, \"answer'd?\"), (1, 'another?'), (1, 'another.'), (1, \"another's\"), (1, 'anon;'), (1, 'anoint'), (1, 'annual'), (1, 'annexment,'), (1, 'ankle;'), (1, 'animals!'), (1, 'angry'), (1, 'angle'), (1, 'anger.'), (1, 'angels!'), (1, 'angels'), (1, 'angel!'), (1, \"and'\"), (1, 'ancient'), (1, \"anchor's\"), (1, \"an't\"), (1, 'amities;'), (1, 'amiss:'), (1, 'amiss.'), (1, 'amen!'), (1, 'amble,'), (1, 'ambitious;'), (1, 'ambition;'), (1, 'ambition,'), (1, 'ambiguous'), (1, 'amber'), (1, 'ambassadors;'), (1, 'ambassador'), (1, 'amaze,'), (1, \"amaz'd\"), (1, 'am.'), (1, 'always'), (1, 'altogether.'), (1, 'altitude'), (1, 'also'), (1, 'already;'), (1, 'already,'), (1, 'aloof;'), (1, 'aloof'), (1, 'along:--or'), (1, 'alone;'), (1, 'allowed'), (1, 'allowance,'), (1, 'allowance'), (1, 'allow.'), (1, \"allow'd.\"), (1, 'alleys'), (1, 'allegiance!'), (1, 'all:--I'), (1, 'all:'), (1, 'all.--My'), (1, 'all,--to'), (1, 'alas!'), (1, 'alarm,'), (1, 'alarm'), (1, 'airy'), (1, 'airs'), (1, 'air;'), (1, 'air.--O,'), (1, \"aim'd\"), (1, 'aim'), (1, 'aid:'), (1, 'ah,'), (1, 'agreeing;'), (1, 'ago,'), (1, 'against,'), (1, \"again;--I'll\"), (1, 'again.--What'), (1, 'afterwards,'), (1, 'afternoon,'), (1, 'after.--To'), (1, 'after.'), (1, 'afraid'), (1, 'affrighted!'), (1, 'afflicts'), (1, 'affliction,'), (1, 'afflict'), (1, 'affections'), (1, 'affection'), (1, 'affectation;'), (1, 'affairs'), (1, 'affair:'), (1, 'affair.'), (1, 'afeard'), (1, 'afar'), (1, 'aery'), (1, 'advise'), (1, 'advice;'), (1, 'adventurous'), (1, 'advantage,'), (1, 'advances.]'), (1, 'advancement.'), (1, 'advancement'), (1, \"advanc'd\"), (1, 'adulterate'), (1, 'adoption'), (1, 'admittance'), (1, 'admit'), (1, 'admiration?'), (1, 'admiration.'), (1, 'admiration'), (1, 'admirable!'), (1, \"adjoin'd;\"), (1, 'adieu!--'), (1, 'adheres.'), (1, 'address'), (1, 'addition;'), (1, 'addition,'), (1, 'addition'), (1, 'adders'), (1, 'acts;'), (1, 'actor.'), (1, 'actively'), (1, 'action;'), (1, 'action.--Soft'), (1, 'action.'), (1, 'acting'), (1, 'acted;'), (1, 'act:'), (1, 'across?'), (1, 'acres'), (1, 'acquittance'), (1, 'acquire'), (1, 'acquaint'), (1, 'achievements,'), (1, 'ache'), (1, 'accuse'), (1, 'accurst!'), (1, 'accounted'), (1, 'account'), (1, 'according'), (1, 'accord'), (1, 'accidents;'), (1, 'accidental'), (1, 'accident,'), (1, 'access'), (1, 'accepts'), (1, 'abuse,'), (1, \"abus'd;\"), (1, 'absurd;'), (1, 'absurd'), (1, 'abstracts'), (1, 'abstinence:'), (1, 'abroad;'), (1, 'abridgment'), (1, 'above;'), (1, 'above,'), (1, 'about:'), (1, 'about,'), (1, 'abominably.'), (1, 'aboard;'), (1, 'able'), (1, 'ability'), (1, 'abhorred'), (1, 'abatements'), (1, 'abate'), (1, 'a-work;'), (1, 'a-piece'), (1, 'a-making,--'), (1, 'a-foot,'), (1, \"a-down-a.'\"), (1, 'a-down,'), (1, 'a-cursing'), (1, '[to'), (1, '[Writing.]'), (1, '[Within]'), (1, '[Takes'), (1, '[Stabs'), (1, '[Sleeps.]'), (1, '[Scattering'), (1, '[Retiring'), (1, '[Retires'), (1, \"[Reads]'High\"), (1, '[Pours'), (1, '[Polonius'), (1, '[Points'), (1, '[Pointing'), (1, '[Makes'), (1, '[Lying'), (1, '[Laying'), (1, '[King'), (1, '[Hamlet'), (1, '[Grappling'), (1, '[Gives'), (1, '[Francisco'), (1, '[Flourish'), (1, '[Falls'), (1, '[Exeunt,'), (1, '[Draws.]'), (1, '[Draws'), (1, '[Digs'), (1, '[Danish'), (1, '[Breaking'), (1, '[Advancing.]'), (1, 'Youth'), (1, 'Yours,'), (1, \"Yorick's\"), (1, 'Yorick!--I'), (1, 'Yet,'), (1, 'Yaughan;'), (1, 'Wronging'), (1, 'Wouldst'), (1, 'Would,'), (1, 'Worse'), (1, 'Wormwood,'), (1, \"Worm's;\"), (1, 'Words,'), (1, 'Words'), (1, 'Wittenberg?'), (1, 'Wittenberg.'), (1, 'Witness'), (1, 'Without,'), (1, 'With,'), (1, 'Winner'), (1, 'Wilt'), (1, 'William'), (1, \"Will't\"), (1, 'Why?'), (1, 'Whom'), (1, \"Who's\"), (1, 'Whither'), (1, 'White'), (1, 'Whips'), (1, 'Whilst,'), (1, 'Whilst'), (1, 'While'), (1, 'Whereto'), (1, 'Whereof'), (1, 'Wherefore'), (1, \"Where's\"), (1, 'What?'), (1, 'Well;--again.'), (1, 'Weigh'), (1, 'Was,'), (1, \"Was't\"), (1, 'Walks'), (1, \"Vulcan's\"), (1, 'Visit'), (1, 'Vienna:'), (1, 'Videlicet,'), (1, 'Valentine.'), (1, \"Valentine's\"), (1, 'VII.'), (1, 'VI.'), (1, 'Use'), (1, 'Up,'), (1, 'Up'), (1, 'Until'), (1, 'Unsifted'), (1, 'Unpeg'), (1, \"Unmix'd\"), (1, 'Unless'), (1, 'Unite'), (1, \"Unhous'led,\"), (1, \"Ungart'red,\"), (1, 'Unbated'), (1, 'Tweaks'), (1, 'Tush,'), (1, 'Turk'), (1, 'Try'), (1, 'Truly,'), (1, 'Tropically.'), (1, 'Treason!'), (1, 'Treachery!'), (1, 'Transports'), (1, 'Trains,'), (1, \"To't.\"), (1, \"To't\"), (1, 'Time'), (1, 'Thyself'), (1, 'Thus:'), (1, 'Thrown'), (1, 'Through'), (1, 'Thrift,'), (1, 'Thoughts'), (1, 'Thought'), (1, 'Those'), (1, 'This?'), (1, 'This,'), (1, 'Think'), (1, 'Things'), (1, 'Thick'), (1, 'Thereto'), (1, 'Therefore,'), (1, 'There,--my'), (1, 'Then,'), (1, 'Thaw,'), (1, 'Termagant;'), (1, 'Tender'), (1, \"Tellus'\"), (1, 'Tears'), (1, 'Takes'), (1, 'Taken'), (1, 'Taint'), (1, 'Switzers?'), (1, 'Sweets'), (1, 'Sweet,'), (1, 'Sure'), (1, 'Sundays:--O,'), (1, 'Sunday'), (1, \"Subscrib'd\"), (1, 'Striking'), (1, 'Strengthen'), (1, 'Stoops'), (1, 'Stood'), (1, 'Stick'), (1, \"Stew'd\"), (1, 'Stay,'), (1, \"Stay'd\"), (1, 'Stay!'), (1, 'Start'), (1, 'Stand'), (1, 'Spurns'), (1, 'Sprung'), (1, 'Sprinkle'), (1, 'Sport'), (1, 'Speak;'), (1, 'Speak,'), (1, 'Soldiers,'), (1, 'Soldier'), (1, 'Soil'), (1, 'Sleep'), (1, 'Slanders,'), (1, 'Sits'), (1, 'Sit'), (1, 'Sir?'), (1, 'Singeing'), (1, 'Shows'), (1, 'Show'), (1, \"She's\"), (1, \"Shark'd\"), (1, 'Shards,'), (1, 'Shakespeare'), (1, 'Servant.'), (1, 'Servant'), (1, 'Sense,'), (1, 'Seneca'), (1, 'Seems,'), (1, 'Seeming'), (1, 'Seem'), (1, 'Seek'), (1, 'See,'), (1, 'Second'), (1, 'Season'), (1, 'Scripture?'), (1, 'Scripture'), (1, 'Say.'), (1, 'Saw'), (1, \"Saviour's\"), (1, 'Sailors.]'), (1, 'Safely'), (1, 'SCENE.'), (1, 'Run'), (1, 'Roughly'), (1, 'Rough-hew'), (1, 'Rosencrantz:'), (1, 'Rosencrantz.]'), (1, 'Rosencrantz!'), (1, 'Roscius'), (1, 'Ros,'), (1, 'Ros'), (1, 'Rome,--'), (1, 'Rome,'), (1, 'Robin'), (1, 'Rightly'), (1, 'Richer'), (1, 'Rich'), (1, 'Reynaldo?'), (1, 'Reynaldo.'), (1, \"Revisit'st\"), (1, 'Rest,'), (1, 'Resembles'), (1, 'Requite'), (1, 'Repugnant'), (1, 'Repent'), (1, 'Repast'), (1, 'Remorseless,'), (1, 'Refrain'), (1, 'Receives'), (1, \"Receiv'd\"), (1, 'Read'), (1, 'Re-speaking'), (1, 'Rashly,'), (1, 'Rapier'), (1, 'Rankly'), (1, 'REPRESENTED.'), (1, 'Quoth'), (1, 'Question'), (1, 'Queen?'), (1, 'Pyrrhus:--'), (1, 'Pyrrhus,--he'), (1, 'Pyrrhus,'), (1, \"Pursu'd\"), (1, 'Purpose'), (1, \"Pull'd\"), (1, 'Provincial'), (1, 'Propose'), (1, 'Prompted'), (1, 'Prologue.]'), (1, 'Prologue'), (1, 'Pro.'), (1, 'Prison,'), (1, 'Prince'), (1, 'Priam.--'), (1, 'Priam,'), (1, \"Priam's\"), (1, 'Pretty'), (1, 'Possess'), (1, \"Popp'd\"), (1, \"Polonius'\"), (1, 'Pole'), (1, 'Poland.'), (1, 'Polacks'), (1, 'Polack;'), (1, 'Polack:'), (1, 'Plucks'), (1, 'Pluck'), (1, 'Pleasant'), (1, 'Players.'), (1, 'Players,'), (1, 'Players'), (1, 'Player.]'), (1, 'Play'), (1, 'Plautus'), (1, 'Pity'), (1, 'Pinch'), (1, \"Phoebus'\"), (1, 'Perpend.'), (1, 'Perhaps'), (1, 'Perchance'), (1, 'Pelion'), (1, 'Peace;'), (1, 'Peace,'), (1, 'Pays'), (1, 'Patrick,'), (1, 'Passing'), (1, 'Part'), (1, 'Paris;'), (1, 'Pah!'), (1, 'PRINCE'), (1, 'PERSONS'), (1, 'Out,'), (1, 'Ossa'), (1, 'Osric;'), (1, 'Osric.'), (1, 'Osric'), (1, 'Or,--not'), (1, 'Or,'), (1, 'Ophelia:'), (1, 'Ophelia--'), (1, \"Ophelia,'--\"), (1, \"Ophelia's\"), (1, 'Ophelia!--Nymph,'), (1, 'Ophelia!--'), (1, 'Ophelia'), (1, 'Once'), (1, 'Olympus.'), (1, 'Old'), (1, 'Oft'), (1, 'Officers,'), (1, \"Offence's\"), (1, \"Odd's\"), (1, 'Occasion'), (1, 'OF'), (1, \"O'ermaster't\"), (1, \"O'erbears\"), (1, 'Nothing.'), (1, 'Nothing,'), (1, 'Norway?'), (1, 'Norway.'), (1, 'Normandy,--'), (1, 'Norman.'), (1, 'Norman'), (1, 'None,'), (1, 'No;'), (1, 'Niobe,'), (1, 'Niggard'), (1, 'Next,'), (1, 'New'), (1, 'Nero'), (1, 'Nephew'), (1, 'Nemean'), (1, 'Neither,'), (1, 'Neither'), (1, 'Nay'), (1, 'Nature'), (1, 'Mutes,'), (1, 'Must,'), (1, 'Murder!'), (1, 'Much'), (1, 'Mouse-trap.'), (1, 'Mourners'), (1, 'Mother'), (1, 'Moreover'), (1, 'Monday'), (1, 'Mine,'), (1, 'Millions'), (1, 'Might,'), (1, 'Might'), (1, 'Methought'), (1, 'Messengers,'), (1, 'Mercury'), (1, 'Meet'), (1, 'Meantime'), (1, 'May;'), (1, 'May!'), (1, 'Mass,'), (1, 'Mars,'), (1, \"Mars's\"), (1, 'Marcellus?'), (1, 'Marcellus.'), (1, 'Marcellus!'), (1, 'Man'), (1, 'Making'), (1, 'Madness'), (1, 'Lucianus.]'), (1, 'Lucianus,'), (1, 'Luc.'), (1, 'Love!'), (1, 'Lost'), (1, 'Lords.'), (1, 'Looks'), (1, 'Looking'), (1, 'Longer,'), (1, 'Lives'), (1, 'Lights,'), (1, 'Letters,'), (1, 'Lethe'), (1, 'Lest'), (1, 'Lends'), (1, 'Led'), (1, 'Last,'), (1, 'Last'), (1, 'Lamond.'), (1, 'Laertes]'), (1, 'Laertes:'), (1, 'Laertes,--'), (1, \"Laertes's\"), (1, \"Laertes'\"), (1, 'Laertes!'), (1, 'Lady,'), (1, 'Lady'), (1, 'Ladies,'), (1, 'Know'), (1, 'King,attended.]'), (1, \"King's\"), (1, 'Keeps'), (1, 'Judgment!'), (1, 'John-a-dreams,'), (1, 'Jephthah?'), (1, 'Itself'), (1, 'Italian;'), (1, 'Israel,'), (1, 'Is,'), (1, 'Infects'), (1, 'Indeed?'), (1, 'Indeed'), (1, 'Imperious'), (1, 'Illo,'), (1, 'Ilium,'), (1, 'If,'), (1, \"If't\"), (1, 'I?'), (1, 'I:'), (1, \"I've\"), (1, \"I'm\"), (1, 'Hyrcanian'), (1, \"Hyperion's\"), (1, 'Hyperion'), (1, 'Hymen'), (1, 'Hunts'), (1, 'Hum!'), (1, \"Howe'er\"), (1, 'Horatio?--'), (1, 'Horatio:--Welcome,'), (1, 'Horatio.--Wretched'), (1, 'Horatio,--or'), (1, 'Horatio!--'), (1, 'Hor.,'), (1, \"Honour'd,\"), (1, 'Honest,'), (1, 'Holla!'), (1, 'Holds'), (1, 'Holding'), (1, 'Hoist'), (1, 'Ho,'), (1, 'Himself'), (1, 'Hillo,'), (1, 'High'), (1, 'Hide'), (1, 'Hic'), (1, 'Hey'), (1, 'Herod:'), (1, 'Hercules:'), (1, 'Hecuba?'), (1, 'Hecuba.'), (1, 'Hecuba,'), (1, 'Hecuba'), (1, \"Hecate's\"), (1, 'Heavens'), (1, 'Hear'), (1, 'He.'), (1, 'Hazard'), (1, 'Having'), (1, 'Haste'), (1, 'Hast'), (1, 'Has'), (1, 'Hark'), (1, 'Happy'), (1, 'Happily'), (1, 'Haply'), (1, \"Hamlet.'--Come,\"), (1, 'Hamlet,--with'), (1, \"Hamlet's.]\"), (1, 'Hamlet!--'), (1, 'Half'), (1, 'Hail'), (1, 'Hadst'), (1, 'Ha!'), (1, 'HAMLET,'), (1, 'Guildenstern?'), (1, 'Guildenstern;--and'), (1, 'Guildenstern.'), (1, 'Guild.],'), (1, 'Guild.'), (1, 'Guil.,'), (1, 'Grows'), (1, \"Grop'd\"), (1, 'Grief'), (1, 'Greeks:'), (1, 'Grave-diggers.'), (1, 'Grating'), (1, 'Grapple'), (1, 'Good.'), (1, 'Gonzago:'), (1, \"Gonzago's\"), (1, \"Gonzago'?\"), (1, 'Gonzago'), (1, 'God.--God'), (1, 'God-a-mercy.'), (1, 'Gives'), (1, 'Given'), (1, 'Give,'), (1, 'Gis'), (1, 'Ghost,'), (1, 'Gertrude?'), (1, 'Gertrude:--'), (1, 'Gentlemen,'), (1, 'Gentlemen!--'), (1, 'Gentleman.]'), (1, 'Gentleman,'), (1, 'Full'), (1, 'Friend'), (1, 'Frenchman'), (1, 'French,'), (1, 'Free'), (1, 'Francisco.'), (1, 'Francisco,'), (1, 'France,'), (1, 'Forward,'), (1, 'Fortune!'), (1, 'Fortinbras:'), (1, 'Fortinbras,--'), (1, 'Forth'), (1, 'Form'), (1, 'Fordo'), (1, 'Forces.]'), (1, 'Forces'), (1, 'For,'), (1, 'Folded'), (1, \"Fix'd\"), (1, 'First.]'), (1, 'First,'), (1, 'First'), (1, \"Finger'd\"), (1, 'Finding'), (1, 'Fie!'), (1, 'Feeds'), (1, 'Father.'), (1, 'Farewell;'), (1, 'Farewell:'), (1, 'Farewell!'), (1, \"Fall'n\"), (1, 'Fall'), (1, 'Eyes'), (1, 'Extorted'), (1, 'Exposing'), (1, 'Excitements'), (1, 'Exchange'), (1, 'Excellent,'), (1, 'Excellent'), (1, 'Exceedingly,'), (1, 'Examples,'), (1, 'Everlasting'), (1, 'Enquire'), (1, 'England?'), (1, 'England:'), (1, \"England's\"), (1, 'England!--'), (1, 'Else'), (1, 'Ecstasy!'), (1, 'Eats'), (1, 'Ears'), (1, \"Drown'd,\"), (1, \"Drown'd!\"), (1, 'Drink'), (1, 'Dread'), (1, 'Drabbing:--you'), (1, \"Doom'd\"), (1, 'Do,'), (1, 'Divided'), (1, 'Discomfort'), (1, 'Disasters'), (1, 'Directly'), (1, 'Didst'), (1, 'Dido,'), (1, 'Devoutly'), (1, \"Devis'd\"), (1, 'Devil'), (1, \"Depriv'd\"), (1, 'Denmark?--What,'), (1, 'Denmark.--Madam,'), (1, 'Deliberate'), (1, 'Delay'), (1, 'Dear'), (1, 'Dead.'), (1, 'Dead'), (1, 'Daughter'), (1, \"Dar'd\"), (1, 'Danskers'), (1, 'Danish:'), (1, 'Dangerous'), (1, 'Danes'), (1, 'Dane;'), (1, 'Dane.--'), (1, 'Damon'), (1, 'DENMARK'), (1, \"Cyclops'\"), (1, 'Cut'), (1, 'Custom'), (1, 'Cudgel'), (1, 'Cry'), (1, 'Cries'), (1, 'Craves'), (1, 'Cousin'), (1, 'Couch'), (1, 'Costly'), (1, 'Cor.'), (1, 'Convert'), (1, 'Contagious'), (1, 'Contagion'), (1, 'Consent'), (1, 'Conscience'), (1, 'Conjures'), (1, 'Confound'), (1, 'Confess'), (1, 'Confederate'), (1, 'Compounded'), (1, 'Comes'), (1, \"Come:--'The\"), (1, 'Come.--Another'), (1, 'Collected'), (1, 'Colleagued'), (1, 'Clown.]'), (1, 'Claudius,'), (1, 'Claudio:--he'), (1, \"Clamb'ring\"), (1, 'Christians,'), (1, 'Christian.--Come,'), (1, 'Christian,'), (1, 'Charity,'), (1, 'Chamberlain.'), (1, 'Carve'), (1, 'Carrying,'), (1, 'Captain.'), (1, 'Captain,'), (1, 'Caps,'), (1, 'Capitol;'), (1, 'Cannot'), (1, 'Came'), (1, 'Calmly,'), (1, 'Calls'), (1, 'Call'), (1, \"Cain's\"), (1, 'Caesar;'), (1, 'Caesar,'), (1, 'By-and-by'), (1, \"By'r\"), (1, 'Buzz,'), (1, 'Buys'), (1, 'Burn'), (1, 'Brutus'), (1, 'Brief'), (1, 'Breathing'), (1, 'Bow,'), (1, 'Blasting'), (1, 'Blasted'), (1, 'Black'), (1, 'Bid'), (1, 'Beware'), (1, 'Bestow'), (1, 'Bestial'), (1, 'Besides,'), (1, 'Bernardo?'), (1, 'Bernardo!'), (1, 'Belike'), (1, 'Beggar'), (1, 'Becomes'), (1, 'Bears'), (1, \"Bear't\"), (1, 'Bear'), (1, 'Baptista:'), (1, \"Bak'd\"), (1, 'Away,'), (1, 'Away!'), (1, 'Awake'), (1, 'Attends'), (1, 'Attendants].'), (1, 'Attendants.'), (1, 'Attendant.]'), (1, 'At--closes'), (1, 'Assure'), (1, 'Assume'), (1, 'As,'), (1, 'Art'), (1, 'Armed'), (1, 'Arm'), (1, 'Appears'), (1, 'Antiquity'), (1, 'Answer,'), (1, 'Anon,'), (1, 'Angels'), (1, 'And,--would'), (1, 'Among'), (1, 'Ambassadors.'), (1, 'Ambassadors,'), (1, 'Ambassador.'), (1, 'Almost'), (1, 'Ah'), (1, 'Affront'), (1, 'Affection!'), (1, 'Admit'), (1, 'Adieu.'), (1, 'Adieu,'), (1, 'Addicted'), (1, \"Adam's\"), (1, 'Adam'), (1, 'Acts'), (1, 'Act'), (1, 'According'), (1, 'Abuses'), (1, 'Absent'), (1, \"AEneas'\"), (1, '--My'), (1, '--Leave'), (1, \"'would'\"), (1, \"'twould\"), (1, \"'twere--I\"), (1, \"'tween\"), (1, \"'tis,\"), (1, \"'should'\"), (1, \"'s\"), (1, \"'noyance;\"), (1, \"'not\"), (1, \"'havior\"), (1, \"'gins\"), (1, \"'gentleman'--\"), (1, \"'friend,'\"), (1, \"'friend\"), (1, \"'closes\"), (1, \"'beautified'\"), (1, \"'alone.'\"), (1, \"'While\"), (1, \"'Well,\"), (1, \"'We\"), (1, \"'Twill\"), (1, \"'To\"), (1, \"'Thus\"), (1, \"'Thine\"), (1, \"'There\"), (1, \"'One\"), (1, \"'O\"), (1, \"'Now\"), (1, \"'Mobled\"), (1, \"'Man\"), (1, \"'Lord\"), (1, \"'Laertes\"), (1, \"'It\"), (1, \"'In\"), (1, \"'If\"), (1, \"'Horatio,\"), (1, \"'Gainst\"), (1, \"'Fore\"), (1, \"'For,\"), (1, \"'Down\"), (1, \"'Doubt\"), (1, \"'Choose\"), (1, \"'As\"), (1, \"'And\"), (1, \"'Adieu,\"), (1, \"'A\"), (1, \"''Tis\"), (1, \"&c.'\"), (1, '&c,')]\n"
     ]
    }
   ],
   "source": [
    "file_name = input('Enter a filename')\n",
    "try:\n",
    "  filehandle = open(file_name)\n",
    "except:\n",
    "  print(\" Enter a valid filename\")\n",
    "  quit()\n",
    "word_list = []\n",
    "words = dict()\n",
    "for line in filehandle:#loopto add the words to the dictionary\n",
    "  Words = line.split()\n",
    "  for word in Words:\n",
    "    words[word] = words.get(word,0)+1\n",
    "for k,v in words.items():#loop to generate a list with (value,keys) pairs\n",
    "  word_list.append((v,k))\n",
    "word_list = sorted(word_list,reverse=True) #sorting the list in descendin order from greates to smallest\n",
    "for i in range(0,10):# printing the first ten frequently used words in the file\n",
    "  print(word_list[i])\n",
    "#alternatively\n",
    "for val,key in word_list[0:10]:\n",
    "  print(key,val)\n",
    "print(sorted([(v,k) for k,v in words.items()],reverse=True)) # one line code to sort the dictionary by values in descending order"
   ]
  },
  {
   "cell_type": "markdown",
   "metadata": {
    "colab_type": "text",
    "id": "7B_RVmMKs4AK"
   },
   "source": [
    "## Regular Expression RegEx"
   ]
  },
  {
   "cell_type": "code",
   "execution_count": null,
   "metadata": {
    "colab": {},
    "colab_type": "code",
    "id": "KNkUJ1D8nMl3"
   },
   "outputs": [],
   "source": []
  }
 ],
 "metadata": {
  "colab": {
   "name": "FreeCodeCamp.ipynb",
   "provenance": []
  },
  "kernelspec": {
   "display_name": "Python 3",
   "language": "python",
   "name": "python3"
  },
  "language_info": {
   "codemirror_mode": {
    "name": "ipython",
    "version": 3
   },
   "file_extension": ".py",
   "mimetype": "text/x-python",
   "name": "python",
   "nbconvert_exporter": "python",
   "pygments_lexer": "ipython3",
   "version": "3.8.5"
  }
 },
 "nbformat": 4,
 "nbformat_minor": 1
}
