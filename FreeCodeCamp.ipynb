{
 "cells": [
  {
   "cell_type": "code",
   "execution_count": 4,
   "metadata": {},
   "outputs": [
    {
     "name": "stdout",
     "output_type": "stream",
     "text": [
      "medium\n"
     ]
    }
   ],
   "source": [
    "x = 2\n",
    "if x < 2:\n",
    "    print('small')\n",
    "elif x < 10:\n",
    "    print('medium')\n",
    "elif x < 20:\n",
    "    print('large')\n",
    "else:\n",
    "    print('huge')"
   ]
  },
  {
   "cell_type": "code",
   "execution_count": 5,
   "metadata": {},
   "outputs": [
    {
     "name": "stdout",
     "output_type": "stream",
     "text": [
      "0\n",
      "123\n"
     ]
    }
   ],
   "source": [
    "# the try and except structure is used when we expect the code to blow up or run into an error.\n",
    "# When a part of code is included in the \"try\" block, the python skips that part if it encounters an error\n",
    "# and executes the code in the \"except\" block. If there is no error in the \"try\" block,\n",
    "# its executed and the \"execute\" block is neglected. If there are multiple lines in the \"try\" block\n",
    "# then all the lines leading up to the on with error will be executed and the \"except\" block\n",
    "# will be executed after that.\n",
    "str = 'bob'\n",
    "try:\n",
    "    num = int(str)\n",
    "except:\n",
    "    num = 0\n",
    "print(num)\n",
    "\n",
    "str = '123'\n",
    "try:\n",
    "    num = int(str)\n",
    "except:\n",
    "    num = 1\n",
    "print(num)"
   ]
  },
  {
   "cell_type": "code",
   "execution_count": 7,
   "metadata": {},
   "outputs": [
    {
     "name": "stdout",
     "output_type": "stream",
     "text": [
      "0.99\n"
     ]
    }
   ],
   "source": [
    "print(99/100)"
   ]
  },
  {
   "cell_type": "code",
   "execution_count": 9,
   "metadata": {},
   "outputs": [
    {
     "name": "stdout",
     "output_type": "stream",
     "text": [
      "Hello  ram\n"
     ]
    }
   ],
   "source": [
    "def greet(name):\n",
    "    print('Hello ', name)\n",
    "greet(\"ram\")\n"
   ]
  },
  {
   "cell_type": "code",
   "execution_count": 10,
   "metadata": {},
   "outputs": [
    {
     "name": "stdout",
     "output_type": "stream",
     "text": [
      "r\n",
      "r\n",
      "o\n",
      "y\n"
     ]
    }
   ],
   "source": [
    "name = [\"raj\",\"leonard\",\"Sheldon\",\"Betty\"]\n",
    "for i in name:\n",
    "    print(max(i))\n",
    "    "
   ]
  },
  {
   "cell_type": "markdown",
   "metadata": {},
   "source": [
    "# string slicing"
   ]
  },
  {
   "cell_type": "code",
   "execution_count": 11,
   "metadata": {},
   "outputs": [
    {
     "name": "stdout",
     "output_type": "stream",
     "text": [
      "Mont\n",
      "Monty P\n",
      "Monty Python\n",
      "ython\n",
      "Monty Python\n"
     ]
    }
   ],
   "source": [
    "word = 'Monty Python'\n",
    "print(word[0:4]) #0 through 4 not including 4\n",
    "print(word[0:7]) #0 through 7 not including 7\n",
    "print(word[0:])  #0 through the end\n",
    "print(word[7:])  #7 through the end\n",
    "print(word[:])   #from beginning till end"
   ]
  },
  {
   "cell_type": "markdown",
   "metadata": {},
   "source": [
    "# Using 'in' as a logical operator"
   ]
  },
  {
   "cell_type": "code",
   "execution_count": 13,
   "metadata": {},
   "outputs": [
    {
     "data": {
      "text/plain": [
       "True"
      ]
     },
     "execution_count": 13,
     "metadata": {},
     "output_type": "execute_result"
    }
   ],
   "source": [
    "fruit= 'banana'\n",
    "'n' in fruit #checks if the letter 'n' is there in banana and returns True\n",
    "'m' in fruit # checks if the letter 'm' is there in baanan and returns False\n",
    "'nana' in fruit # checks if the srting 'nana' is there in banana and returns True\n"
   ]
  },
  {
   "cell_type": "code",
   "execution_count": 22,
   "metadata": {},
   "outputs": [
    {
     "data": {
      "text/plain": [
       "[1, 2, 3, 4, 5]"
      ]
     },
     "execution_count": 22,
     "metadata": {},
     "output_type": "execute_result"
    }
   ],
   "source": [
    "x = [1,2,3,4,5]\n",
    "dir(x)\n",
    "x"
   ]
  },
  {
   "cell_type": "markdown",
   "metadata": {},
   "source": [
    "# Use the 'find' function and slice the string after the colon and convert the number into a floating point number"
   ]
  },
  {
   "cell_type": "code",
   "execution_count": 24,
   "metadata": {},
   "outputs": [
    {
     "name": "stdout",
     "output_type": "stream",
     "text": [
      "0.6789\n"
     ]
    }
   ],
   "source": [
    "str = 'X-DSAP Confidence : 0.6789'\n",
    "spos = str.find(':')\n",
    "num = str[spos+1:]\n",
    "num = float(num)\n",
    "print(num)"
   ]
  },
  {
   "cell_type": "code",
   "execution_count": null,
   "metadata": {},
   "outputs": [],
   "source": []
  }
 ],
 "metadata": {
  "kernelspec": {
   "display_name": "Python 3",
   "language": "python",
   "name": "python3"
  },
  "language_info": {
   "codemirror_mode": {
    "name": "ipython",
    "version": 3
   },
   "file_extension": ".py",
   "mimetype": "text/x-python",
   "name": "python",
   "nbconvert_exporter": "python",
   "pygments_lexer": "ipython3",
   "version": "3.7.3"
  }
 },
 "nbformat": 4,
 "nbformat_minor": 4
}
